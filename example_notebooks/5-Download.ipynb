{
 "cells": [
  {
   "cell_type": "markdown",
   "id": "928e44f7-b11c-4392-bb4f-832ea77f3855",
   "metadata": {
    "tags": []
   },
   "source": [
    "### asf_search - Downloading Data\n",
    "`asf_search` provides many ways to find data, but equally important is the ability to download that data. Fortunately, `asf_search` provides a simple interface through which to download data, using a variety of authentication methods.\n",
    "***\n",
    "## Before You Start\n",
    "The steps outlined in this demonstration assume `asf_search` is available in your environment. For guidance on installing `asf_search`, [begin here](./1-Basic_Overview.ipynb#Before-You-Start).\n",
    "\n",
    "Additionally, this section expects you to have an [Earthdata Login](https://urs.earthdata.nasa.gov/) account with the appropriate applications authorized, EULAs signed, and profile fields set. The easiest way to check that your EDL account is in order is to simply go to [Vertex](https://search.asf.alaska.edu) and download a product.\n",
    "\n",
    "Lastly, the examples in this notebook assume a few directories exist, namely `./downloads`, `./downloads1`, `./downloads2`, and `./downloads3`. You can create them yourself, or run the following code block:"
   ]
  },
  {
   "cell_type": "code",
   "execution_count": 1,
   "id": "db06fa80-4ac3-40b5-9787-256b422d49e6",
   "metadata": {
    "tags": []
   },
   "outputs": [],
   "source": [
    "from pathlib import Path\n",
    "dirs = ['downloads', 'downloads1', 'downloads2', 'downloads3']\n",
    "for d in dirs:\n",
    "    Path(d).mkdir(exist_ok=True)"
   ]
  },
  {
   "cell_type": "markdown",
   "id": "43588eb5-1dfc-4e82-8503-940bbbaffbb6",
   "metadata": {
    "tags": []
   },
   "source": [
    "***\n",
    "## ASFSession\n",
    "\n",
    "Because downloading any product in the ASF archive requires authentication, `asf_search` provides the `ASFSession` class, a subclass of `Session` with a few specific methods added to make authentication straightforward.\n",
    "\n",
    "A new, unauthenticated session can be created, although the authentication methods listed below allow chaining for direct creation of an authenticated session."
   ]
  },
  {
   "cell_type": "code",
   "execution_count": 2,
   "id": "38a2c671-0789-4e7c-b758-5b48745b2877",
   "metadata": {},
   "outputs": [],
   "source": [
    "import asf_search as asf\n",
    "\n",
    "session = asf.ASFSession()"
   ]
  },
  {
   "cell_type": "markdown",
   "id": "118f2976-fae9-481d-b8bf-6d35927f685a",
   "metadata": {},
   "source": [
    "### `auth_with_creds()`\n",
    "This authentication method accepts a username and password and establishes an authentication session with EDL and ASF."
   ]
  },
  {
   "cell_type": "code",
   "execution_count": 3,
   "id": "f4ea3b83-58cb-4baa-beb1-5ae272466ef1",
   "metadata": {},
   "outputs": [
    {
     "name": "stdout",
     "output_type": "stream",
     "text": [
      "Username:angelviolinist@berkeley.edu\n",
      "Password:········\n",
      "Success!\n"
     ]
    }
   ],
   "source": [
    "import getpass\n",
    "username = input('Username:')\n",
    "password = getpass.getpass('Password:')\n",
    "\n",
    "try:\n",
    "    user_pass_session = asf.ASFSession().auth_with_creds(username, password)\n",
    "except asf.ASFAuthenticationError as e:\n",
    "    print(f'Auth failed: {e}')\n",
    "else:\n",
    "    print('Success!')"
   ]
  },
  {
   "cell_type": "markdown",
   "id": "9ab80cec-237a-4517-bda6-5ca888e58ab8",
   "metadata": {},
   "source": [
    "### `auth_with_token()`\n",
    "This authentication method accepts an EDL Token which is then included as part of an `Authorization: Bearer` header on any downloads using this session. To generate an EDL Token, [sign in to EDL](https://urs.earthdata.nasa.gov/home), select the \"Generate Token\" tab, and then click the green \"Generate Token\" button. The token can then be copied and used below.\n",
    "  \n",
    "__Note:__ While it is extremely convenient, not all datapool hosts are compatible with this authentication method yet."
   ]
  },
  {
   "cell_type": "code",
   "execution_count": 4,
   "id": "3f1e9023-98ba-46c2-911b-4aa043947f3b",
   "metadata": {},
   "outputs": [
    {
     "name": "stdout",
     "output_type": "stream",
     "text": [
      "EDL Token:········\n"
     ]
    }
   ],
   "source": [
    "import getpass\n",
    "token = getpass.getpass('EDL Token:')\n",
    "\n",
    "token_session = asf.ASFSession().auth_with_token(token)"
   ]
  },
  {
   "cell_type": "markdown",
   "id": "4c0551b8-5319-437c-97cd-c7dee8d7c17e",
   "metadata": {},
   "source": [
    "### `auth_with_cookiejar()`\n",
    "This method accepts an `http.cookiejar` compatible object, such as a previously authenticated session stored for later re-use.\n",
    "\n",
    "For this demonstration, we will make use of the cookiejar from one of the previously authenticated sessions above:"
   ]
  },
  {
   "cell_type": "code",
   "execution_count": 5,
   "id": "fcedf4b8-f69f-4472-a96a-01a4c4e362da",
   "metadata": {},
   "outputs": [],
   "source": [
    "cookiejar = user_pass_session.cookies"
   ]
  },
  {
   "cell_type": "markdown",
   "id": "4a7466f1-4dd3-45cf-b47b-ec46d2c884e8",
   "metadata": {},
   "source": [
    "It is to be assumed that this cookiejar is perhaps saved to a file, later loaded, etc. At that time, a new ASFSession can be instantiated using the cookiejar. While it is not required to use this method to reload the session, it can simplify exception handling and EDL/ASF-specific auth processes, and allows a normalized use of `ASFSession` in all cases:"
   ]
  },
  {
   "cell_type": "code",
   "execution_count": 6,
   "id": "d295ae06-d933-49a7-ab5c-a1e824ef239c",
   "metadata": {},
   "outputs": [],
   "source": [
    "cookiejar_session = asf.ASFSession().auth_with_cookiejar(cookiejar)"
   ]
  },
  {
   "cell_type": "markdown",
   "id": "0bbfdce0-2a90-4dc0-9ca4-a8096be4f3bd",
   "metadata": {},
   "source": [
    "***\n",
    "## Downloading\n",
    "[View this search in Vertex](https://search.asf.alaska.edu/#/?dataset=UAVSAR&productTypes=METADATA&resultsLoaded=true&zoom=8.090&center=-90.488,28.359&polygon=POLYGON((-91.97%2028.78,-88.85%2028.78,-88.85%2030.31,-91.97%2030.31,-91.97%2028.78)))\n",
    "  \n",
    "With authentication handled, we can now begin downloading products. First, we will need some search results to work with:"
   ]
  },
  {
   "cell_type": "code",
   "execution_count": 7,
   "id": "a69116c4-7783-4648-bdbe-ee9a3966b059",
   "metadata": {},
   "outputs": [
    {
     "name": "stdout",
     "output_type": "stream",
     "text": [
      "250 results found\n"
     ]
    }
   ],
   "source": [
    "results = asf.geo_search(\n",
    "    intersectsWith='POLYGON((-91.97 28.78,-88.85 28.78,-88.85 30.31,-91.97 30.31,-91.97 28.78))',\n",
    "    platform=asf.PLATFORM.UAVSAR,\n",
    "    processingLevel=asf.PRODUCT_TYPE.METADATA,\n",
    "    maxResults=250)\n",
    "\n",
    "print(f'{len(results)} results found')"
   ]
  },
  {
   "cell_type": "markdown",
   "id": "6c4900f9-e610-4136-8c90-1fbdaee93bdf",
   "metadata": {},
   "source": [
    "***\n",
    "## Downloading Single Products\n",
    "To download a single `ASFProduct`, simply call its `download()` method, passing in a previously-authenticated session, a path, and optionally a filename. If no filename is provided, the default is to use the filename of the product iself, as described in `properties['fileName']`."
   ]
  },
  {
   "cell_type": "code",
   "execution_count": 10,
   "id": "4afbac1b-df3d-4b8a-871d-df1f80b5f333",
   "metadata": {},
   "outputs": [
    {
     "data": {
      "text/plain": [
       "['atchaf_19809_21056_009_210913_L090_CX_01.ann']"
      ]
     },
     "execution_count": 10,
     "metadata": {},
     "output_type": "execute_result"
    }
   ],
   "source": [
    "from os import listdir\n",
    "\n",
    "results[0].download(path='./downloads1', session=user_pass_session)\n",
    "\n",
    "listdir('./downloads1')"
   ]
  },
  {
   "cell_type": "markdown",
   "id": "8bd15b6e-355e-4b96-858b-cd2085ace0e8",
   "metadata": {
    "tags": []
   },
   "source": [
    "***\n",
    "## Downloading Multiple Products\n",
    "More often than not, we want to download an entire set of search results rather than just a single product. `ASFSearchResults` provides this functionality similarly to `ASFProduct` via the identically-named `download()` method, albeit with two key differences: filenames always use the default behavior, and downloads can occur in parallel. If a particular file already exists, a `UserWarning` will be emitted, and the file will be skipped."
   ]
  },
  {
   "cell_type": "code",
   "execution_count": 11,
   "id": "232f04cc-88e6-4a23-ac78-9f2d98d0760a",
   "metadata": {},
   "outputs": [
    {
     "name": "stderr",
     "output_type": "stream",
     "text": [
      "/Users/angelviolinist/Applications/anaconda3/envs/ground-swath/lib/python3.10/site-packages/asf_search/download/download.py:61: UserWarning: File already exists, skipping download: ./downloads1/atchaf_19809_21056_009_210913_L090_CX_01.ann\n",
      "  warnings.warn(f'File already exists, skipping download: {os.path.join(path, filename)}')\n"
     ]
    },
    {
     "data": {
      "text/plain": [
       "['wterre_16300_21055_021_210912_L090_CX_01.ann',\n",
       " 'atchaf_19809_21056_007_210913_L090_CX_01.ann',\n",
       " 'atchaf_06309_21056_008_210913_L090_CX_01.ann',\n",
       " 'atchaf_19809_21056_005_210913_L090_CX_01.ann',\n",
       " 'atchaf_19809_21056_003_210913_L090_CX_01.ann',\n",
       " 'pfourc_13320_21055_023_210912_L090_CX_01.ann',\n",
       " 'atchaf_06309_21056_006_210913_L090_CX_01.ann',\n",
       " 'wterre_34202_21055_022_210912_L090_CX_01.ann',\n",
       " 'atchaf_06309_21056_004_210913_L090_CX_01.ann',\n",
       " 'atchaf_19809_21056_009_210913_L090_CX_01.ann']"
      ]
     },
     "execution_count": 11,
     "metadata": {},
     "output_type": "execute_result"
    }
   ],
   "source": [
    "results[0:10].download(path='./downloads1', session=user_pass_session)\n",
    "listdir('./downloads1')"
   ]
  },
  {
   "cell_type": "markdown",
   "id": "84a28894-3bae-4a32-a981-8242dd2b5b19",
   "metadata": {},
   "source": [
    "While the above example downloads each file in sequence by default, it is often more performant to download multiple files in parallel. With that in mind, `ASFSearchResults.download()` allows setting a maximum number downloads to run in parallel:"
   ]
  },
  {
   "cell_type": "code",
   "execution_count": 12,
   "id": "89b64286-c961-4b95-b67d-427abc30206e",
   "metadata": {
    "scrolled": true,
    "tags": []
   },
   "outputs": [
    {
     "data": {
      "text/plain": [
       "['eterre_27309_21030_017_210416_L090_CX_01.ann',\n",
       " 'eterre_27309_21031_013_210418_L090_XX_01.ann',\n",
       " 'wterre_34202_21026_013_210405_L090_CX_01.ann',\n",
       " 'atchaf_06309_21024_010_210401_L090_CX_01.ann',\n",
       " 'eterre_08705_21031_006_210418_L090_CX_01.ann',\n",
       " 'atchaf_19809_21025_008_210402_L090_CX_01.ann',\n",
       " 'eterre_08705_21029_018_210412_L090_CX_01.ann',\n",
       " 'eterre_08705_21031_010_210418_L090_CX_01.ann',\n",
       " 'wterre_16300_21026_008_210405_L090_CX_01.ann',\n",
       " 'eterre_08705_21054_017_210907_L090_CX_01.ann',\n",
       " 'eterre_08705_21052_024_210904_L090_CX_01.ann',\n",
       " 'wterre_34202_21026_005_210405_L090_CX_01.ann',\n",
       " 'eterre_27309_21031_005_210418_L090_XX_01.ann',\n",
       " 'atchaf_06309_21025_013_210402_L090_CX_01.ann',\n",
       " 'eterre_08705_21052_008_210904_L090_CX_01.ann',\n",
       " 'eterre_08705_21029_022_210412_L090_CX_01.ann',\n",
       " 'atchaf_06309_21025_005_210402_L090_CX_01.ann',\n",
       " 'eterre_27309_21029_005_210412_L090_XX_01.ann',\n",
       " 'eterre_27309_21030_009_210416_L090_CX_01.ann',\n",
       " 'wterre_16300_21026_000_210405_L090_CX_01.ann',\n",
       " 'atchaf_19809_21025_016_210402_L090_CX_01.ann',\n",
       " 'eterre_08705_21029_006_210412_L090_CX_01.ann',\n",
       " 'atchaf_19809_21025_000_210402_L090_CX_01.ann',\n",
       " 'atchaf_06309_21024_018_210401_L090_CX_01.ann',\n",
       " 'pfourc_13320_21053_021_210906_L090_CX_01.ann',\n",
       " 'eterre_27309_21050_008_210901_L090_CX_01.ann',\n",
       " 'atchaf_19809_21024_015_210401_L090_CX_01.ann',\n",
       " 'eterre_08705_21052_000_210904_L090_CX_01.ann',\n",
       " 'eterre_27309_21054_003_210907_L090_CX_01.ann',\n",
       " 'eterre_27309_21054_009_210907_L090_CX_01.ann',\n",
       " 'eterre_27309_21029_023_210412_L090_XX_01.ann',\n",
       " 'atchaf_19809_21024_009_210401_L090_CX_01.ann',\n",
       " 'atchaf_06309_21025_011_210402_L090_CX_01.ann',\n",
       " 'atchaf_06309_21025_007_210402_L090_CX_01.ann',\n",
       " 'eterre_08705_21029_020_210412_L090_CX_01.ann',\n",
       " 'wterre_34202_21026_011_210405_L090_CX_01.ann',\n",
       " 'eterre_27309_21029_019_210412_L090_XX_01.ann',\n",
       " 'eterre_27309_21031_011_210418_L090_XX_01.ann',\n",
       " 'eterre_27309_21030_015_210416_L090_CX_01.ann',\n",
       " 'gulfco_27010_21051_029_210903_L090_CX_01.ann',\n",
       " 'eterre_08705_21031_004_210418_L090_CX_01.ann',\n",
       " 'eterre_08705_21054_015_210907_L090_CX_01.ann',\n",
       " 'eterre_08705_21031_012_210418_L090_CX_01.ann',\n",
       " 'eterre_27309_21031_007_210418_L090_XX_01.ann',\n",
       " 'eterre_27309_21030_003_210416_L090_CX_01.ann',\n",
       " 'wterre_34202_21026_007_210405_L090_CX_01.ann',\n",
       " 'atchaf_19809_21024_017_210401_L090_CX_01.ann',\n",
       " 'eterre_08705_21052_002_210904_L090_CX_01.ann',\n",
       " 'atchaf_06309_21024_020_210401_L090_CX_01.ann',\n",
       " 'eterre_27309_21054_001_210907_L090_CX_01.ann',\n",
       " 'eterre_27309_21029_007_210412_L090_XX_01.ann',\n",
       " 'atchaf_19809_21025_014_210402_L090_CX_01.ann',\n",
       " 'wterre_16300_21026_002_210405_L090_CX_01.ann',\n",
       " 'wterre_16300_21026_014_210405_L090_CX_01.ann',\n",
       " 'eterre_08705_21029_004_210412_L090_CX_01.ann',\n",
       " 'atchaf_19809_21025_002_210402_L090_CX_01.ann',\n",
       " 'atchaf_19809_21025_012_210402_L090_CX_01.ann',\n",
       " 'wterre_16300_21026_004_210405_L090_CX_01.ann',\n",
       " 'wterre_34202_21026_009_210405_L090_CX_01.ann',\n",
       " 'gulfco_32018_21050_010_210901_L090_CX_01.ann',\n",
       " 'eterre_27309_21031_009_210418_L090_XX_01.ann',\n",
       " 'wterre_16300_21026_012_210405_L090_CX_01.ann',\n",
       " 'atchaf_19809_21025_004_210402_L090_CX_01.ann',\n",
       " 'atchaf_19809_21024_011_210401_L090_CX_01.ann',\n",
       " 'atchaf_06309_21025_009_210402_L090_CX_01.ann',\n",
       " 'eterre_27309_21054_007_210907_L090_CX_01.ann',\n",
       " 'eterre_08705_21052_004_210904_L090_CX_01.ann',\n",
       " 'eterre_08705_21031_002_210418_L090_CX_01.ann',\n",
       " 'eterre_27309_21030_013_210416_L090_CX_01.ann',\n",
       " 'eterre_27309_21030_005_210416_L090_CX_01.ann',\n",
       " 'wterre_34202_21026_001_210405_L090_CX_01.ann',\n",
       " 'eterre_08705_21054_013_210907_L090_CX_01.ann',\n",
       " 'eterre_08705_21031_014_210418_L090_CX_01.ann',\n",
       " 'atchaf_06309_21025_017_210402_L090_CX_01.ann',\n",
       " 'eterre_27309_21050_004_210901_L090_CX_01.ann',\n",
       " 'atchaf_06309_21025_001_210402_L090_CX_01.ann',\n",
       " 'atchaf_19809_21024_019_210401_L090_CX_01.ann',\n",
       " 'eterre_27309_21054_005_210907_L090_CX_01.ann',\n",
       " 'eterre_08705_21052_006_210904_L090_CX_01.ann',\n",
       " 'wterre_16300_21026_006_210405_L090_CX_01.ann',\n",
       " 'eterre_08705_21029_016_210412_L090_CX_01.ann',\n",
       " 'atchaf_19809_21025_010_210402_L090_CX_01.ann',\n",
       " 'eterre_27309_21029_015_210412_L090_XX_01.ann',\n",
       " 'atchaf_19809_21025_006_210402_L090_CX_01.ann',\n",
       " 'eterre_08705_21029_000_210412_L090_CX_01.ann',\n",
       " 'eterre_08705_21031_008_210418_L090_CX_01.ann',\n",
       " 'wterre_16300_21026_010_210405_L090_CX_01.ann',\n",
       " 'atchaf_06309_21025_015_210402_L090_CX_01.ann',\n",
       " 'eterre_08705_21050_020_210901_L090_CX_01.ann',\n",
       " 'gulfco_14015_21050_011_210901_L090_CX_01.ann',\n",
       " 'eterre_08705_21052_018_210904_L090_CX_01.ann',\n",
       " 'atchaf_06309_21025_003_210402_L090_CX_01.ann',\n",
       " 'atchaf_06309_21024_016_210401_L090_CX_01.ann',\n",
       " 'eterre_27309_21031_015_210418_L090_XX_01.ann',\n",
       " 'wterre_34202_21026_015_210405_L090_CX_01.ann',\n",
       " 'wterre_34202_21026_003_210405_L090_CX_01.ann',\n",
       " 'eterre_27309_21030_007_210416_L090_CX_01.ann',\n",
       " 'eterre_27309_21031_003_210418_L090_XX_01.ann',\n",
       " 'eterre_08705_21052_022_210904_L090_CX_01.ann',\n",
       " 'atchaf_19809_21023_008_210327_L090_CX_01.ann',\n",
       " 'eterre_08705_21054_008_210907_L090_CX_01.ann',\n",
       " 'wterre_34202_21055_016_210912_L090_CX_01.ann',\n",
       " 'eterre_27309_21029_021_210412_L090_CX_01.ann',\n",
       " 'atchaf_06309_21053_008_210905_L090_CX_01.ann',\n",
       " 'eterre_08705_21050_003_210901_L090_CX_01.ann',\n",
       " 'wterre_16300_21028_014_210407_L090_CX_01.ann',\n",
       " 'eterre_08705_21029_011_210412_L090_CX_01.ann',\n",
       " 'wterre_34202_21051_021_210903_L090_CX_01.ann',\n",
       " 'atchaf_19809_21024_002_210401_L090_CX_01.ann',\n",
       " 'atchaf_06309_21023_013_210327_L090_CX_01.ann',\n",
       " 'atchaf_19809_21053_005_210905_L090_CX_01.ann',\n",
       " 'wterre_16300_21027_014_210406_L090_CX_01.ann',\n",
       " 'eterre_08705_21030_014_210416_L090_CX_01.ann',\n",
       " 'eterre_27309_21031_005_210418_L090_CX_01.ann',\n",
       " 'wterre_34202_21027_019_210406_L090_CX_01.ann',\n",
       " 'wterre_16300_21051_016_210903_L090_CX_01.ann',\n",
       " 'eterre_27309_21054_014_210907_L090_CX_01.ann',\n",
       " 'eterre_27309_21030_017_210416_L090_XX_01.ann',\n",
       " 'eterre_27309_21031_013_210418_L090_CX_01.ann',\n",
       " 'wterre_16300_21055_021_210912_L090_CX_01.ann',\n",
       " 'atchaf_19809_21053_013_210905_L090_CX_01.ann',\n",
       " 'wterre_16300_21055_013_210912_L090_CX_01.ann',\n",
       " 'atchaf_19809_21056_007_210913_L090_CX_01.ann',\n",
       " 'atchaf_19809_21023_016_210327_L090_CX_01.ann',\n",
       " 'wterre_16300_21051_024_210903_L090_CX_01.ann',\n",
       " 'wterre_34202_21028_011_210407_L090_CX_01.ann',\n",
       " 'eterre_27309_21052_015_210904_L090_CX_01.ann',\n",
       " 'eterre_27309_21052_003_210904_L090_CX_01.ann',\n",
       " 'wterre_34202_21028_007_210407_L090_CX_01.ann',\n",
       " 'wterre_34202_21055_008_210912_L090_CX_01.ann',\n",
       " 'eterre_08705_21054_000_210907_L090_CX_01.ann',\n",
       " 'atchaf_06309_21053_016_210905_L090_CX_01.ann',\n",
       " 'wterre_34202_21027_007_210406_L090_CX_01.ann',\n",
       " 'eterre_27309_21029_005_210412_L090_CX_01.ann',\n",
       " 'wterre_34202_21027_011_210406_L090_CX_01.ann',\n",
       " 'eterre_27309_21030_009_210416_L090_XX_01.ann',\n",
       " 'eterre_08705_21030_016_210416_L090_CX_01.ann',\n",
       " 'atchaf_19809_21053_007_210905_L090_CX_01.ann',\n",
       " 'atchaf_19809_21024_000_210401_L090_CX_01.ann',\n",
       " 'atchaf_06309_21023_011_210327_L090_CX_01.ann',\n",
       " 'eterre_27309_21031_007_210418_L090_CX_01.ann',\n",
       " 'eterre_27309_21030_003_210416_L090_XX_01.ann',\n",
       " 'eterre_27309_21029_019_210412_L090_CX_01.ann',\n",
       " 'eterre_27309_21031_011_210418_L090_CX_01.ann',\n",
       " 'eterre_27309_21030_015_210416_L090_XX_01.ann',\n",
       " 'eterre_27309_21054_016_210907_L090_CX_01.ann',\n",
       " 'wterre_16300_21051_014_210903_L090_CX_01.ann',\n",
       " 'wterre_34202_21051_019_210903_L090_CX_01.ann',\n",
       " 'atchaf_19809_21053_011_210905_L090_CX_01.ann',\n",
       " 'pfourc_13320_21054_018_210907_L090_CX_01.ann',\n",
       " 'eterre_08705_21030_000_210416_L090_CX_01.ann',\n",
       " 'eterre_27309_21052_009_210904_L090_CX_01.ann',\n",
       " 'wterre_34202_21027_021_210406_L090_CX_01.ann',\n",
       " 'wterre_34202_21055_014_210912_L090_CX_01.ann',\n",
       " 'eterre_27309_21029_023_210412_L090_CX_01.ann',\n",
       " 'wterre_34202_21051_023_210903_L090_CX_01.ann',\n",
       " 'wterre_16300_21028_016_210407_L090_CX_01.ann',\n",
       " 'wterre_16300_21055_019_210912_L090_CX_01.ann',\n",
       " 'wterre_16300_21027_008_210406_L090_CX_01.ann',\n",
       " 'eterre_08705_21030_008_210416_L090_CX_01.ann',\n",
       " 'atchaf_19809_21053_019_210905_L090_CX_01.ann',\n",
       " 'wterre_34202_21027_005_210406_L090_CX_01.ann',\n",
       " 'wterre_34202_21027_013_210406_L090_CX_01.ann',\n",
       " 'eterre_27309_21029_007_210412_L090_CX_01.ann',\n",
       " 'atchaf_06309_21056_008_210913_L090_CX_01.ann',\n",
       " 'atchaf_19809_21056_005_210913_L090_CX_01.ann',\n",
       " 'atchaf_19809_21023_014_210327_L090_CX_01.ann',\n",
       " 'eterre_08705_21050_009_210901_L090_CX_01.ann',\n",
       " 'atchaf_06309_21024_005_210401_L090_CX_01.ann',\n",
       " 'wterre_34202_21028_013_210407_L090_CX_01.ann',\n",
       " 'wterre_16300_21051_026_210903_L090_CX_01.ann',\n",
       " 'eterre_27309_21052_001_210904_L090_CX_01.ann',\n",
       " 'wterre_34202_21028_005_210407_L090_CX_01.ann',\n",
       " 'wterre_16300_21028_008_210407_L090_CX_01.ann',\n",
       " 'atchaf_06309_21053_014_210905_L090_CX_01.ann',\n",
       " 'eterre_08705_21054_002_210907_L090_CX_01.ann',\n",
       " 'wterre_16300_21051_020_210903_L090_CX_01.ann',\n",
       " 'wterre_34202_21028_015_210407_L090_CX_01.ann',\n",
       " 'wterre_16300_21055_017_210912_L090_CX_01.ann',\n",
       " 'atchaf_06309_21053_004_210905_L090_CX_01.ann',\n",
       " 'atchaf_06309_21024_003_210401_L090_CX_01.ann',\n",
       " 'atchaf_19809_21056_003_210913_L090_CX_01.ann',\n",
       " 'atchaf_19809_21023_012_210327_L090_CX_01.ann',\n",
       " 'pfourc_13320_21055_023_210912_L090_CX_01.ann',\n",
       " 'eterre_08705_21054_004_210907_L090_CX_01.ann',\n",
       " 'atchaf_06309_21053_012_210905_L090_CX_01.ann',\n",
       " 'wterre_34202_21028_003_210407_L090_CX_01.ann',\n",
       " 'eterre_27309_21052_007_210904_L090_CX_01.ann',\n",
       " 'eterre_27309_21029_017_210412_L090_CX_01.ann',\n",
       " 'wterre_34202_21055_020_210912_L090_CX_01.ann',\n",
       " 'pfourc_13320_21052_025_210904_L090_CX_01.ann',\n",
       " 'wterre_34202_21051_017_210903_L090_CX_01.ann',\n",
       " 'atchaf_06309_21023_009_210327_L090_CX_01.ann',\n",
       " 'atchaf_19809_21053_009_210905_L090_CX_01.ann',\n",
       " 'eterre_27309_21031_009_210418_L090_CX_01.ann',\n",
       " 'gulfco_00702_21051_028_210903_L090_CX_01.ann',\n",
       " 'wterre_34202_21055_004_210912_L090_CX_01.ann',\n",
       " 'wterre_16300_21055_009_210912_L090_CX_01.ann',\n",
       " 'wterre_16300_21028_006_210407_L090_CX_01.ann',\n",
       " 'wterre_16300_21028_010_210407_L090_CX_01.ann',\n",
       " 'wterre_34202_21051_025_210903_L090_CX_01.ann',\n",
       " 'wterre_34202_21055_012_210912_L090_CX_01.ann',\n",
       " 'eterre_27309_21030_005_210416_L090_XX_01.ann',\n",
       " 'wterre_16300_21027_010_210406_L090_CX_01.ann',\n",
       " 'atchaf_06309_21053_020_210905_L090_CX_01.ann',\n",
       " 'eterre_08705_21030_010_210416_L090_CX_01.ann',\n",
       " 'atchaf_06309_21056_006_210913_L090_CX_01.ann',\n",
       " 'atchaf_19809_21024_006_210401_L090_CX_01.ann',\n",
       " 'atchaf_19809_21053_017_210905_L090_CX_01.ann',\n",
       " 'eterre_08705_21030_006_210416_L090_CX_01.ann',\n",
       " 'wterre_16300_21027_006_210406_L090_CX_01.ann',\n",
       " 'eterre_27309_21030_013_210416_L090_XX_01.ann',\n",
       " 'eterre_27309_21052_023_210904_L090_CX_01.ann',\n",
       " 'eterre_27309_21029_015_210412_L090_CX_01.ann',\n",
       " 'wterre_34202_21055_022_210912_L090_CX_01.ann',\n",
       " 'wterre_16300_21051_018_210903_L090_CX_01.ann',\n",
       " 'wterre_34202_21051_015_210903_L090_CX_01.ann',\n",
       " 'wterre_34202_21055_018_210912_L090_CX_01.ann',\n",
       " 'wterre_34202_21028_017_210407_L090_CX_01.ann',\n",
       " 'wterre_16300_21051_022_210903_L090_CX_01.ann',\n",
       " 'atchaf_06309_21024_001_210401_L090_CX_01.ann',\n",
       " 'atchaf_19809_21023_010_210327_L090_CX_01.ann',\n",
       " 'atchaf_06309_21053_006_210905_L090_CX_01.ann',\n",
       " 'wterre_16300_21055_015_210912_L090_CX_01.ann',\n",
       " 'atchaf_06309_21053_010_210905_L090_CX_01.ann',\n",
       " 'wterre_16300_21055_003_210912_L090_CX_01.ann',\n",
       " 'wterre_16300_21027_020_210406_L090_CX_01.ann',\n",
       " 'eterre_08705_21054_006_210907_L090_CX_01.ann',\n",
       " 'eterre_27309_21052_005_210904_L090_CX_01.ann',\n",
       " 'eterre_27309_21030_007_210416_L090_XX_01.ann',\n",
       " 'eterre_27309_21031_003_210418_L090_CX_01.ann',\n",
       " 'atchaf_19809_21053_003_210905_L090_CX_01.ann',\n",
       " 'atchaf_06309_21023_015_210327_L090_CX_01.ann',\n",
       " 'atchaf_06309_21056_004_210913_L090_CX_01.ann',\n",
       " 'atchaf_19809_21024_004_210401_L090_CX_01.ann',\n",
       " 'wterre_16300_21027_012_210406_L090_CX_01.ann',\n",
       " 'wterre_16300_21027_004_210406_L090_CX_01.ann',\n",
       " 'eterre_08705_21030_004_210416_L090_CX_01.ann',\n",
       " 'atchaf_19809_21053_015_210905_L090_CX_01.ann',\n",
       " 'eterre_27309_21052_021_210904_L090_CX_01.ann',\n",
       " 'eterre_27309_21054_012_210907_L090_CX_01.ann',\n",
       " 'wterre_34202_21027_009_210406_L090_CX_01.ann',\n",
       " 'eterre_27309_21031_015_210418_L090_CX_01.ann',\n",
       " 'wterre_34202_21028_009_210407_L090_CX_01.ann',\n",
       " 'wterre_16300_21028_004_210407_L090_CX_01.ann',\n",
       " 'atchaf_06309_21053_018_210905_L090_CX_01.ann',\n",
       " 'atchaf_19809_21056_009_210913_L090_CX_01.ann',\n",
       " 'eterre_08705_21050_005_210901_L090_CX_01.ann',\n",
       " 'wterre_34202_21051_027_210903_L090_CX_01.ann',\n",
       " 'wterre_16300_21028_012_210407_L090_CX_01.ann']"
      ]
     },
     "execution_count": 12,
     "metadata": {},
     "output_type": "execute_result"
    }
   ],
   "source": [
    "results.download(path='./downloads2', session=user_pass_session, processes=50)\n",
    "\n",
    "listdir('./downloads2')"
   ]
  },
  {
   "cell_type": "markdown",
   "id": "a3260757-d28d-4a2c-aaf7-5504ef37fb85",
   "metadata": {},
   "source": [
    "***\n",
    "## Downloading Arbitrary URLs\n",
    "Lastly, it may occur that you have a list of product URLs you wish to download, but have not arrived at that list through `asf_search`. Perhaps you have a service in the cloud and it's convenient to just copy/paste a list of URLs from some external process. In that case, `asf_search` exposes its download functionality more directly, through `download_urls()`. This function takes a list of arbitrary URLs, a path, an authenticated session, and optionally a number of downloads to run in parallel:"
   ]
  },
  {
   "cell_type": "code",
   "execution_count": 13,
   "id": "2e2626a6-14ba-4352-862a-b7a8fea05cc7",
   "metadata": {},
   "outputs": [
    {
     "data": {
      "text/plain": [
       "['aleutn_19802_11054_001_110802_L090_CX_01.ann',\n",
       " 'aleutn_04701_09051_005_090723_L090_CX_01.ann',\n",
       " 'aleutn_06004_09051_004_090723_L090_CX_01.ann',\n",
       " 'aleutn_23301_09050_001_090722_L090_CX_01.ann',\n",
       " 'aleutn_06005_09051_003_090723_L090_CX_01.ann']"
      ]
     },
     "execution_count": 13,
     "metadata": {},
     "output_type": "execute_result"
    }
   ],
   "source": [
    "urls = [\n",
    "    'https://datapool.asf.alaska.edu/METADATA/UA/aleutn_06005_09051_003_090723_L090_CX_01.ann',\n",
    "    'https://datapool.asf.alaska.edu/METADATA/UA/aleutn_06004_09051_004_090723_L090_CX_01.ann',\n",
    "    'https://datapool.asf.alaska.edu/METADATA/UA/aleutn_04701_09051_005_090723_L090_CX_01.ann',\n",
    "    'https://datapool.asf.alaska.edu/METADATA/UA/aleutn_23301_09050_001_090722_L090_CX_01.ann',\n",
    "    'https://datapool.asf.alaska.edu/METADATA/UA/aleutn_19802_11054_001_110802_L090_CX_01.ann']\n",
    "\n",
    "asf.download_urls(urls=urls, path='./downloads3', session=user_pass_session, processes=5)\n",
    "\n",
    "listdir('./downloads3')"
   ]
  },
  {
   "cell_type": "markdown",
   "id": "8aed3b7c-a557-4cbb-878e-aa9fe8330646",
   "metadata": {
    "tags": []
   },
   "source": [
    "***\n",
    "## Summary\n",
    "A complete, basic example of downloading search results:"
   ]
  },
  {
   "cell_type": "code",
   "execution_count": 14,
   "id": "ceea6e9a-b1ea-417f-8daa-98bd17c9730c",
   "metadata": {
    "scrolled": true,
    "tags": []
   },
   "outputs": [
    {
     "name": "stdout",
     "output_type": "stream",
     "text": [
      "Username:angelviolinist@berkeley.edu\n",
      "Password:········\n"
     ]
    },
    {
     "data": {
      "text/plain": [
       "['wterre_34202_21055_016_210912_L090_CX_01.ann',\n",
       " 'wterre_16300_21055_021_210912_L090_CX_01.ann',\n",
       " 'wterre_16300_21055_013_210912_L090_CX_01.ann',\n",
       " 'atchaf_19809_21056_007_210913_L090_CX_01.ann',\n",
       " 'wterre_34202_21055_014_210912_L090_CX_01.ann',\n",
       " 'wterre_16300_21055_019_210912_L090_CX_01.ann',\n",
       " 'atchaf_06309_21056_008_210913_L090_CX_01.ann',\n",
       " 'atchaf_19809_21056_005_210913_L090_CX_01.ann',\n",
       " 'wterre_16300_21055_017_210912_L090_CX_01.ann',\n",
       " 'atchaf_19809_21056_003_210913_L090_CX_01.ann',\n",
       " 'pfourc_13320_21055_023_210912_L090_CX_01.ann',\n",
       " 'wterre_34202_21055_020_210912_L090_CX_01.ann',\n",
       " 'wterre_16300_21055_009_210912_L090_CX_01.ann',\n",
       " 'wterre_34202_21055_012_210912_L090_CX_01.ann',\n",
       " 'atchaf_06309_21056_006_210913_L090_CX_01.ann',\n",
       " 'wterre_34202_21055_022_210912_L090_CX_01.ann',\n",
       " 'wterre_34202_21055_018_210912_L090_CX_01.ann',\n",
       " 'wterre_16300_21055_015_210912_L090_CX_01.ann',\n",
       " 'atchaf_06309_21056_004_210913_L090_CX_01.ann',\n",
       " 'atchaf_19809_21056_009_210913_L090_CX_01.ann']"
      ]
     },
     "execution_count": 14,
     "metadata": {},
     "output_type": "execute_result"
    }
   ],
   "source": [
    "from os import listdir\n",
    "import getpass\n",
    "username = input('Username:')\n",
    "password = getpass.getpass('Password:')\n",
    "\n",
    "import asf_search as asf\n",
    "\n",
    "session = asf.ASFSession().auth_with_creds(username=username, password=password)\n",
    "\n",
    "results = asf.geo_search(\n",
    "    intersectsWith='POLYGON((-91.97 28.78,-88.85 28.78,-88.85 30.31,-91.97 30.31,-91.97 28.78))',\n",
    "    platform=asf.PLATFORM.UAVSAR,\n",
    "    processingLevel=asf.PRODUCT_TYPE.METADATA,\n",
    "    maxResults=20)\n",
    "\n",
    "results.download(\n",
    "    path='./downloads',\n",
    "    session=session,\n",
    "    processes=10)\n",
    "\n",
    "listdir('./downloads')"
   ]
  },
  {
   "cell_type": "markdown",
   "id": "38ca6c8a-3b3a-45e4-9385-37f0eff0e60c",
   "metadata": {},
   "source": [
    "***\n",
    "Next: [Closing](./6-Outro.md)"
   ]
  }
 ],
 "metadata": {
  "kernelspec": {
   "display_name": "Python 3 (ipykernel)",
   "language": "python",
   "name": "python3"
  },
  "language_info": {
   "codemirror_mode": {
    "name": "ipython",
    "version": 3
   },
   "file_extension": ".py",
   "mimetype": "text/x-python",
   "name": "python",
   "nbconvert_exporter": "python",
   "pygments_lexer": "ipython3",
   "version": "3.10.4"
  },
  "toc-autonumbering": false,
  "toc-showtags": false
 },
 "nbformat": 4,
 "nbformat_minor": 5
}
