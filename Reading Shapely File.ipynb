{
 "cells": [
  {
   "cell_type": "code",
   "execution_count": 3,
   "metadata": {},
   "outputs": [
    {
     "name": "stdout",
     "output_type": "stream",
     "text": [
      "/Users/ethanhsiao/opt/anaconda3/lib/python3.7/site-packages/cryptography/hazmat/backends/openssl/x509.py:18: CryptographyDeprecationWarning: This version of cryptography contains a temporary pyOpenSSL fallback path. Upgrade pyOpenSSL now.\n",
      "  utils.DeprecatedIn35,\n",
      "Collecting rasterio\n",
      "  Downloading rasterio-1.2.10-cp37-cp37m-macosx_10_9_x86_64.whl (21.1 MB)\n",
      "\u001b[K     |████████████████████████████████| 21.1 MB 748 kB/s eta 0:00:01     |████████████████████▏           | 13.3 MB 9.9 MB/s eta 0:00:01\n",
      "\u001b[?25hRequirement already satisfied: cligj>=0.5 in /Users/ethanhsiao/opt/anaconda3/lib/python3.7/site-packages (from rasterio) (0.7.2)\n",
      "Requirement already satisfied: click>=4.0 in /Users/ethanhsiao/opt/anaconda3/lib/python3.7/site-packages (from rasterio) (7.1.2)\n",
      "Requirement already satisfied: numpy in /Users/ethanhsiao/opt/anaconda3/lib/python3.7/site-packages (from rasterio) (1.21.5)\n",
      "Collecting affine\n",
      "  Downloading affine-2.3.1-py2.py3-none-any.whl (16 kB)\n",
      "Collecting snuggs>=1.4.1\n",
      "  Downloading snuggs-1.4.7-py3-none-any.whl (5.4 kB)\n",
      "Requirement already satisfied: attrs in /Users/ethanhsiao/opt/anaconda3/lib/python3.7/site-packages (from rasterio) (19.3.0)\n",
      "Requirement already satisfied: click-plugins in /Users/ethanhsiao/opt/anaconda3/lib/python3.7/site-packages (from rasterio) (1.1.1)\n",
      "Requirement already satisfied: certifi in /Users/ethanhsiao/opt/anaconda3/lib/python3.7/site-packages (from rasterio) (2020.4.5.1)\n",
      "Requirement already satisfied: setuptools in /Users/ethanhsiao/opt/anaconda3/lib/python3.7/site-packages (from rasterio) (46.4.0.post20200518)\n",
      "Requirement already satisfied: pyparsing>=2.1.6 in /Users/ethanhsiao/opt/anaconda3/lib/python3.7/site-packages (from snuggs>=1.4.1->rasterio) (2.4.7)\n",
      "Installing collected packages: affine, snuggs, rasterio\n",
      "Successfully installed affine-2.3.1 rasterio-1.2.10 snuggs-1.4.7\n"
     ]
    }
   ],
   "source": [
    "!pip install rasterio\n",
    "!pip install --upgrade pandas"
   ]
  },
  {
   "cell_type": "code",
   "execution_count": 15,
   "metadata": {},
   "outputs": [],
   "source": [
    "import rasterio\n",
    "import geopandas as gpd\n",
    "from pathlib import Path\n",
    "import asf_search as asf\n",
    "from shapely.geometry import shape\n",
    "import matplotlib.pyplot as plt\n",
    "import pandas as pd"
   ]
  },
  {
   "cell_type": "code",
   "execution_count": 2,
   "metadata": {},
   "outputs": [],
   "source": [
    "place_aoi = gpd.read_file('/Users/ethanhsiao/Documents/ground-swath/data/shape.shp')"
   ]
  },
  {
   "cell_type": "code",
   "execution_count": 3,
   "metadata": {},
   "outputs": [
    {
     "data": {
      "text/plain": [
       "<matplotlib.axes._subplots.AxesSubplot at 0x7ff7a059f850>"
      ]
     },
     "execution_count": 3,
     "metadata": {},
     "output_type": "execute_result"
    },
    {
     "data": {
      "image/png": "[encoded data removed]",
      "text/plain": [
       "<Figure size 432x288 with 1 Axes>"
      ]
     },
     "metadata": {
      "needs_background": "light"
     },
     "output_type": "display_data"
    }
   ],
   "source": [
    "place_aoi.geometry.plot()"
   ]
  },
  {
   "cell_type": "code",
   "execution_count": null,
   "metadata": {},
   "outputs": [],
   "source": [
    "#place_aoi_2 = gpd.read_file('/Users/ethanhsiao/Documents/ground-swath/data/shape2.shp')\n",
    "#place_aoi_2.geometry.plot()"
   ]
  },
  {
   "cell_type": "code",
   "execution_count": 4,
   "metadata": {},
   "outputs": [],
   "source": [
    "place_wkt = place_aoi.geometry.to_wkt()[0]"
   ]
  },
  {
   "cell_type": "code",
   "execution_count": 5,
   "metadata": {},
   "outputs": [
    {
     "data": {
      "text/plain": [
       "'POLYGON ((-122.25217442555794 37.86960413795028, -122.26579789511528 37.867987646118614, -122.26621579295447 37.87399157986792, -122.25652056308546 37.8753770335588, -122.25217442555794 37.86960413795028))'"
      ]
     },
     "execution_count": 5,
     "metadata": {},
     "output_type": "execute_result"
    }
   ],
   "source": [
    "place_wkt"
   ]
  },
  {
   "cell_type": "code",
   "execution_count": 6,
   "metadata": {},
   "outputs": [],
   "source": [
    "opts = {\n",
    "    'platform': 'S1', #asf.PLATFORM.SENTINEL1\n",
    "    'start': '2019-01-01',\n",
    "    'end': '2020-02-01',\n",
    "    'maxResults': 100\n",
    "    #'processingLevel': asf_search.PRODUCT_TYPE.RTC_HIGH_RES, processingLevel=asf.PRODUCT_TYPE.METADATA,\n",
    "    #'polarization': asf_search.POLARIZATION.HH_HV,\n",
    "    #'flightDirection': asf_search.FLIGHT_DIRECTION.ASCENDING\n",
    "}"
   ]
  },
  {
   "cell_type": "code",
   "execution_count": 7,
   "metadata": {},
   "outputs": [
    {
     "name": "stdout",
     "output_type": "stream",
     "text": [
      "100 results found\n"
     ]
    }
   ],
   "source": [
    "results = asf_search.geo_search(intersectsWith=place_wkt, **opts)\n",
    "print(f'{len(results)} results found')"
   ]
  },
  {
   "cell_type": "code",
   "execution_count": 8,
   "metadata": {},
   "outputs": [
    {
     "name": "stdout",
     "output_type": "stream",
     "text": [
      "[8, 9, 10, 11, 32, 33, 34, 35, 36, 37]\n",
      "[38, 39, 60, 61, 62, 63, 64, 65, 66, 67, 68, 69, 95, 96, 97, 98, 99]\n"
     ]
    }
   ],
   "source": [
    "#from Angela: splitting by platform S1A/S1B and ascending/descending flight direction\n",
    "S1A = []\n",
    "S1B = []\n",
    "ascend_ID = []\n",
    "descend_ID = []\n",
    "for i in range(len(results)):\n",
    "    if 'Sentinel-1A' in results[i].properties['platform']:\n",
    "        S1A.append(i)\n",
    "    else:\n",
    "        S1B.append(i)\n",
    "    if 'ASCENDING' in results[i].properties['flightDirection']:\n",
    "        ascend_ID.append(i)\n",
    "    else:\n",
    "        descend_ID.append(i)\n",
    "print(ascend_ID)\n",
    "print(S1A)"
   ]
  },
  {
   "cell_type": "code",
   "execution_count": null,
   "metadata": {},
   "outputs": [],
   "source": []
  },
  {
   "cell_type": "code",
   "execution_count": 20,
   "metadata": {},
   "outputs": [
    {
     "data": {
      "text/plain": [
       "Text(0.5, 1.0, 'Top 100 Sentinel 1 Observations')"
      ]
     },
     "execution_count": 20,
     "metadata": {},
     "output_type": "execute_result"
    },
    {
     "data": {
      "image/png": "[encoded data removed]",
      "text/plain": [
       "<Figure size 432x288 with 1 Axes>"
      ]
     },
     "metadata": {
      "needs_background": "light"
     },
     "output_type": "display_data"
    }
   ],
   "source": [
    "#latitude/longitude\n",
    "latitude = []\n",
    "longitude = []\n",
    "for i in range(len(results)):\n",
    "    if results[i].properties['centerLat']:\n",
    "        latitude.append(float(results[i].properties['centerLat']))\n",
    "    if results[i].properties['centerLat']:\n",
    "        longitude.append(float(results[i].properties['centerLon']))\n",
    "plt.figure('Observations')\n",
    "plt.clf()\n",
    "for i in range(len(latitude)):\n",
    "    if i in ascend_ID:\n",
    "        plt.scatter(longitude[i],latitude[i],c='red')\n",
    "    else:\n",
    "        plt.scatter(longitude[i],latitude[i],c='blue')\n",
    "plt.xlabel('Longitude')\n",
    "plt.ylabel('Latitude')\n",
    "plt.title('Top 100 Sentinel 1 Observations')"
   ]
  },
  {
   "cell_type": "code",
   "execution_count": 21,
   "metadata": {},
   "outputs": [
    {
     "data": {
      "text/plain": [
       "[1, 2, 3, 6, 7, 9, 11, 12, 13, 14]"
      ]
     },
     "execution_count": 21,
     "metadata": {},
     "output_type": "execute_result"
    }
   ],
   "source": [
    "#processingLevel\n",
    "metadata = []\n",
    "raw = []\n",
    "grd_hd = []\n",
    "\n",
    "for i in range(len(results)):\n",
    "    if 'METADATA_RAW' in results[i].properties['processingLevel']:\n",
    "        metadata.append(i)\n",
    "    elif 'GRD_HD' in results[i].properties['processingLevel']:\n",
    "        grd_hd.append(i)\n",
    "    else:\n",
    "        raw.append(i)\n",
    "raw[:10]"
   ]
  },
  {
   "cell_type": "code",
   "execution_count": null,
   "metadata": {},
   "outputs": [],
   "source": []
  },
  {
   "cell_type": "code",
   "execution_count": 22,
   "metadata": {},
   "outputs": [],
   "source": [
    "#turn data into df\n",
    "df = pd.DataFrame(\n",
    "{\n",
    "    'platform':[],\n",
    "    'flightDirection':[],\n",
    "    'centerLat':[],\n",
    "    'centerLon':[],\n",
    "    'processingLevel':[]\n",
    "})\n",
    "platformlist = []\n",
    "flightlist = []\n",
    "latlist = []\n",
    "lonlist = []\n",
    "processlist = []\n",
    "for i in range(len(results)):\n",
    "    platformlist.append(results[i].properties['platform'])\n",
    "    flightlist.append(results[i].properties['flightDirection'])\n",
    "    latlist.append(results[i].properties['centerLat'])\n",
    "    lonlist.append(results[i].properties['centerLon'])\n",
    "    processlist.append(results[i].properties['processingLevel'])\n",
    "    \n",
    "df.platform = platformlist\n",
    "df.flightDirection = flightlist\n",
    "df.centerLat = latlist\n",
    "df.centerLon = lonlist\n",
    "df.processingLevel = processlist"
   ]
  },
  {
   "cell_type": "code",
   "execution_count": 23,
   "metadata": {},
   "outputs": [
    {
     "data": {
      "text/html": [
       "<div>\n",
       "<style scoped>\n",
       "    .dataframe tbody tr th:only-of-type {\n",
       "        vertical-align: middle;\n",
       "    }\n",
       "\n",
       "    .dataframe tbody tr th {\n",
       "        vertical-align: top;\n",
       "    }\n",
       "\n",
       "    .dataframe thead th {\n",
       "        text-align: right;\n",
       "    }\n",
       "</style>\n",
       "<table border=\"1\" class=\"dataframe\">\n",
       "  <thead>\n",
       "    <tr style=\"text-align: right;\">\n",
       "      <th></th>\n",
       "      <th>platform</th>\n",
       "      <th>flightDirection</th>\n",
       "      <th>centerLat</th>\n",
       "      <th>centerLon</th>\n",
       "      <th>processingLevel</th>\n",
       "    </tr>\n",
       "  </thead>\n",
       "  <tbody>\n",
       "    <tr>\n",
       "      <th>0</th>\n",
       "      <td>Sentinel-1B</td>\n",
       "      <td>DESCENDING</td>\n",
       "      <td>37.4486</td>\n",
       "      <td>-120.9719</td>\n",
       "      <td>METADATA_RAW</td>\n",
       "    </tr>\n",
       "    <tr>\n",
       "      <th>1</th>\n",
       "      <td>Sentinel-1B</td>\n",
       "      <td>DESCENDING</td>\n",
       "      <td>37.4486</td>\n",
       "      <td>-120.9719</td>\n",
       "      <td>RAW</td>\n",
       "    </tr>\n",
       "    <tr>\n",
       "      <th>2</th>\n",
       "      <td>Sentinel-1B</td>\n",
       "      <td>DESCENDING</td>\n",
       "      <td>37.6937</td>\n",
       "      <td>-121.0714</td>\n",
       "      <td>METADATA_SLC</td>\n",
       "    </tr>\n",
       "    <tr>\n",
       "      <th>3</th>\n",
       "      <td>Sentinel-1B</td>\n",
       "      <td>DESCENDING</td>\n",
       "      <td>37.6937</td>\n",
       "      <td>-121.0714</td>\n",
       "      <td>SLC</td>\n",
       "    </tr>\n",
       "    <tr>\n",
       "      <th>4</th>\n",
       "      <td>Sentinel-1B</td>\n",
       "      <td>DESCENDING</td>\n",
       "      <td>37.6958</td>\n",
       "      <td>-121.0894</td>\n",
       "      <td>GRD_HD</td>\n",
       "    </tr>\n",
       "  </tbody>\n",
       "</table>\n",
       "</div>"
      ],
      "text/plain": [
       "      platform flightDirection centerLat  centerLon processingLevel\n",
       "0  Sentinel-1B      DESCENDING   37.4486  -120.9719    METADATA_RAW\n",
       "1  Sentinel-1B      DESCENDING   37.4486  -120.9719             RAW\n",
       "2  Sentinel-1B      DESCENDING   37.6937  -121.0714    METADATA_SLC\n",
       "3  Sentinel-1B      DESCENDING   37.6937  -121.0714             SLC\n",
       "4  Sentinel-1B      DESCENDING   37.6958  -121.0894          GRD_HD"
      ]
     },
     "execution_count": 23,
     "metadata": {},
     "output_type": "execute_result"
    }
   ],
   "source": [
    "df.head()"
   ]
  },
  {
   "cell_type": "code",
   "execution_count": null,
   "metadata": {},
   "outputs": [],
   "source": []
  },
  {
   "cell_type": "code",
   "execution_count": 24,
   "metadata": {},
   "outputs": [],
   "source": [
    "#transform df into gdf\n",
    "gdf = gpd.GeoDataFrame(df, \n",
    "                       geometry=gpd.points_from_xy(df.centerLon, df.centerLat))"
   ]
  },
  {
   "cell_type": "code",
   "execution_count": 25,
   "metadata": {},
   "outputs": [
    {
     "data": {
      "text/html": [
       "<div>\n",
       "<style scoped>\n",
       "    .dataframe tbody tr th:only-of-type {\n",
       "        vertical-align: middle;\n",
       "    }\n",
       "\n",
       "    .dataframe tbody tr th {\n",
       "        vertical-align: top;\n",
       "    }\n",
       "\n",
       "    .dataframe thead th {\n",
       "        text-align: right;\n",
       "    }\n",
       "</style>\n",
       "<table border=\"1\" class=\"dataframe\">\n",
       "  <thead>\n",
       "    <tr style=\"text-align: right;\">\n",
       "      <th></th>\n",
       "      <th>platform</th>\n",
       "      <th>flightDirection</th>\n",
       "      <th>centerLat</th>\n",
       "      <th>centerLon</th>\n",
       "      <th>processingLevel</th>\n",
       "      <th>geometry</th>\n",
       "    </tr>\n",
       "  </thead>\n",
       "  <tbody>\n",
       "    <tr>\n",
       "      <th>0</th>\n",
       "      <td>Sentinel-1B</td>\n",
       "      <td>DESCENDING</td>\n",
       "      <td>37.4486</td>\n",
       "      <td>-120.9719</td>\n",
       "      <td>METADATA_RAW</td>\n",
       "      <td>POINT (-120.97190 37.44860)</td>\n",
       "    </tr>\n",
       "    <tr>\n",
       "      <th>1</th>\n",
       "      <td>Sentinel-1B</td>\n",
       "      <td>DESCENDING</td>\n",
       "      <td>37.4486</td>\n",
       "      <td>-120.9719</td>\n",
       "      <td>RAW</td>\n",
       "      <td>POINT (-120.97190 37.44860)</td>\n",
       "    </tr>\n",
       "    <tr>\n",
       "      <th>2</th>\n",
       "      <td>Sentinel-1B</td>\n",
       "      <td>DESCENDING</td>\n",
       "      <td>37.6937</td>\n",
       "      <td>-121.0714</td>\n",
       "      <td>METADATA_SLC</td>\n",
       "      <td>POINT (-121.07140 37.69370)</td>\n",
       "    </tr>\n",
       "    <tr>\n",
       "      <th>3</th>\n",
       "      <td>Sentinel-1B</td>\n",
       "      <td>DESCENDING</td>\n",
       "      <td>37.6937</td>\n",
       "      <td>-121.0714</td>\n",
       "      <td>SLC</td>\n",
       "      <td>POINT (-121.07140 37.69370)</td>\n",
       "    </tr>\n",
       "    <tr>\n",
       "      <th>4</th>\n",
       "      <td>Sentinel-1B</td>\n",
       "      <td>DESCENDING</td>\n",
       "      <td>37.6958</td>\n",
       "      <td>-121.0894</td>\n",
       "      <td>GRD_HD</td>\n",
       "      <td>POINT (-121.08940 37.69580)</td>\n",
       "    </tr>\n",
       "  </tbody>\n",
       "</table>\n",
       "</div>"
      ],
      "text/plain": [
       "      platform flightDirection centerLat  centerLon processingLevel  \\\n",
       "0  Sentinel-1B      DESCENDING   37.4486  -120.9719    METADATA_RAW   \n",
       "1  Sentinel-1B      DESCENDING   37.4486  -120.9719             RAW   \n",
       "2  Sentinel-1B      DESCENDING   37.6937  -121.0714    METADATA_SLC   \n",
       "3  Sentinel-1B      DESCENDING   37.6937  -121.0714             SLC   \n",
       "4  Sentinel-1B      DESCENDING   37.6958  -121.0894          GRD_HD   \n",
       "\n",
       "                      geometry  \n",
       "0  POINT (-120.97190 37.44860)  \n",
       "1  POINT (-120.97190 37.44860)  \n",
       "2  POINT (-121.07140 37.69370)  \n",
       "3  POINT (-121.07140 37.69370)  \n",
       "4  POINT (-121.08940 37.69580)  "
      ]
     },
     "execution_count": 25,
     "metadata": {},
     "output_type": "execute_result"
    }
   ],
   "source": [
    "gdf.head()"
   ]
  },
  {
   "cell_type": "code",
   "execution_count": 26,
   "metadata": {},
   "outputs": [
    {
     "data": {
      "image/png": "[encoded data removed]",
      "text/plain": [
       "<Figure size 432x288 with 1 Axes>"
      ]
     },
     "metadata": {
      "needs_background": "light"
     },
     "output_type": "display_data"
    }
   ],
   "source": [
    "world = gpd.read_file(gpd.datasets.get_path('naturalearth_lowres'))\n",
    "ax = world.plot(color='white', edgecolor='black')\n",
    "gdf.plot(ax=ax, color='red')\n",
    "plt.show()"
   ]
  },
  {
   "cell_type": "code",
   "execution_count": null,
   "metadata": {},
   "outputs": [],
   "source": []
  },
  {
   "cell_type": "code",
   "execution_count": null,
   "metadata": {},
   "outputs": [],
   "source": []
  }
 ],
 "metadata": {
  "kernelspec": {
   "display_name": "Python 3",
   "language": "python",
   "name": "python3"
  },
  "language_info": {
   "codemirror_mode": {
    "name": "ipython",
    "version": 3
   },
   "file_extension": ".py",
   "mimetype": "text/x-python",
   "name": "python",
   "nbconvert_exporter": "python",
   "pygments_lexer": "ipython3",
   "version": "3.7.7"
  }
 },
 "nbformat": 4,
 "nbformat_minor": 4
}
