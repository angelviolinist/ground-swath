{
 "cells": [
  {
   "cell_type": "code",
   "execution_count": 45,
   "id": "6c0c0693",
   "metadata": {},
   "outputs": [],
   "source": [
    "from dem_stitcher.stitcher import stitch_dem\n",
    "import rasterio\n",
    "from rasterio import plot\n",
    "import matplotlib.pyplot as plt\n",
    "from shapely.geometry import Point, Polygon\n",
    "import asf_search as asf\n",
    "from datetime import date"
   ]
  },
  {
   "cell_type": "code",
   "execution_count": 54,
   "id": "dc14e618",
   "metadata": {},
   "outputs": [],
   "source": [
    "def get_coverage(sensor, aoi, date = None):\n",
    "    \"\"\"\n",
    "    Sensor: choose Sentinel-1\n",
    "    AOI: enter coordinates as tuple\n",
    "    date: leave as none if searching today, else enter time range\n",
    "    \"\"\"\n",
    "    if date == None:\n",
    "        today = date.today()\n",
    "        start = str(today) + 'T00:00:00Z'\n",
    "        end = str(today) + 'T23:59:59Z'\n",
    "    else:\n",
    "        start = date[0] + 'T00:00:00Z'\n",
    "        end = date[1] + 'T23:59:59Z'\n",
    "        \n",
    "    opts = {\n",
    "        'platform': asf.PLATFORM.SENTINEL1,\n",
    "        'maxResults': 500,\n",
    "        'start': start,\n",
    "        'end': end\n",
    "    }\n",
    "    results = asf.search(**opts)\n",
    "    \n",
    "    p1 = Point(aoi[0], aoi[1])\n",
    "    \n",
    "    coords = []\n",
    "    for i in range(len(results)):\n",
    "        coords.append(results[i].geometry['coordinates'][0])\n",
    "        \n",
    "    counter = 0\n",
    "    for i in range(len(results)):\n",
    "        poly = Polygon(coords[i])\n",
    "        if p1.within(poly) == True:\n",
    "            counter += 1\n",
    "\n",
    "    return counter"
   ]
  },
  {
   "cell_type": "code",
   "execution_count": 55,
   "id": "5c2341be",
   "metadata": {},
   "outputs": [],
   "source": [
    "freq = get_coverage('Sentinel1',(105, 74),('2015-01-01','2016-12-31'))"
   ]
  },
  {
   "cell_type": "code",
   "execution_count": 56,
   "id": "6e6cfec4",
   "metadata": {},
   "outputs": [
    {
     "data": {
      "text/plain": [
       "4"
      ]
     },
     "execution_count": 56,
     "metadata": {},
     "output_type": "execute_result"
    }
   ],
   "source": [
    "freq"
   ]
  },
  {
   "cell_type": "code",
   "execution_count": null,
   "id": "d4e669d7",
   "metadata": {},
   "outputs": [],
   "source": []
  }
 ],
 "metadata": {
  "kernelspec": {
   "display_name": "Python 3 (ipykernel)",
   "language": "python",
   "name": "python3"
  },
  "language_info": {
   "codemirror_mode": {
    "name": "ipython",
    "version": 3
   },
   "file_extension": ".py",
   "mimetype": "text/x-python",
   "name": "python",
   "nbconvert_exporter": "python",
   "pygments_lexer": "ipython3",
   "version": "3.10.5"
  }
 },
 "nbformat": 4,
 "nbformat_minor": 5
}
