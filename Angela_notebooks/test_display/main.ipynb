{
 "cells": [
  {
   "cell_type": "code",
   "execution_count": 1,
   "id": "aa31a474",
   "metadata": {},
   "outputs": [],
   "source": [
    "# ASF imports\n",
    "import asf_search as asf\n",
    "\n",
    "# GIS imports\n",
    "import geopandas as gpd\n",
    "from pyproj import Transformer\n",
    "\n",
    "# Boken imports\n",
    "from bokeh.io import curdoc\n",
    "from bokeh.layouts import column, row\n",
    "from bokeh.models import GeoJSONDataSource, DataRange1d, Select, ColumnDataSource\n",
    "from bokeh.palettes import Blues4\n",
    "from bokeh.plotting import figure, show, output_file\n",
    "from bokeh.models import Select\n",
    "from bokeh.tile_providers import CARTODBPOSITRON, get_provider\n",
    "from bokeh.sampledata.sample_geojson import geojson\n",
    "\n",
    "# Misc imports\n",
    "import numpy as np\n",
    "import pandas as pd\n",
    "import datetime\n",
    "import json\n",
    "\n",
    "# Enable to generate Bokeh figure within Jupyter notebooks\n",
    "#output_notebook()"
   ]
  },
  {
   "cell_type": "code",
   "execution_count": 2,
   "id": "4c01f3d1",
   "metadata": {},
   "outputs": [],
   "source": [
    "# Load asf_search results into a dataframe\n",
    "def make_df(results):\n",
    "    df = pd.DataFrame(\n",
    "    {\n",
    "        'fileID':[],\n",
    "        'platform':[],\n",
    "        'flightDirection':[],\n",
    "        'centerLat':[],\n",
    "        'centerLon':[],\n",
    "#         'processingLevel':[],\n",
    "        'startTime':[]\n",
    "    })\n",
    "    name = []\n",
    "    platformlist = []\n",
    "    flightlist = []\n",
    "    latlist = []\n",
    "    lonlist = []\n",
    "#     processlist = []\n",
    "    stime = []\n",
    "    for i in range(len(results)):\n",
    "        name.append(results[i].properties['fileID'])\n",
    "        platformlist.append(results[i].properties['platform'])\n",
    "        flightlist.append(results[i].properties['flightDirection'])\n",
    "        latlist.append(float(results[i].properties['centerLat']))\n",
    "        lonlist.append(float(results[i].properties['centerLon']))\n",
    "#         processlist.append(results[i].properties['processingLevel'])\n",
    "        timestring = results[i].properties['startTime'][0:10] + ' ' + results[i].properties['startTime'][11:]\n",
    "        stime.append(timestring)\n",
    "\n",
    "    df.fileID = name\n",
    "    df.platform = platformlist\n",
    "    df.flightDirection = flightlist\n",
    "    df.centerLat = latlist\n",
    "    df.centerLon = lonlist\n",
    "#     df.processingLevel = processlist\n",
    "    df.startTime = stime\n",
    "    \n",
    "    return df"
   ]
  },
  {
   "cell_type": "code",
   "execution_count": 3,
   "id": "41bed67e",
   "metadata": {},
   "outputs": [],
   "source": [
    "# Perform ASF search\n",
    "opts = {\n",
    "    'platform': asf.PLATFORM.SENTINEL1,\n",
    "    'maxResults': 500,\n",
    "    'processingLevel':[asf.PRODUCT_TYPE.GRD_HD, asf.PRODUCT_TYPE.GRD_MD],\n",
    "    'start': '2015-01-01T00:00:00Z',\n",
    "    'end': '2016-12-31T23:59:59Z'\n",
    "}\n",
    "results = asf.search(**opts)\n",
    "\n",
    "df_2016 = make_df(results)\n",
    "gdf = gpd.GeoDataFrame(df_2016, geometry=gpd.points_from_xy(df_2016.centerLon, df_2016.centerLat))"
   ]
  },
  {
   "cell_type": "code",
   "execution_count": 4,
   "id": "a0e3ba61",
   "metadata": {
    "scrolled": false
   },
   "outputs": [
    {
     "data": {
      "text/html": [
       "<div>\n",
       "<style scoped>\n",
       "    .dataframe tbody tr th:only-of-type {\n",
       "        vertical-align: middle;\n",
       "    }\n",
       "\n",
       "    .dataframe tbody tr th {\n",
       "        vertical-align: top;\n",
       "    }\n",
       "\n",
       "    .dataframe thead th {\n",
       "        text-align: right;\n",
       "    }\n",
       "</style>\n",
       "<table border=\"1\" class=\"dataframe\">\n",
       "  <thead>\n",
       "    <tr style=\"text-align: right;\">\n",
       "      <th></th>\n",
       "      <th>fileID</th>\n",
       "      <th>platform</th>\n",
       "      <th>flightDirection</th>\n",
       "      <th>centerLat</th>\n",
       "      <th>centerLon</th>\n",
       "      <th>startTime</th>\n",
       "      <th>geometry</th>\n",
       "    </tr>\n",
       "  </thead>\n",
       "  <tbody>\n",
       "    <tr>\n",
       "      <th>0</th>\n",
       "      <td>S1B_IW_GRDH_1SDV_20161231T234437_20161231T2344...</td>\n",
       "      <td>Sentinel-1B</td>\n",
       "      <td>ASCENDING</td>\n",
       "      <td>59.2518</td>\n",
       "      <td>-91.2592</td>\n",
       "      <td>2016-12-31 23:44:37.000000</td>\n",
       "      <td>POINT (-91.25920 59.25180)</td>\n",
       "    </tr>\n",
       "    <tr>\n",
       "      <th>1</th>\n",
       "      <td>S1B_IW_GRDH_1SDV_20161231T234412_20161231T2344...</td>\n",
       "      <td>Sentinel-1B</td>\n",
       "      <td>ASCENDING</td>\n",
       "      <td>57.9347</td>\n",
       "      <td>-90.7849</td>\n",
       "      <td>2016-12-31 23:44:12.000000</td>\n",
       "      <td>POINT (-90.78490 57.93470)</td>\n",
       "    </tr>\n",
       "    <tr>\n",
       "      <th>2</th>\n",
       "      <td>S1B_IW_GRDH_1SDV_20161231T234347_20161231T2344...</td>\n",
       "      <td>Sentinel-1B</td>\n",
       "      <td>ASCENDING</td>\n",
       "      <td>56.4442</td>\n",
       "      <td>-90.2751</td>\n",
       "      <td>2016-12-31 23:43:47.000000</td>\n",
       "      <td>POINT (-90.27510 56.44420)</td>\n",
       "    </tr>\n",
       "    <tr>\n",
       "      <th>3</th>\n",
       "      <td>S1B_IW_GRDH_1SDV_20161231T234322_20161231T2343...</td>\n",
       "      <td>Sentinel-1B</td>\n",
       "      <td>ASCENDING</td>\n",
       "      <td>54.9525</td>\n",
       "      <td>-89.7889</td>\n",
       "      <td>2016-12-31 23:43:22.000000</td>\n",
       "      <td>POINT (-89.78890 54.95250)</td>\n",
       "    </tr>\n",
       "    <tr>\n",
       "      <th>4</th>\n",
       "      <td>S1B_IW_GRDH_1SDV_20161231T234257_20161231T2343...</td>\n",
       "      <td>Sentinel-1B</td>\n",
       "      <td>ASCENDING</td>\n",
       "      <td>53.4596</td>\n",
       "      <td>-89.3250</td>\n",
       "      <td>2016-12-31 23:42:57.000000</td>\n",
       "      <td>POINT (-89.32500 53.45960)</td>\n",
       "    </tr>\n",
       "  </tbody>\n",
       "</table>\n",
       "</div>"
      ],
      "text/plain": [
       "                                              fileID     platform  \\\n",
       "0  S1B_IW_GRDH_1SDV_20161231T234437_20161231T2344...  Sentinel-1B   \n",
       "1  S1B_IW_GRDH_1SDV_20161231T234412_20161231T2344...  Sentinel-1B   \n",
       "2  S1B_IW_GRDH_1SDV_20161231T234347_20161231T2344...  Sentinel-1B   \n",
       "3  S1B_IW_GRDH_1SDV_20161231T234322_20161231T2343...  Sentinel-1B   \n",
       "4  S1B_IW_GRDH_1SDV_20161231T234257_20161231T2343...  Sentinel-1B   \n",
       "\n",
       "  flightDirection  centerLat  centerLon                   startTime  \\\n",
       "0       ASCENDING    59.2518   -91.2592  2016-12-31 23:44:37.000000   \n",
       "1       ASCENDING    57.9347   -90.7849  2016-12-31 23:44:12.000000   \n",
       "2       ASCENDING    56.4442   -90.2751  2016-12-31 23:43:47.000000   \n",
       "3       ASCENDING    54.9525   -89.7889  2016-12-31 23:43:22.000000   \n",
       "4       ASCENDING    53.4596   -89.3250  2016-12-31 23:42:57.000000   \n",
       "\n",
       "                     geometry  \n",
       "0  POINT (-91.25920 59.25180)  \n",
       "1  POINT (-90.78490 57.93470)  \n",
       "2  POINT (-90.27510 56.44420)  \n",
       "3  POINT (-89.78890 54.95250)  \n",
       "4  POINT (-89.32500 53.45960)  "
      ]
     },
     "execution_count": 4,
     "metadata": {},
     "output_type": "execute_result"
    }
   ],
   "source": [
    "gdf.head()"
   ]
  },
  {
   "cell_type": "code",
   "execution_count": 5,
   "id": "0d0e2a16",
   "metadata": {},
   "outputs": [],
   "source": [
    "gdf_geometry = gdf[['fileID','geometry']]\n",
    "gdf.drop(['geometry'], axis=1, inplace=True)"
   ]
  },
  {
   "cell_type": "code",
   "execution_count": 6,
   "id": "50da6afb",
   "metadata": {},
   "outputs": [],
   "source": [
    "gdf.to_csv('Sentinel1_2016.csv')"
   ]
  },
  {
   "cell_type": "code",
   "execution_count": 7,
   "id": "65694cec",
   "metadata": {},
   "outputs": [],
   "source": [
    "# Convert lat/lon from WGS to Mercator to work with Bokeh plots\n",
    "lats = []\n",
    "for i in gdf['centerLat']:\n",
    "    lats.append(i)\n",
    "    \n",
    "lons = []\n",
    "for i in gdf['centerLon']:\n",
    "    lons.append(i)\n",
    "    \n",
    "lonlat_to_webmercator = Transformer.from_crs(\"EPSG:4326\", \"EPSG:3857\", always_xy=True)\n",
    "\n",
    "def mytransform(lon, lat):\n",
    "    x, y = lonlat_to_webmercator.transform(lon, lat)\n",
    "    return x, y\n",
    "\n",
    "for i in range(len(lats)):\n",
    "    lons[i], lats[i] = mytransform(lons[i],lats[i])\n",
    "    \n",
    "gdf['x'] = lons\n",
    "gdf['y'] = lats"
   ]
  },
  {
   "cell_type": "code",
   "execution_count": 8,
   "id": "76768c05",
   "metadata": {},
   "outputs": [],
   "source": [
    "# Let's include a column to visually distinguish Sentinel-1A and B\n",
    "colors = ['blue' if x=='Sentinel-1B' else 'red' for x in gdf['platform']]\n",
    "gdf['colors'] = colors"
   ]
  },
  {
   "cell_type": "code",
   "execution_count": 9,
   "id": "d6aa1ce7",
   "metadata": {},
   "outputs": [],
   "source": [
    "# create a new source dataframe to be used by bokeh\n",
    "\n",
    "gdf_source = {\n",
    "    'Sentinel-1A ASCENDING':gdf[(gdf['platform']=='Sentinel-1A') & (gdf['flightDirection']=='ASCENDING')],\n",
    "    'Sentinel-1A DESCENDING':gdf[(gdf['platform']=='Sentinel-1A') & (gdf['flightDirection']=='DESCENDING')],\n",
    "    'Sentinel-1B ASCENDING':gdf[(gdf['platform']=='Sentinel-1B') & (gdf['flightDirection']=='ASCENDING')],\n",
    "    'Sentinel-1B DESCENDING':gdf[(gdf['platform']=='Sentinel-1B') & (gdf['flightDirection']=='DESCENDING')],\n",
    "    'Both ASCENDING':gdf[gdf['flightDirection']=='ASCENDING'],\n",
    "    'Both DESCENDING':gdf[gdf['flightDirection']=='DESCENDING'],\n",
    "    'Sentinel-1A ASCENDING+DESCENDING':gdf[gdf['platform']=='Sentinel-1A'],\n",
    "    'Sentinel-1B ASCENDING+DESCENDING':gdf[gdf['platform']=='Sentinel-1B'],\n",
    "    'Both ASCENDING+DESCENDING':gdf,\n",
    "             }\n",
    "\n",
    "source = ColumnDataSource(data=gdf_source['Sentinel-1A ASCENDING'])\n"
   ]
  },
  {
   "cell_type": "code",
   "execution_count": 10,
   "id": "dcdacd14",
   "metadata": {},
   "outputs": [
    {
     "data": {
      "text/html": [
       "<div style=\"display: table;\"><div style=\"display: table-row;\"><div style=\"display: table-cell;\"><b title=\"bokeh.models.renderers.GlyphRenderer\">GlyphRenderer</b>(</div><div style=\"display: table-cell;\">id&nbsp;=&nbsp;'1050', <span id=\"1053\" style=\"cursor: pointer;\">&hellip;)</span></div></div><div class=\"1052\" style=\"display: none;\"><div style=\"display: table-cell;\"></div><div style=\"display: table-cell;\">coordinates&nbsp;=&nbsp;None,</div></div><div class=\"1052\" style=\"display: none;\"><div style=\"display: table-cell;\"></div><div style=\"display: table-cell;\">data_source&nbsp;=&nbsp;ColumnDataSource(id='1002', ...),</div></div><div class=\"1052\" style=\"display: none;\"><div style=\"display: table-cell;\"></div><div style=\"display: table-cell;\">glyph&nbsp;=&nbsp;Circle(id='1047', ...),</div></div><div class=\"1052\" style=\"display: none;\"><div style=\"display: table-cell;\"></div><div style=\"display: table-cell;\">group&nbsp;=&nbsp;None,</div></div><div class=\"1052\" style=\"display: none;\"><div style=\"display: table-cell;\"></div><div style=\"display: table-cell;\">hover_glyph&nbsp;=&nbsp;None,</div></div><div class=\"1052\" style=\"display: none;\"><div style=\"display: table-cell;\"></div><div style=\"display: table-cell;\">js_event_callbacks&nbsp;=&nbsp;{},</div></div><div class=\"1052\" style=\"display: none;\"><div style=\"display: table-cell;\"></div><div style=\"display: table-cell;\">js_property_callbacks&nbsp;=&nbsp;{},</div></div><div class=\"1052\" style=\"display: none;\"><div style=\"display: table-cell;\"></div><div style=\"display: table-cell;\">level&nbsp;=&nbsp;'glyph',</div></div><div class=\"1052\" style=\"display: none;\"><div style=\"display: table-cell;\"></div><div style=\"display: table-cell;\">muted&nbsp;=&nbsp;False,</div></div><div class=\"1052\" style=\"display: none;\"><div style=\"display: table-cell;\"></div><div style=\"display: table-cell;\">muted_glyph&nbsp;=&nbsp;Circle(id='1049', ...),</div></div><div class=\"1052\" style=\"display: none;\"><div style=\"display: table-cell;\"></div><div style=\"display: table-cell;\">name&nbsp;=&nbsp;None,</div></div><div class=\"1052\" style=\"display: none;\"><div style=\"display: table-cell;\"></div><div style=\"display: table-cell;\">nonselection_glyph&nbsp;=&nbsp;Circle(id='1048', ...),</div></div><div class=\"1052\" style=\"display: none;\"><div style=\"display: table-cell;\"></div><div style=\"display: table-cell;\">selection_glyph&nbsp;=&nbsp;'auto',</div></div><div class=\"1052\" style=\"display: none;\"><div style=\"display: table-cell;\"></div><div style=\"display: table-cell;\">subscribed_events&nbsp;=&nbsp;[],</div></div><div class=\"1052\" style=\"display: none;\"><div style=\"display: table-cell;\"></div><div style=\"display: table-cell;\">syncable&nbsp;=&nbsp;True,</div></div><div class=\"1052\" style=\"display: none;\"><div style=\"display: table-cell;\"></div><div style=\"display: table-cell;\">tags&nbsp;=&nbsp;[],</div></div><div class=\"1052\" style=\"display: none;\"><div style=\"display: table-cell;\"></div><div style=\"display: table-cell;\">view&nbsp;=&nbsp;CDSView(id='1051', ...),</div></div><div class=\"1052\" style=\"display: none;\"><div style=\"display: table-cell;\"></div><div style=\"display: table-cell;\">visible&nbsp;=&nbsp;True,</div></div><div class=\"1052\" style=\"display: none;\"><div style=\"display: table-cell;\"></div><div style=\"display: table-cell;\">x_range_name&nbsp;=&nbsp;'default',</div></div><div class=\"1052\" style=\"display: none;\"><div style=\"display: table-cell;\"></div><div style=\"display: table-cell;\">y_range_name&nbsp;=&nbsp;'default')</div></div></div>\n",
       "<script>\n",
       "(function() {\n",
       "  let expanded = false;\n",
       "  const ellipsis = document.getElementById(\"1053\");\n",
       "  ellipsis.addEventListener(\"click\", function() {\n",
       "    const rows = document.getElementsByClassName(\"1052\");\n",
       "    for (let i = 0; i < rows.length; i++) {\n",
       "      const el = rows[i];\n",
       "      el.style.display = expanded ? \"none\" : \"table-row\";\n",
       "    }\n",
       "    ellipsis.innerHTML = expanded ? \"&hellip;)\" : \"&lsaquo;&lsaquo;&lsaquo;\";\n",
       "    expanded = !expanded;\n",
       "  });\n",
       "})();\n",
       "</script>\n"
      ],
      "text/plain": [
       "GlyphRenderer(id='1050', ...)"
      ]
     },
     "execution_count": 10,
     "metadata": {},
     "output_type": "execute_result"
    }
   ],
   "source": [
    "tile_provider = get_provider(CARTODBPOSITRON)\n",
    "\n",
    "p = figure(x_range=(-2000000, 6000000), y_range=(-1000000, 7000000),\n",
    "           x_axis_type=\"mercator\", y_axis_type=\"mercator\", plot_width=1000, plot_height = 700)\n",
    "\n",
    "\n",
    "p.title.text = 'Sentinel-1 A/B overpass'\n",
    "p.xaxis.axis_label = 'Longitude (degrees)'\n",
    "p.yaxis.axis_label = 'Latitude (degrees)'\n",
    "\n",
    "p.add_tile(tile_provider)\n",
    "p.circle(x='x', y='y', color = 'colors',  \n",
    "         size=5, alpha=0.7, source=source)"
   ]
  },
  {
   "cell_type": "code",
   "execution_count": 11,
   "id": "84aa6dcd",
   "metadata": {},
   "outputs": [],
   "source": [
    "# Set up widgets\n",
    "platform_select = Select(value='Sentinel-1A', title='Platform', \n",
    "                         options=['Sentinel-1A', 'Sentinel-1B', 'Both'])\n",
    "\n",
    "flightDirection_select = Select(value='ASCENDING', title='Flight Direction', \n",
    "                                options=['ASCENDING', 'DESCENDING', 'ASCENDING+DESCENDING'])"
   ]
  },
  {
   "cell_type": "code",
   "execution_count": 12,
   "id": "d19fde26",
   "metadata": {},
   "outputs": [],
   "source": [
    "# Define callback function\n",
    "def update_plot(attrname, old, new):\n",
    "    source.data = gdf_source[platform_select.value + ' ' + flightDirection_select.value]\n",
    "\n",
    "        \n",
    "# def update_plot_flightDir(attrname, old, new):\n",
    "#     print(attrname, old, new)\n",
    "#     platform = platform_select.value\n",
    "#     gdf_bokeh.data = ColumnDataSource(gdf[(gdf['platform']==platform) & (gdf['flightDirection']==new)])"
   ]
  },
  {
   "cell_type": "code",
   "execution_count": 13,
   "id": "2bad92a3",
   "metadata": {},
   "outputs": [],
   "source": [
    "# Set up callback actions for widgets\n",
    "platform_select.on_change('value', update_plot)\n",
    "flightDirection_select.on_change('value', update_plot)\n",
    "\n",
    "# Organize widgets into a column\n",
    "controls = column(platform_select, flightDirection_select)\n",
    "\n",
    "# Organize canvas into a row containing plot and widgets\n",
    "curdoc().add_root(row(p, controls))\n",
    "curdoc().title = \"Satellites' Paths\""
   ]
  },
  {
   "cell_type": "code",
   "execution_count": 14,
   "id": "d75f0cef",
   "metadata": {},
   "outputs": [],
   "source": [
    "# from bokeh.models import TextInput\n",
    "\n",
    "# def my_text_input_handler(attr, old, new):\n",
    "#     print(\"Previous label: \" + old)\n",
    "#     print(\"Updated label: \" + new)\n",
    "\n",
    "# text_input = TextInput(value=\"default\", title=\"Label:\")\n",
    "# text_input.on_change(\"value\", my_text_input_handler)"
   ]
  },
  {
   "cell_type": "code",
   "execution_count": 15,
   "id": "2483f24d",
   "metadata": {},
   "outputs": [],
   "source": [
    "#show(text_input)"
   ]
  },
  {
   "cell_type": "code",
   "execution_count": 16,
   "id": "d47e8283",
   "metadata": {},
   "outputs": [],
   "source": [
    "# from datetime import date\n",
    "# from bokeh.io import show\n",
    "# from bokeh.models import CustomJS, DateRangeSlider\n",
    "\n",
    "# def handler(new):\n",
    "#     print('Radio button option ' + str(new) + ' selected.')\n",
    "\n",
    "# date_range_slider = DateRangeSlider(value=(date(2016, 1, 1), date(2016, 12, 31)),\n",
    "#                                     start=date(2016, 1, 1), end=date(2016, 12, 31))\n",
    "# date_range_slider.js_on_change(\"value\", handler)"
   ]
  }
 ],
 "metadata": {
  "kernelspec": {
   "display_name": "Python 3 (ipykernel)",
   "language": "python",
   "name": "python3"
  },
  "language_info": {
   "codemirror_mode": {
    "name": "ipython",
    "version": 3
   },
   "file_extension": ".py",
   "mimetype": "text/x-python",
   "name": "python",
   "nbconvert_exporter": "python",
   "pygments_lexer": "ipython3",
   "version": "3.9.12"
  }
 },
 "nbformat": 4,
 "nbformat_minor": 5
}
