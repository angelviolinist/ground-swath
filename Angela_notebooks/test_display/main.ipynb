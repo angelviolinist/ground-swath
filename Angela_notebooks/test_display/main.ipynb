{
 "cells": [
  {
   "cell_type": "code",
   "execution_count": 17,
   "id": "3b51a2a2",
   "metadata": {},
   "outputs": [],
   "source": [
    "import asf_search as asf\n",
    "import numpy as np\n",
    "import geopandas as gpd\n",
    "import pandas as pd\n",
    "# import holoviews as hv\n",
    "# from holoviews import opts\n",
    "# hv.extension('bokeh')\n",
    "import datetime\n",
    "from bokeh.io import curdoc\n",
    "from bokeh.layouts import column, row\n",
    "from bokeh.models import ColumnDataSource, DataRange1d, Select\n",
    "from bokeh.palettes import Blues4\n",
    "from bokeh.plotting import figure,show"
   ]
  },
  {
   "cell_type": "code",
   "execution_count": 40,
   "id": "79ad8385",
   "metadata": {},
   "outputs": [],
   "source": [
    "def make_df(results):\n",
    "    df = pd.DataFrame(\n",
    "    {\n",
    "        'fileID':[],\n",
    "        'platform':[],\n",
    "        'flightDirection':[],\n",
    "        'centerLat':[],\n",
    "        'centerLon':[],\n",
    "        'processingLevel':[],\n",
    "        'startTime':[]\n",
    "    })\n",
    "    name = []\n",
    "    platformlist = []\n",
    "    flightlist = []\n",
    "    latlist = []\n",
    "    lonlist = []\n",
    "    processlist = []\n",
    "    stime = []\n",
    "    for i in range(len(results)):\n",
    "        name.append(results[i].properties['fileID'])\n",
    "        platformlist.append(results[i].properties['platform'])\n",
    "        flightlist.append(results[i].properties['flightDirection'])\n",
    "        latlist.append(float(results[i].properties['centerLat']))\n",
    "        lonlist.append(float(results[i].properties['centerLon']))\n",
    "        processlist.append(results[i].properties['processingLevel'])\n",
    "        timestring = results[i].properties['startTime'][0:10] + ' ' + results[i].properties['startTime'][11:]\n",
    "        stime.append(timestring)\n",
    "\n",
    "    df.fileID = name\n",
    "    df.platform = platformlist\n",
    "    df.flightDirection = flightlist\n",
    "    df.centerLat = latlist\n",
    "    df.centerLon = lonlist\n",
    "    df.processingLevel = processlist\n",
    "    df.startTime = stime\n",
    "    \n",
    "    return df"
   ]
  },
  {
   "cell_type": "code",
   "execution_count": 42,
   "id": "4e6fb035",
   "metadata": {},
   "outputs": [],
   "source": [
    "opts = {\n",
    "    'platform': asf.PLATFORM.SENTINEL1,\n",
    "    'maxResults': 100,\n",
    "    'start': '2016-01-01T00:00:00Z',\n",
    "    'end': '2016-12-31T23:59:59Z'\n",
    "}\n",
    "results = asf.search(**opts)\n",
    "\n",
    "df_2016 = make_df(results)\n",
    "gdf = gpd.GeoDataFrame(df_2016, geometry=gpd.points_from_xy(df_2016.centerLon, df_2016.centerLat))"
   ]
  },
  {
   "cell_type": "code",
   "execution_count": 25,
   "id": "ecfb153f",
   "metadata": {
    "scrolled": false
   },
   "outputs": [
    {
     "data": {
      "text/html": [
       "<div>\n",
       "<style scoped>\n",
       "    .dataframe tbody tr th:only-of-type {\n",
       "        vertical-align: middle;\n",
       "    }\n",
       "\n",
       "    .dataframe tbody tr th {\n",
       "        vertical-align: top;\n",
       "    }\n",
       "\n",
       "    .dataframe thead th {\n",
       "        text-align: right;\n",
       "    }\n",
       "</style>\n",
       "<table border=\"1\" class=\"dataframe\">\n",
       "  <thead>\n",
       "    <tr style=\"text-align: right;\">\n",
       "      <th></th>\n",
       "      <th>fileID</th>\n",
       "      <th>platform</th>\n",
       "      <th>flightDirection</th>\n",
       "      <th>centerLat</th>\n",
       "      <th>centerLon</th>\n",
       "      <th>processingLevel</th>\n",
       "      <th>startTime</th>\n",
       "    </tr>\n",
       "  </thead>\n",
       "  <tbody>\n",
       "    <tr>\n",
       "      <th>0</th>\n",
       "      <td>S1B_EW_GRDM_1SDH_20161231T235652_20161231T2357...</td>\n",
       "      <td>Sentinel-1B</td>\n",
       "      <td>DESCENDING</td>\n",
       "      <td>74.7488</td>\n",
       "      <td>106.1149</td>\n",
       "      <td>GRD_MD</td>\n",
       "      <td>2016-12-31 23:56:52.000000</td>\n",
       "    </tr>\n",
       "    <tr>\n",
       "      <th>1</th>\n",
       "      <td>S1B_EW_GRDM_1SDH_20161231T235652_20161231T2357...</td>\n",
       "      <td>Sentinel-1B</td>\n",
       "      <td>DESCENDING</td>\n",
       "      <td>74.7488</td>\n",
       "      <td>106.1149</td>\n",
       "      <td>METADATA_GRD_MD</td>\n",
       "      <td>2016-12-31 23:56:52.000000</td>\n",
       "    </tr>\n",
       "    <tr>\n",
       "      <th>2</th>\n",
       "      <td>S1B_EW_RAW__0SDH_20161231T235648_20161231T2357...</td>\n",
       "      <td>Sentinel-1B</td>\n",
       "      <td>DESCENDING</td>\n",
       "      <td>74.7983</td>\n",
       "      <td>106.3775</td>\n",
       "      <td>METADATA_RAW</td>\n",
       "      <td>2016-12-31 23:56:48.000000</td>\n",
       "    </tr>\n",
       "    <tr>\n",
       "      <th>3</th>\n",
       "      <td>S1B_EW_RAW__0SDH_20161231T235648_20161231T2357...</td>\n",
       "      <td>Sentinel-1B</td>\n",
       "      <td>DESCENDING</td>\n",
       "      <td>74.7983</td>\n",
       "      <td>106.3775</td>\n",
       "      <td>RAW</td>\n",
       "      <td>2016-12-31 23:56:48.000000</td>\n",
       "    </tr>\n",
       "    <tr>\n",
       "      <th>4</th>\n",
       "      <td>S1B_EW_RAW__0SDH_20161231T235548_20161231T2356...</td>\n",
       "      <td>Sentinel-1B</td>\n",
       "      <td>DESCENDING</td>\n",
       "      <td>78.0089</td>\n",
       "      <td>111.4157</td>\n",
       "      <td>METADATA_RAW</td>\n",
       "      <td>2016-12-31 23:55:48.000000</td>\n",
       "    </tr>\n",
       "  </tbody>\n",
       "</table>\n",
       "</div>"
      ],
      "text/plain": [
       "                                              fileID     platform  \\\n",
       "0  S1B_EW_GRDM_1SDH_20161231T235652_20161231T2357...  Sentinel-1B   \n",
       "1  S1B_EW_GRDM_1SDH_20161231T235652_20161231T2357...  Sentinel-1B   \n",
       "2  S1B_EW_RAW__0SDH_20161231T235648_20161231T2357...  Sentinel-1B   \n",
       "3  S1B_EW_RAW__0SDH_20161231T235648_20161231T2357...  Sentinel-1B   \n",
       "4  S1B_EW_RAW__0SDH_20161231T235548_20161231T2356...  Sentinel-1B   \n",
       "\n",
       "  flightDirection centerLat centerLon  processingLevel  \\\n",
       "0      DESCENDING   74.7488  106.1149           GRD_MD   \n",
       "1      DESCENDING   74.7488  106.1149  METADATA_GRD_MD   \n",
       "2      DESCENDING   74.7983  106.3775     METADATA_RAW   \n",
       "3      DESCENDING   74.7983  106.3775              RAW   \n",
       "4      DESCENDING   78.0089  111.4157     METADATA_RAW   \n",
       "\n",
       "                    startTime  \n",
       "0  2016-12-31 23:56:52.000000  \n",
       "1  2016-12-31 23:56:52.000000  \n",
       "2  2016-12-31 23:56:48.000000  \n",
       "3  2016-12-31 23:56:48.000000  \n",
       "4  2016-12-31 23:55:48.000000  "
      ]
     },
     "execution_count": 25,
     "metadata": {},
     "output_type": "execute_result"
    }
   ],
   "source": [
    "gdf.head()"
   ]
  },
  {
   "cell_type": "code",
   "execution_count": 43,
   "id": "3c5b848a",
   "metadata": {},
   "outputs": [
    {
     "data": {
      "text/plain": [
       "numpy.float64"
      ]
     },
     "execution_count": 43,
     "metadata": {},
     "output_type": "execute_result"
    }
   ],
   "source": [
    "type(df_2016.centerLat.iloc[0])"
   ]
  },
  {
   "cell_type": "code",
   "execution_count": 24,
   "id": "2b9980a8",
   "metadata": {},
   "outputs": [],
   "source": [
    "gdf.drop(['geometry'], axis=1,inplace=True)"
   ]
  },
  {
   "cell_type": "code",
   "execution_count": 26,
   "id": "f61e08b3",
   "metadata": {},
   "outputs": [],
   "source": [
    "gdf.to_csv('Sentinel1_2016.csv')"
   ]
  },
  {
   "cell_type": "code",
   "execution_count": 6,
   "id": "2524552f",
   "metadata": {},
   "outputs": [],
   "source": [
    "def get_dataset(src, name):\n",
    "    df = src.copy()\n",
    "    df['date'] = pd.to_datetime(df.startTime)\n",
    "    # timedelta here instead of pd.DateOffset to avoid pandas bug < 0.18 (Pandas issue #11925)\n",
    "#     df['left'] = df.date - datetime.timedelta(days=0.5)\n",
    "#     df['right'] = df.date + datetime.timedelta(days=0.5)\n",
    "    df = df.set_index(['date'])\n",
    "    df.sort_index(inplace=True)\n",
    "\n",
    "    return ColumnDataSource(data=df)"
   ]
  },
  {
   "cell_type": "code",
   "execution_count": 44,
   "id": "beb87a35",
   "metadata": {},
   "outputs": [],
   "source": [
    "def make_plot(source, title):\n",
    "#     plot = figure(x_axis_type=\"datetime\", width=800, tools=\"\", toolbar_location=None)\n",
    "    plot = figure()\n",
    "    plot.title.text = title\n",
    "    \n",
    "\n",
    "#     plot.circle('date','centerLat',source=source)\n",
    "\n",
    "    plot.circle(df_2016.startTime,df_2016.centerLat)\n",
    "\n",
    "    # fixed attributes\n",
    "    plot.xaxis.axis_label = None\n",
    "    plot.yaxis.axis_label = \"Latitude\"\n",
    "    plot.axis.axis_label_text_font_style = \"bold\"\n",
    "    plot.x_range = DataRange1d(range_padding=0.0)\n",
    "    plot.grid.grid_line_alpha = 0.3\n",
    "\n",
    "    return plot"
   ]
  },
  {
   "cell_type": "raw",
   "id": "1c18b9e1",
   "metadata": {},
   "source": [
    "def update_plot(attrname, old, new):\n",
    "    city = city_select.value\n",
    "    plot.title.text = \"Weather data for \" + cities[city]['title']\n",
    "\n",
    "    src = get_dataset(df, cities[city]['airport'], distribution_select.value)\n",
    "    source.data.update(src.data)"
   ]
  },
  {
   "cell_type": "code",
   "execution_count": 7,
   "id": "55e3ab89",
   "metadata": {},
   "outputs": [],
   "source": [
    "source = get_dataset(df_2016,df_2016.fileID)"
   ]
  },
  {
   "cell_type": "code",
   "execution_count": 45,
   "id": "9ad0f809",
   "metadata": {},
   "outputs": [],
   "source": [
    "plot = make_plot(source, \"Ground-swath project\")"
   ]
  },
  {
   "cell_type": "code",
   "execution_count": 46,
   "id": "ca1a9926",
   "metadata": {},
   "outputs": [],
   "source": [
    "curdoc().add_root(row(plot))\n",
    "curdoc().title = \"Ground-swath project\""
   ]
  },
  {
   "cell_type": "code",
   "execution_count": null,
   "id": "0863e0d4",
   "metadata": {},
   "outputs": [],
   "source": []
  }
 ],
 "metadata": {
  "kernelspec": {
   "display_name": "Python 3 (ipykernel)",
   "language": "python",
   "name": "python3"
  },
  "language_info": {
   "codemirror_mode": {
    "name": "ipython",
    "version": 3
   },
   "file_extension": ".py",
   "mimetype": "text/x-python",
   "name": "python",
   "nbconvert_exporter": "python",
   "pygments_lexer": "ipython3",
   "version": "3.10.4"
  }
 },
 "nbformat": 4,
 "nbformat_minor": 5
}
