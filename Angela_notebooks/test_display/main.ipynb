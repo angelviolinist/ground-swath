{
 "cells": [
  {
   "cell_type": "code",
   "execution_count": 32,
   "metadata": {},
   "outputs": [],
   "source": [
    "import asf_search as asf\n",
    "import numpy as np\n",
    "import geopandas as gpd\n",
    "import pandas as pd\n",
    "import datetime\n",
    "from bokeh.io import curdoc\n",
    "from bokeh.layouts import column, row\n",
    "from bokeh.models import GeoJSONDataSource, DataRange1d, Select\n",
    "from bokeh.palettes import Blues4\n",
    "from bokeh.plotting import figure, show, output_file\n",
    "import json\n",
    "from pyproj import Transformer\n",
    "#output_notebook()"
   ]
  },
  {
   "cell_type": "code",
   "execution_count": 33,
   "metadata": {},
   "outputs": [],
   "source": [
    "def make_df(results):\n",
    "    df = pd.DataFrame(\n",
    "    {\n",
    "        'fileID':[],\n",
    "        'platform':[],\n",
    "        'flightDirection':[],\n",
    "        'centerLat':[],\n",
    "        'centerLon':[],\n",
    "#         'processingLevel':[],\n",
    "        'startTime':[]\n",
    "    })\n",
    "    name = []\n",
    "    platformlist = []\n",
    "    flightlist = []\n",
    "    latlist = []\n",
    "    lonlist = []\n",
    "#     processlist = []\n",
    "    stime = []\n",
    "    for i in range(len(results)):\n",
    "        name.append(results[i].properties['fileID'])\n",
    "        platformlist.append(results[i].properties['platform'])\n",
    "        flightlist.append(results[i].properties['flightDirection'])\n",
    "        latlist.append(float(results[i].properties['centerLat']))\n",
    "        lonlist.append(float(results[i].properties['centerLon']))\n",
    "#         processlist.append(results[i].properties['processingLevel'])\n",
    "        timestring = results[i].properties['startTime'][0:10] + ' ' + results[i].properties['startTime'][11:]\n",
    "        stime.append(timestring)\n",
    "\n",
    "    df.fileID = name\n",
    "    df.platform = platformlist\n",
    "    df.flightDirection = flightlist\n",
    "    df.centerLat = latlist\n",
    "    df.centerLon = lonlist\n",
    "#     df.processingLevel = processlist\n",
    "    df.startTime = stime\n",
    "    \n",
    "    return df"
   ]
  },
  {
   "cell_type": "code",
   "execution_count": 34,
   "metadata": {},
   "outputs": [],
   "source": [
    "opts = {\n",
    "    'platform': asf.PLATFORM.SENTINEL1,\n",
    "    'maxResults': 100,\n",
    "    'start': '2016-01-01T00:00:00Z',\n",
    "    'end': '2016-12-31T23:59:59Z'\n",
    "}\n",
    "results = asf.search(**opts)\n",
    "\n",
    "df_2016 = make_df(results)\n",
    "gdf = gpd.GeoDataFrame(df_2016, geometry=gpd.points_from_xy(df_2016.centerLon, df_2016.centerLat))"
   ]
  },
  {
   "cell_type": "code",
   "execution_count": 35,
   "metadata": {
    "scrolled": false
   },
   "outputs": [
    {
     "data": {
      "text/html": [
       "<div>\n",
       "<style scoped>\n",
       "    .dataframe tbody tr th:only-of-type {\n",
       "        vertical-align: middle;\n",
       "    }\n",
       "\n",
       "    .dataframe tbody tr th {\n",
       "        vertical-align: top;\n",
       "    }\n",
       "\n",
       "    .dataframe thead th {\n",
       "        text-align: right;\n",
       "    }\n",
       "</style>\n",
       "<table border=\"1\" class=\"dataframe\">\n",
       "  <thead>\n",
       "    <tr style=\"text-align: right;\">\n",
       "      <th></th>\n",
       "      <th>fileID</th>\n",
       "      <th>platform</th>\n",
       "      <th>flightDirection</th>\n",
       "      <th>centerLat</th>\n",
       "      <th>centerLon</th>\n",
       "      <th>startTime</th>\n",
       "      <th>geometry</th>\n",
       "    </tr>\n",
       "  </thead>\n",
       "  <tbody>\n",
       "    <tr>\n",
       "      <th>0</th>\n",
       "      <td>S1B_EW_GRDM_1SDH_20161231T235652_20161231T2357...</td>\n",
       "      <td>Sentinel-1B</td>\n",
       "      <td>DESCENDING</td>\n",
       "      <td>74.7488</td>\n",
       "      <td>106.1149</td>\n",
       "      <td>2016-12-31 23:56:52.000000</td>\n",
       "      <td>POINT (106.11490 74.74880)</td>\n",
       "    </tr>\n",
       "    <tr>\n",
       "      <th>1</th>\n",
       "      <td>S1B_EW_GRDM_1SDH_20161231T235652_20161231T2357...</td>\n",
       "      <td>Sentinel-1B</td>\n",
       "      <td>DESCENDING</td>\n",
       "      <td>74.7488</td>\n",
       "      <td>106.1149</td>\n",
       "      <td>2016-12-31 23:56:52.000000</td>\n",
       "      <td>POINT (106.11490 74.74880)</td>\n",
       "    </tr>\n",
       "    <tr>\n",
       "      <th>2</th>\n",
       "      <td>S1B_EW_RAW__0SDH_20161231T235648_20161231T2357...</td>\n",
       "      <td>Sentinel-1B</td>\n",
       "      <td>DESCENDING</td>\n",
       "      <td>74.7983</td>\n",
       "      <td>106.3775</td>\n",
       "      <td>2016-12-31 23:56:48.000000</td>\n",
       "      <td>POINT (106.37750 74.79830)</td>\n",
       "    </tr>\n",
       "    <tr>\n",
       "      <th>3</th>\n",
       "      <td>S1B_EW_RAW__0SDH_20161231T235648_20161231T2357...</td>\n",
       "      <td>Sentinel-1B</td>\n",
       "      <td>DESCENDING</td>\n",
       "      <td>74.7983</td>\n",
       "      <td>106.3775</td>\n",
       "      <td>2016-12-31 23:56:48.000000</td>\n",
       "      <td>POINT (106.37750 74.79830)</td>\n",
       "    </tr>\n",
       "    <tr>\n",
       "      <th>4</th>\n",
       "      <td>S1B_EW_RAW__0SDH_20161231T235548_20161231T2356...</td>\n",
       "      <td>Sentinel-1B</td>\n",
       "      <td>DESCENDING</td>\n",
       "      <td>78.0089</td>\n",
       "      <td>111.4157</td>\n",
       "      <td>2016-12-31 23:55:48.000000</td>\n",
       "      <td>POINT (111.41570 78.00890)</td>\n",
       "    </tr>\n",
       "  </tbody>\n",
       "</table>\n",
       "</div>"
      ],
      "text/plain": [
       "                                              fileID     platform  \\\n",
       "0  S1B_EW_GRDM_1SDH_20161231T235652_20161231T2357...  Sentinel-1B   \n",
       "1  S1B_EW_GRDM_1SDH_20161231T235652_20161231T2357...  Sentinel-1B   \n",
       "2  S1B_EW_RAW__0SDH_20161231T235648_20161231T2357...  Sentinel-1B   \n",
       "3  S1B_EW_RAW__0SDH_20161231T235648_20161231T2357...  Sentinel-1B   \n",
       "4  S1B_EW_RAW__0SDH_20161231T235548_20161231T2356...  Sentinel-1B   \n",
       "\n",
       "  flightDirection  centerLat  centerLon                   startTime  \\\n",
       "0      DESCENDING    74.7488   106.1149  2016-12-31 23:56:52.000000   \n",
       "1      DESCENDING    74.7488   106.1149  2016-12-31 23:56:52.000000   \n",
       "2      DESCENDING    74.7983   106.3775  2016-12-31 23:56:48.000000   \n",
       "3      DESCENDING    74.7983   106.3775  2016-12-31 23:56:48.000000   \n",
       "4      DESCENDING    78.0089   111.4157  2016-12-31 23:55:48.000000   \n",
       "\n",
       "                     geometry  \n",
       "0  POINT (106.11490 74.74880)  \n",
       "1  POINT (106.11490 74.74880)  \n",
       "2  POINT (106.37750 74.79830)  \n",
       "3  POINT (106.37750 74.79830)  \n",
       "4  POINT (111.41570 78.00890)  "
      ]
     },
     "execution_count": 35,
     "metadata": {},
     "output_type": "execute_result"
    }
   ],
   "source": [
    "gdf.head()"
   ]
  },
  {
   "cell_type": "code",
   "execution_count": 36,
   "metadata": {},
   "outputs": [],
   "source": [
    "gdf.drop(['geometry'], axis=1,inplace=True)"
   ]
  },
  {
   "cell_type": "code",
   "execution_count": 37,
   "metadata": {},
   "outputs": [],
   "source": [
    "gdf.to_csv('Sentinel1_2016.csv')"
   ]
  },
  {
   "cell_type": "code",
   "execution_count": 48,
   "metadata": {},
   "outputs": [],
   "source": [
    "def update_plot(attrname, old, new):\n",
    "    platform = platform_select.value\n",
    "    flightDir = flightDirection_select.value\n",
    "    \n",
    "    src_temp = gdf[(gdf['platform'] == platform)]\n",
    "    src = src_temp[src_temp['flightDirection'] == flightDir]\n",
    "    #update data\n",
    "    gdf = src"
   ]
  },
  {
   "cell_type": "code",
   "execution_count": null,
   "metadata": {},
   "outputs": [],
   "source": []
  },
  {
   "cell_type": "code",
   "execution_count": 49,
   "metadata": {},
   "outputs": [],
   "source": [
    "lats = []\n",
    "for i in gdf['centerLat']:\n",
    "    lats.append(i)\n",
    "    \n",
    "lons = []\n",
    "for i in gdf['centerLon']:\n",
    "    lons.append(i)\n",
    "    \n",
    "lonlat_to_webmercator = Transformer.from_crs(\"EPSG:4326\", \"EPSG:3857\", always_xy=True)\n",
    "\n",
    "def mytransform(lon, lat):\n",
    "    x, y = lonlat_to_webmercator.transform(lon, lat)\n",
    "    return x, y\n",
    "\n",
    "for i in range(len(lats)):\n",
    "    lons[i], lats[i] = mytransform(lons[i],lats[i])"
   ]
  },
  {
   "cell_type": "code",
   "execution_count": 50,
   "metadata": {},
   "outputs": [],
   "source": [
    "gdf['x'] = lons\n",
    "gdf['y'] = lats"
   ]
  },
  {
   "cell_type": "code",
   "execution_count": 51,
   "metadata": {},
   "outputs": [
    {
     "data": {
      "text/html": [
       "<div>\n",
       "<style scoped>\n",
       "    .dataframe tbody tr th:only-of-type {\n",
       "        vertical-align: middle;\n",
       "    }\n",
       "\n",
       "    .dataframe tbody tr th {\n",
       "        vertical-align: top;\n",
       "    }\n",
       "\n",
       "    .dataframe thead th {\n",
       "        text-align: right;\n",
       "    }\n",
       "</style>\n",
       "<table border=\"1\" class=\"dataframe\">\n",
       "  <thead>\n",
       "    <tr style=\"text-align: right;\">\n",
       "      <th></th>\n",
       "      <th>fileID</th>\n",
       "      <th>platform</th>\n",
       "      <th>flightDirection</th>\n",
       "      <th>centerLat</th>\n",
       "      <th>centerLon</th>\n",
       "      <th>startTime</th>\n",
       "      <th>x</th>\n",
       "      <th>y</th>\n",
       "    </tr>\n",
       "  </thead>\n",
       "  <tbody>\n",
       "    <tr>\n",
       "      <th>0</th>\n",
       "      <td>S1B_EW_GRDM_1SDH_20161231T235652_20161231T2357...</td>\n",
       "      <td>Sentinel-1B</td>\n",
       "      <td>DESCENDING</td>\n",
       "      <td>74.7488</td>\n",
       "      <td>106.1149</td>\n",
       "      <td>2016-12-31 23:56:52.000000</td>\n",
       "      <td>1.181266e+07</td>\n",
       "      <td>1.282507e+07</td>\n",
       "    </tr>\n",
       "    <tr>\n",
       "      <th>1</th>\n",
       "      <td>S1B_EW_GRDM_1SDH_20161231T235652_20161231T2357...</td>\n",
       "      <td>Sentinel-1B</td>\n",
       "      <td>DESCENDING</td>\n",
       "      <td>74.7488</td>\n",
       "      <td>106.1149</td>\n",
       "      <td>2016-12-31 23:56:52.000000</td>\n",
       "      <td>1.181266e+07</td>\n",
       "      <td>1.282507e+07</td>\n",
       "    </tr>\n",
       "    <tr>\n",
       "      <th>2</th>\n",
       "      <td>S1B_EW_RAW__0SDH_20161231T235648_20161231T2357...</td>\n",
       "      <td>Sentinel-1B</td>\n",
       "      <td>DESCENDING</td>\n",
       "      <td>74.7983</td>\n",
       "      <td>106.3775</td>\n",
       "      <td>2016-12-31 23:56:48.000000</td>\n",
       "      <td>1.184189e+07</td>\n",
       "      <td>1.284606e+07</td>\n",
       "    </tr>\n",
       "    <tr>\n",
       "      <th>3</th>\n",
       "      <td>S1B_EW_RAW__0SDH_20161231T235648_20161231T2357...</td>\n",
       "      <td>Sentinel-1B</td>\n",
       "      <td>DESCENDING</td>\n",
       "      <td>74.7983</td>\n",
       "      <td>106.3775</td>\n",
       "      <td>2016-12-31 23:56:48.000000</td>\n",
       "      <td>1.184189e+07</td>\n",
       "      <td>1.284606e+07</td>\n",
       "    </tr>\n",
       "    <tr>\n",
       "      <th>4</th>\n",
       "      <td>S1B_EW_RAW__0SDH_20161231T235548_20161231T2356...</td>\n",
       "      <td>Sentinel-1B</td>\n",
       "      <td>DESCENDING</td>\n",
       "      <td>78.0089</td>\n",
       "      <td>111.4157</td>\n",
       "      <td>2016-12-31 23:55:48.000000</td>\n",
       "      <td>1.240274e+07</td>\n",
       "      <td>1.437345e+07</td>\n",
       "    </tr>\n",
       "  </tbody>\n",
       "</table>\n",
       "</div>"
      ],
      "text/plain": [
       "                                              fileID     platform  \\\n",
       "0  S1B_EW_GRDM_1SDH_20161231T235652_20161231T2357...  Sentinel-1B   \n",
       "1  S1B_EW_GRDM_1SDH_20161231T235652_20161231T2357...  Sentinel-1B   \n",
       "2  S1B_EW_RAW__0SDH_20161231T235648_20161231T2357...  Sentinel-1B   \n",
       "3  S1B_EW_RAW__0SDH_20161231T235648_20161231T2357...  Sentinel-1B   \n",
       "4  S1B_EW_RAW__0SDH_20161231T235548_20161231T2356...  Sentinel-1B   \n",
       "\n",
       "  flightDirection  centerLat  centerLon                   startTime  \\\n",
       "0      DESCENDING    74.7488   106.1149  2016-12-31 23:56:52.000000   \n",
       "1      DESCENDING    74.7488   106.1149  2016-12-31 23:56:52.000000   \n",
       "2      DESCENDING    74.7983   106.3775  2016-12-31 23:56:48.000000   \n",
       "3      DESCENDING    74.7983   106.3775  2016-12-31 23:56:48.000000   \n",
       "4      DESCENDING    78.0089   111.4157  2016-12-31 23:55:48.000000   \n",
       "\n",
       "              x             y  \n",
       "0  1.181266e+07  1.282507e+07  \n",
       "1  1.181266e+07  1.282507e+07  \n",
       "2  1.184189e+07  1.284606e+07  \n",
       "3  1.184189e+07  1.284606e+07  \n",
       "4  1.240274e+07  1.437345e+07  "
      ]
     },
     "execution_count": 51,
     "metadata": {},
     "output_type": "execute_result"
    }
   ],
   "source": [
    "gdf.head()"
   ]
  },
  {
   "cell_type": "code",
   "execution_count": 52,
   "metadata": {},
   "outputs": [
    {
     "data": {
      "text/html": [
       "<div style=\"display: table;\"><div style=\"display: table-row;\"><div style=\"display: table-cell;\"><b title=\"bokeh.models.renderers.GlyphRenderer\">GlyphRenderer</b>(</div><div style=\"display: table-cell;\">id&nbsp;=&nbsp;'1416', <span id=\"1419\" style=\"cursor: pointer;\">&hellip;)</span></div></div><div class=\"1418\" style=\"display: none;\"><div style=\"display: table-cell;\"></div><div style=\"display: table-cell;\">data_source&nbsp;=&nbsp;ColumnDataSource(id='1412', ...),</div></div><div class=\"1418\" style=\"display: none;\"><div style=\"display: table-cell;\"></div><div style=\"display: table-cell;\">glyph&nbsp;=&nbsp;Circle(id='1414', ...),</div></div><div class=\"1418\" style=\"display: none;\"><div style=\"display: table-cell;\"></div><div style=\"display: table-cell;\">hover_glyph&nbsp;=&nbsp;None,</div></div><div class=\"1418\" style=\"display: none;\"><div style=\"display: table-cell;\"></div><div style=\"display: table-cell;\">js_event_callbacks&nbsp;=&nbsp;{},</div></div><div class=\"1418\" style=\"display: none;\"><div style=\"display: table-cell;\"></div><div style=\"display: table-cell;\">js_property_callbacks&nbsp;=&nbsp;{},</div></div><div class=\"1418\" style=\"display: none;\"><div style=\"display: table-cell;\"></div><div style=\"display: table-cell;\">level&nbsp;=&nbsp;'glyph',</div></div><div class=\"1418\" style=\"display: none;\"><div style=\"display: table-cell;\"></div><div style=\"display: table-cell;\">muted&nbsp;=&nbsp;False,</div></div><div class=\"1418\" style=\"display: none;\"><div style=\"display: table-cell;\"></div><div style=\"display: table-cell;\">muted_glyph&nbsp;=&nbsp;None,</div></div><div class=\"1418\" style=\"display: none;\"><div style=\"display: table-cell;\"></div><div style=\"display: table-cell;\">name&nbsp;=&nbsp;None,</div></div><div class=\"1418\" style=\"display: none;\"><div style=\"display: table-cell;\"></div><div style=\"display: table-cell;\">nonselection_glyph&nbsp;=&nbsp;Circle(id='1415', ...),</div></div><div class=\"1418\" style=\"display: none;\"><div style=\"display: table-cell;\"></div><div style=\"display: table-cell;\">selection_glyph&nbsp;=&nbsp;None,</div></div><div class=\"1418\" style=\"display: none;\"><div style=\"display: table-cell;\"></div><div style=\"display: table-cell;\">subscribed_events&nbsp;=&nbsp;[],</div></div><div class=\"1418\" style=\"display: none;\"><div style=\"display: table-cell;\"></div><div style=\"display: table-cell;\">tags&nbsp;=&nbsp;[],</div></div><div class=\"1418\" style=\"display: none;\"><div style=\"display: table-cell;\"></div><div style=\"display: table-cell;\">view&nbsp;=&nbsp;CDSView(id='1417', ...),</div></div><div class=\"1418\" style=\"display: none;\"><div style=\"display: table-cell;\"></div><div style=\"display: table-cell;\">visible&nbsp;=&nbsp;True,</div></div><div class=\"1418\" style=\"display: none;\"><div style=\"display: table-cell;\"></div><div style=\"display: table-cell;\">x_range_name&nbsp;=&nbsp;'default',</div></div><div class=\"1418\" style=\"display: none;\"><div style=\"display: table-cell;\"></div><div style=\"display: table-cell;\">y_range_name&nbsp;=&nbsp;'default')</div></div></div>\n",
       "<script>\n",
       "(function() {\n",
       "  var expanded = false;\n",
       "  var ellipsis = document.getElementById(\"1419\");\n",
       "  ellipsis.addEventListener(\"click\", function() {\n",
       "    var rows = document.getElementsByClassName(\"1418\");\n",
       "    for (var i = 0; i < rows.length; i++) {\n",
       "      var el = rows[i];\n",
       "      el.style.display = expanded ? \"none\" : \"table-row\";\n",
       "    }\n",
       "    ellipsis.innerHTML = expanded ? \"&hellip;)\" : \"&lsaquo;&lsaquo;&lsaquo;\";\n",
       "    expanded = !expanded;\n",
       "  });\n",
       "})();\n",
       "</script>\n"
      ],
      "text/plain": [
       "GlyphRenderer(id='1416', ...)"
      ]
     },
     "execution_count": 52,
     "metadata": {},
     "output_type": "execute_result"
    }
   ],
   "source": [
    "from bokeh.plotting import figure, output_file, show\n",
    "from bokeh.tile_providers import CARTODBPOSITRON, get_provider\n",
    "from bokeh.sampledata.sample_geojson import geojson\n",
    "output_file(\"geojson.html\")\n",
    "output_file(\"tile.html\")\n",
    "\n",
    "data = json.loads(geojson)\n",
    "for i in range(len(data['features'])):\n",
    "    data['features'][i]['properties']['Color'] = ['blue', 'red'][i%2]\n",
    "\n",
    "geo_source = GeoJSONDataSource(geojson=json.dumps(data))\n",
    "\n",
    "TOOLTIPS = [\n",
    "    ('Organisation', '@OrganisationName')\n",
    "]\n",
    "tile_provider = get_provider(CARTODBPOSITRON)\n",
    "\n",
    "# p = figure(background_fill_color=\"lightgrey\", tooltips=TOOLTIPS)\n",
    "p = figure(x_range=(-2000000, 6000000), y_range=(-1000000, 7000000),\n",
    "           x_axis_type=\"mercator\", y_axis_type=\"mercator\",\n",
    "           tooltips=TOOLTIPS)\n",
    "p.add_tile(tile_provider)\n",
    "# p.circle(x='centerLon', y='centerLat', size=15, alpha=0.7, source=source)\n",
    "p.circle(x='x', y='y', size=5, alpha=0.7, source=gdf)\n",
    "\n",
    "#show(p)"
   ]
  },
  {
   "cell_type": "code",
   "execution_count": null,
   "metadata": {},
   "outputs": [],
   "source": []
  },
  {
   "cell_type": "code",
   "execution_count": null,
   "metadata": {},
   "outputs": [],
   "source": []
  },
  {
   "cell_type": "code",
   "execution_count": 53,
   "metadata": {},
   "outputs": [],
   "source": [
    "from bokeh.models import Select\n",
    "platform = 'Sentinel-1B'\n",
    "flightDirection = 'DESCENDING'\n",
    "\n",
    "platform_select = Select(value=platform, title='Platform', options=['Sentinel-1A', 'Sentinel-1B'])\n",
    "flightDirection_select = Select(value=flightDirection, title='Flight Direction', options=['ASCENDING', 'DESCENDING'])"
   ]
  },
  {
   "cell_type": "code",
   "execution_count": 54,
   "metadata": {},
   "outputs": [],
   "source": [
    "#output_file(filename = 'project.html')\n",
    "platform_select.on_change('value', update_plot)\n",
    "flightDirection_select.on_change('value', update_plot)\n",
    "controls = column(platform_select, flightDirection_select)\n",
    "curdoc().add_root(row(p, controls))\n",
    "curdoc().title = \"Satellites' Paths\""
   ]
  },
  {
   "cell_type": "code",
   "execution_count": null,
   "metadata": {},
   "outputs": [],
   "source": []
  },
  {
   "cell_type": "raw",
   "metadata": {},
   "source": [
    "from bokeh.models import TextInput\n",
    "\n",
    "def my_text_input_handler(attr, old, new):\n",
    "    print(\"Previous label: \" + old)\n",
    "    print(\"Updated label: \" + new)\n",
    "\n",
    "text_input = TextInput(value=\"default\", title=\"Label:\")\n",
    "text_input.on_change(\"value\", my_text_input_handler)"
   ]
  },
  {
   "cell_type": "code",
   "execution_count": 43,
   "metadata": {},
   "outputs": [],
   "source": [
    "#show(text_input)"
   ]
  },
  {
   "cell_type": "code",
   "execution_count": null,
   "metadata": {},
   "outputs": [],
   "source": []
  },
  {
   "cell_type": "code",
   "execution_count": null,
   "metadata": {},
   "outputs": [],
   "source": []
  },
  {
   "cell_type": "raw",
   "metadata": {},
   "source": [
    "from datetime import date\n",
    "from bokeh.io import show\n",
    "from bokeh.models import CustomJS, DateRangeSlider\n",
    "\n",
    "def handler(new):\n",
    "    print('Radio button option ' + str(new) + ' selected.')\n",
    "\n",
    "date_range_slider = DateRangeSlider(value=(date(2016, 1, 1), date(2016, 12, 31)),\n",
    "                                    start=date(2016, 1, 1), end=date(2016, 12, 31))\n",
    "date_range_slider.js_on_change(\"value\", handler)"
   ]
  },
  {
   "cell_type": "code",
   "execution_count": null,
   "metadata": {},
   "outputs": [],
   "source": []
  },
  {
   "cell_type": "code",
   "execution_count": null,
   "metadata": {},
   "outputs": [],
   "source": []
  }
 ],
 "metadata": {
  "kernelspec": {
   "display_name": "Python 3",
   "language": "python",
   "name": "python3"
  },
  "language_info": {
   "codemirror_mode": {
    "name": "ipython",
    "version": 3
   },
   "file_extension": ".py",
   "mimetype": "text/x-python",
   "name": "python",
   "nbconvert_exporter": "python",
   "pygments_lexer": "ipython3",
   "version": "3.7.7"
  }
 },
 "nbformat": 4,
 "nbformat_minor": 5
}
