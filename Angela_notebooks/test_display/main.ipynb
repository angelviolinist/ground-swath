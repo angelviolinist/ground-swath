{
 "cells": [
  {
   "cell_type": "code",
   "execution_count": 28,
   "id": "3b51a2a2",
   "metadata": {},
   "outputs": [],
   "source": [
    "import asf_search as asf\n",
    "import numpy as np\n",
    "import geopandas as gpd\n",
    "import pandas as pd\n",
    "# import holoviews as hv\n",
    "# from holoviews import opts\n",
    "# hv.extension('bokeh')\n",
    "import datetime\n",
    "from bokeh.io import curdoc\n",
    "from bokeh.layouts import column, row\n",
    "from bokeh.models import GeoJSONDataSource, DataRange1d, Select\n",
    "from bokeh.palettes import Blues4\n",
    "from bokeh.plotting import figure,show\n",
    "import json"
   ]
  },
  {
   "cell_type": "code",
   "execution_count": 2,
   "id": "79ad8385",
   "metadata": {},
   "outputs": [],
   "source": [
    "def make_df(results):\n",
    "    df = pd.DataFrame(\n",
    "    {\n",
    "        'fileID':[],\n",
    "        'platform':[],\n",
    "        'flightDirection':[],\n",
    "        'centerLat':[],\n",
    "        'centerLon':[],\n",
    "#         'processingLevel':[],\n",
    "        'startTime':[]\n",
    "    })\n",
    "    name = []\n",
    "    platformlist = []\n",
    "    flightlist = []\n",
    "    latlist = []\n",
    "    lonlist = []\n",
    "#     processlist = []\n",
    "    stime = []\n",
    "    for i in range(len(results)):\n",
    "        name.append(results[i].properties['fileID'])\n",
    "        platformlist.append(results[i].properties['platform'])\n",
    "        flightlist.append(results[i].properties['flightDirection'])\n",
    "        latlist.append(float(results[i].properties['centerLat']))\n",
    "        lonlist.append(float(results[i].properties['centerLon']))\n",
    "#         processlist.append(results[i].properties['processingLevel'])\n",
    "        timestring = results[i].properties['startTime'][0:10] + ' ' + results[i].properties['startTime'][11:]\n",
    "        stime.append(timestring)\n",
    "\n",
    "    df.fileID = name\n",
    "    df.platform = platformlist\n",
    "    df.flightDirection = flightlist\n",
    "    df.centerLat = latlist\n",
    "    df.centerLon = lonlist\n",
    "#     df.processingLevel = processlist\n",
    "    df.startTime = stime\n",
    "    \n",
    "    return df"
   ]
  },
  {
   "cell_type": "code",
   "execution_count": 40,
   "id": "4e6fb035",
   "metadata": {},
   "outputs": [],
   "source": [
    "opts = {\n",
    "    'platform': asf.PLATFORM.SENTINEL1,\n",
    "    'maxResults': 100,\n",
    "    'start': '2016-01-01T00:00:00Z',\n",
    "    'end': '2016-12-31T23:59:59Z'\n",
    "}\n",
    "results = asf.search(**opts)\n",
    "\n",
    "df_2016 = make_df(results)\n",
    "gdf = gpd.GeoDataFrame(df_2016, geometry=gpd.points_from_xy(df_2016.centerLon, df_2016.centerLat))"
   ]
  },
  {
   "cell_type": "code",
   "execution_count": 83,
   "id": "b037c001",
   "metadata": {},
   "outputs": [
    {
     "data": {
      "text/plain": [
       "asf_search.ASFSearchResults.ASFSearchResults"
      ]
     },
     "execution_count": 83,
     "metadata": {},
     "output_type": "execute_result"
    }
   ],
   "source": [
    "type(results)"
   ]
  },
  {
   "cell_type": "code",
   "execution_count": 68,
   "id": "2b9980a8",
   "metadata": {},
   "outputs": [],
   "source": [
    "gdf.drop(['geometry'], axis=1,inplace=True)"
   ]
  },
  {
   "cell_type": "code",
   "execution_count": 6,
   "id": "f61e08b3",
   "metadata": {},
   "outputs": [],
   "source": [
    "gdf.to_csv('Sentinel1_2016.csv')"
   ]
  },
  {
   "cell_type": "code",
   "execution_count": 86,
   "id": "2524552f",
   "metadata": {},
   "outputs": [],
   "source": [
    "def get_dataset(src):\n",
    "    gdf = src.copy()\n",
    "    gdf['date'] = gdf['startTime']\n",
    "    gdf = gdf.set_index(['date'])\n",
    "    gdf.sort_index(inplace=True)\n",
    "    gdf = gdf.to_dict()\n",
    "\n",
    "    return GeoJSONDataSource(geojson=json.dumps(gdf))"
   ]
  },
  {
   "cell_type": "code",
   "execution_count": 16,
   "id": "beb87a35",
   "metadata": {},
   "outputs": [],
   "source": [
    "def make_plot(source, title):\n",
    "    #     plot = figure(x_axis_type=\"datetime\", width=800, tools=\"\", toolbar_location=None)\n",
    "    plot = figure()\n",
    "    plot.title.text = title\n",
    "\n",
    "    plot.line('date','centerLat',source=source)\n",
    "\n",
    "    # fixed attributes\n",
    "    #     plot.xaxis.axis_label = None\n",
    "    #     plot.yaxis.axis_label = \"Latitude\"\n",
    "    #     plot.axis.axis_label_text_font_style = \"bold\"\n",
    "    #     plot.x_range = DataRange1d(range_padding=0.0)\n",
    "    #     plot.grid.grid_line_alpha = 0.3\n",
    "\n",
    "    return plot"
   ]
  },
  {
   "cell_type": "raw",
   "id": "1c18b9e1",
   "metadata": {},
   "source": [
    "def update_plot(attrname, old, new):\n",
    "    city = city_select.value\n",
    "    plot.title.text = \"Weather data for \" + cities[city]['title']\n",
    "\n",
    "    src = get_dataset(df, cities[city]['airport'], distribution_select.value)\n",
    "    source.data.update(src.data)"
   ]
  },
  {
   "cell_type": "code",
   "execution_count": 87,
   "id": "55e3ab89",
   "metadata": {},
   "outputs": [],
   "source": [
    "source = get_dataset(gdf)"
   ]
  },
  {
   "cell_type": "code",
   "execution_count": 88,
   "id": "9ad0f809",
   "metadata": {},
   "outputs": [],
   "source": [
    "plot = make_plot(source, \"Ground-swath project\")"
   ]
  },
  {
   "cell_type": "code",
   "execution_count": 89,
   "id": "ca1a9926",
   "metadata": {},
   "outputs": [],
   "source": [
    "curdoc().add_root(row(plot))\n",
    "curdoc().title = \"Ground-swath project\""
   ]
  },
  {
   "cell_type": "markdown",
   "id": "b6b77b56",
   "metadata": {},
   "source": [
    "inline"
   ]
  },
  {
   "cell_type": "raw",
   "id": "8f74cfea",
   "metadata": {},
   "source": [
    "from bokeh.plotting import figure, output_file, show\n",
    "from bokeh.tile_providers import CARTODBPOSITRON, get_provider\n",
    "\n",
    "output_file(\"tile.html\")\n",
    "\n",
    "tile_provider = get_provider(CARTODBPOSITRON)\n",
    "\n",
    "# range bounds supplied in web mercator coordinates\n",
    "p = figure(x_range=(-2000000, 6000000), y_range=(-1000000, 7000000),\n",
    "           x_axis_type=\"mercator\", y_axis_type=\"mercator\")\n",
    "p.add_tile(tile_provider)\n",
    "\n",
    "show(p)"
   ]
  },
  {
   "cell_type": "raw",
   "id": "d87c23c1",
   "metadata": {},
   "source": [
    "from bokeh.sampledata.sample_geojson import geojson\n",
    "output_file(\"geojson.html\")\n",
    "\n",
    "data = json.loads(geojson)\n",
    "for i in range(len(data['features'])):\n",
    "    data['features'][i]['properties']['Color'] = ['blue', 'red'][i%2]\n",
    "\n",
    "geo_source = GeoJSONDataSource(geojson=json.dumps(data))\n",
    "\n",
    "TOOLTIPS = [\n",
    "    ('Organisation', '@OrganisationName')\n",
    "]\n",
    "\n",
    "p = figure(background_fill_color=\"lightgrey\", tooltips=TOOLTIPS)\n",
    "p.circle(x='x', y='y', size=15, color='Color', alpha=0.7, source=geo_source)\n",
    "\n",
    "# show(p)"
   ]
  },
  {
   "cell_type": "raw",
   "id": "9d03574f",
   "metadata": {},
   "source": [
    "data['features']"
   ]
  },
  {
   "cell_type": "raw",
   "id": "ed876a5b",
   "metadata": {},
   "source": [
    "geo_source.geojson"
   ]
  },
  {
   "cell_type": "code",
   "execution_count": null,
   "id": "35c3900c",
   "metadata": {},
   "outputs": [],
   "source": []
  }
 ],
 "metadata": {
  "kernelspec": {
   "display_name": "Python 3 (ipykernel)",
   "language": "python",
   "name": "python3"
  },
  "language_info": {
   "codemirror_mode": {
    "name": "ipython",
    "version": 3
   },
   "file_extension": ".py",
   "mimetype": "text/x-python",
   "name": "python",
   "nbconvert_exporter": "python",
   "pygments_lexer": "ipython3",
   "version": "3.10.4"
  }
 },
 "nbformat": 4,
 "nbformat_minor": 5
}
