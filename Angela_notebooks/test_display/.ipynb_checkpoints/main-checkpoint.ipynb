{
 "cells": [
  {
   "cell_type": "code",
   "execution_count": 2,
   "id": "3b51a2a2",
   "metadata": {},
   "outputs": [],
   "source": [
    "import asf_search as asf\n",
    "import numpy as np\n",
    "import geopandas as gpd\n",
    "import pandas as pd\n",
    "# import holoviews as hv\n",
    "# from holoviews import opts\n",
    "# hv.extension('bokeh')\n",
    "import datetime\n",
    "from bokeh.io import curdoc\n",
    "from bokeh.layouts import column, row\n",
    "from bokeh.models import ColumnDataSource, DataRange1d, Select\n",
    "from bokeh.palettes import Blues4\n",
    "from bokeh.plotting import figure"
   ]
  },
  {
   "cell_type": "code",
   "execution_count": 3,
   "id": "79ad8385",
   "metadata": {},
   "outputs": [],
   "source": [
    "def make_df(results):\n",
    "    df = pd.DataFrame(\n",
    "    {\n",
    "        'fileID':[],\n",
    "        'platform':[],\n",
    "        'flightDirection':[],\n",
    "        'centerLat':[],\n",
    "        'centerLon':[],\n",
    "        'processingLevel':[],\n",
    "        'startTime':[]\n",
    "    })\n",
    "    name = []\n",
    "    platformlist = []\n",
    "    flightlist = []\n",
    "    latlist = []\n",
    "    lonlist = []\n",
    "    processlist = []\n",
    "    stime = []\n",
    "    for i in range(len(results)):\n",
    "        name.append(results[i].properties['fileID'])\n",
    "        platformlist.append(results[i].properties['platform'])\n",
    "        flightlist.append(results[i].properties['flightDirection'])\n",
    "        latlist.append(results[i].properties['centerLat'])\n",
    "        lonlist.append(results[i].properties['centerLon'])\n",
    "        processlist.append(results[i].properties['processingLevel'])\n",
    "        timestring = results[i].properties['startTime'][0:10] + ' ' + results[i].properties['startTime'][11:]\n",
    "        stime.append(timestring)\n",
    "\n",
    "    df.fileID = name\n",
    "    df.platform = platformlist\n",
    "    df.flightDirection = flightlist\n",
    "    df.centerLat = latlist\n",
    "    df.centerLon = lonlist\n",
    "    df.processingLevel = processlist\n",
    "    df.startTime = stime\n",
    "    \n",
    "    return df"
   ]
  },
  {
   "cell_type": "code",
   "execution_count": 4,
   "id": "4e6fb035",
   "metadata": {},
   "outputs": [],
   "source": [
    "opts = {\n",
    "    'platform': asf.PLATFORM.SENTINEL1,\n",
    "    'maxResults': 100,\n",
    "    'start': '2016-01-01T00:00:00Z',\n",
    "    'end': '2016-12-31T23:59:59Z'\n",
    "}\n",
    "results = asf.search(**opts)\n",
    "\n",
    "df_2016 = make_df(results)\n",
    "gdf = gpd.GeoDataFrame(df_2016, geometry=gpd.points_from_xy(df_2016.centerLon, df_2016.centerLat))"
   ]
  },
  {
   "cell_type": "code",
   "execution_count": 5,
   "id": "f61e08b3",
   "metadata": {},
   "outputs": [],
   "source": [
    "gdf.to_csv('Sentinel1_2016.csv')"
   ]
  },
  {
   "cell_type": "code",
   "execution_count": 6,
   "id": "2524552f",
   "metadata": {},
   "outputs": [],
   "source": [
    "def get_dataset(src, name):\n",
    "    df = src.copy()\n",
    "    df['date'] = pd.to_datetime(df.startTime)\n",
    "    # timedelta here instead of pd.DateOffset to avoid pandas bug < 0.18 (Pandas issue #11925)\n",
    "#     df['left'] = df.date - datetime.timedelta(days=0.5)\n",
    "#     df['right'] = df.date + datetime.timedelta(days=0.5)\n",
    "    df = df.set_index(['date'])\n",
    "    df.sort_index(inplace=True)\n",
    "\n",
    "    return ColumnDataSource(data=df)"
   ]
  },
  {
   "cell_type": "code",
   "execution_count": 11,
   "id": "beb87a35",
   "metadata": {},
   "outputs": [],
   "source": [
    "def make_plot(source, title):\n",
    "    plot = figure(x_axis_type=\"datetime\", width=800, tools=\"\", toolbar_location=None)\n",
    "    plot.title.text = title\n",
    "\n",
    "    plot.circle('date','centerLat',\n",
    "                source=source)\n",
    "\n",
    "    # fixed attributes\n",
    "    plot.xaxis.axis_label = None\n",
    "    plot.yaxis.axis_label = \"Latitude\"\n",
    "    plot.axis.axis_label_text_font_style = \"bold\"\n",
    "    plot.x_range = DataRange1d(range_padding=0.0)\n",
    "    plot.grid.grid_line_alpha = 0.3\n",
    "\n",
    "    return plot"
   ]
  },
  {
   "cell_type": "raw",
   "id": "1c18b9e1",
   "metadata": {},
   "source": [
    "def update_plot(attrname, old, new):\n",
    "    city = city_select.value\n",
    "    plot.title.text = \"Weather data for \" + cities[city]['title']\n",
    "\n",
    "    src = get_dataset(df, cities[city]['airport'], distribution_select.value)\n",
    "    source.data.update(src.data)"
   ]
  },
  {
   "cell_type": "code",
   "execution_count": 7,
   "id": "55e3ab89",
   "metadata": {},
   "outputs": [],
   "source": [
    "source = get_dataset(df_2016,df_2016.fileID)"
   ]
  },
  {
   "cell_type": "code",
   "execution_count": 12,
   "id": "9ad0f809",
   "metadata": {},
   "outputs": [],
   "source": [
    "plot = make_plot(source, \"data\")"
   ]
  },
  {
   "cell_type": "code",
   "execution_count": 9,
   "id": "ca1a9926",
   "metadata": {},
   "outputs": [],
   "source": [
    "curdoc().title = \"data\""
   ]
  },
  {
   "cell_type": "code",
   "execution_count": 13,
   "id": "326c2dd9",
   "metadata": {},
   "outputs": [
    {
     "ename": "AttributeError",
     "evalue": "unexpected attribute 'show' to Figure, possible attributes are above, align, aspect_ratio, aspect_scale, background, background_fill_alpha, background_fill_color, below, border_fill_alpha, border_fill_color, center, css_classes, disabled, extra_x_ranges, extra_x_scales, extra_y_ranges, extra_y_scales, frame_height, frame_width, height, height_policy, hidpi, inner_height, inner_width, js_event_callbacks, js_property_callbacks, left, lod_factor, lod_interval, lod_threshold, lod_timeout, margin, match_aspect, max_height, max_width, min_border, min_border_bottom, min_border_left, min_border_right, min_border_top, min_height, min_width, name, outer_height, outer_width, outline_line_alpha, outline_line_cap, outline_line_color, outline_line_dash, outline_line_dash_offset, outline_line_join, outline_line_width, output_backend, plot_height, plot_width, renderers, reset_policy, right, sizing_mode, subscribed_events, syncable, tags, title, title_location, toolbar, toolbar_location, toolbar_sticky, visible, width, width_policy, x_range, x_scale, y_range or y_scale",
     "output_type": "error",
     "traceback": [
      "\u001b[0;31m---------------------------------------------------------------------------\u001b[0m",
      "\u001b[0;31mAttributeError\u001b[0m                            Traceback (most recent call last)",
      "Input \u001b[0;32mIn [13]\u001b[0m, in \u001b[0;36m<cell line: 1>\u001b[0;34m()\u001b[0m\n\u001b[0;32m----> 1\u001b[0m \u001b[43mplot\u001b[49m\u001b[38;5;241;43m.\u001b[39;49m\u001b[43mshow\u001b[49m()\n",
      "File \u001b[0;32m~/Applications/anaconda3/envs/ground-swath/lib/python3.10/site-packages/bokeh/core/has_props.py:264\u001b[0m, in \u001b[0;36mHasProps.__getattr__\u001b[0;34m(self, name)\u001b[0m\n\u001b[1;32m    261\u001b[0m \u001b[38;5;28;01mif\u001b[39;00m \u001b[38;5;28misinstance\u001b[39m(descriptor, \u001b[38;5;28mproperty\u001b[39m): \u001b[38;5;66;03m# Python property\u001b[39;00m\n\u001b[1;32m    262\u001b[0m     \u001b[38;5;28;01mreturn\u001b[39;00m \u001b[38;5;28msuper\u001b[39m()\u001b[38;5;241m.\u001b[39m\u001b[38;5;21m__getattr__\u001b[39m(name)\n\u001b[0;32m--> 264\u001b[0m \u001b[38;5;28;43mself\u001b[39;49m\u001b[38;5;241;43m.\u001b[39;49m\u001b[43m_raise_attribute_error_with_matches\u001b[49m\u001b[43m(\u001b[49m\u001b[43mname\u001b[49m\u001b[43m,\u001b[49m\u001b[43m \u001b[49m\u001b[43mproperties\u001b[49m\u001b[43m)\u001b[49m\n",
      "File \u001b[0;32m~/Applications/anaconda3/envs/ground-swath/lib/python3.10/site-packages/bokeh/core/has_props.py:272\u001b[0m, in \u001b[0;36mHasProps._raise_attribute_error_with_matches\u001b[0;34m(self, name, properties)\u001b[0m\n\u001b[1;32m    269\u001b[0m \u001b[38;5;28;01mif\u001b[39;00m \u001b[38;5;129;01mnot\u001b[39;00m matches:\n\u001b[1;32m    270\u001b[0m     matches, text \u001b[38;5;241m=\u001b[39m \u001b[38;5;28msorted\u001b[39m(properties), \u001b[38;5;124m\"\u001b[39m\u001b[38;5;124mpossible\u001b[39m\u001b[38;5;124m\"\u001b[39m\n\u001b[0;32m--> 272\u001b[0m \u001b[38;5;28;01mraise\u001b[39;00m \u001b[38;5;167;01mAttributeError\u001b[39;00m(\u001b[38;5;124mf\u001b[39m\u001b[38;5;124m\"\u001b[39m\u001b[38;5;124munexpected attribute \u001b[39m\u001b[38;5;132;01m{\u001b[39;00mname\u001b[38;5;132;01m!r}\u001b[39;00m\u001b[38;5;124m to \u001b[39m\u001b[38;5;132;01m{\u001b[39;00m\u001b[38;5;28mself\u001b[39m\u001b[38;5;241m.\u001b[39m\u001b[38;5;18m__class__\u001b[39m\u001b[38;5;241m.\u001b[39m\u001b[38;5;18m__name__\u001b[39m\u001b[38;5;132;01m}\u001b[39;00m\u001b[38;5;124m, \u001b[39m\u001b[38;5;132;01m{\u001b[39;00mtext\u001b[38;5;132;01m}\u001b[39;00m\u001b[38;5;124m attributes are \u001b[39m\u001b[38;5;132;01m{\u001b[39;00mnice_join(matches)\u001b[38;5;132;01m}\u001b[39;00m\u001b[38;5;124m\"\u001b[39m)\n",
      "\u001b[0;31mAttributeError\u001b[0m: unexpected attribute 'show' to Figure, possible attributes are above, align, aspect_ratio, aspect_scale, background, background_fill_alpha, background_fill_color, below, border_fill_alpha, border_fill_color, center, css_classes, disabled, extra_x_ranges, extra_x_scales, extra_y_ranges, extra_y_scales, frame_height, frame_width, height, height_policy, hidpi, inner_height, inner_width, js_event_callbacks, js_property_callbacks, left, lod_factor, lod_interval, lod_threshold, lod_timeout, margin, match_aspect, max_height, max_width, min_border, min_border_bottom, min_border_left, min_border_right, min_border_top, min_height, min_width, name, outer_height, outer_width, outline_line_alpha, outline_line_cap, outline_line_color, outline_line_dash, outline_line_dash_offset, outline_line_join, outline_line_width, output_backend, plot_height, plot_width, renderers, reset_policy, right, sizing_mode, subscribed_events, syncable, tags, title, title_location, toolbar, toolbar_location, toolbar_sticky, visible, width, width_policy, x_range, x_scale, y_range or y_scale"
     ]
    }
   ],
   "source": [
    "plot.show()"
   ]
  },
  {
   "cell_type": "code",
   "execution_count": null,
   "id": "181a3721",
   "metadata": {},
   "outputs": [],
   "source": []
  }
 ],
 "metadata": {
  "kernelspec": {
   "display_name": "Python 3 (ipykernel)",
   "language": "python",
   "name": "python3"
  },
  "language_info": {
   "codemirror_mode": {
    "name": "ipython",
    "version": 3
   },
   "file_extension": ".py",
   "mimetype": "text/x-python",
   "name": "python",
   "nbconvert_exporter": "python",
   "pygments_lexer": "ipython3",
   "version": "3.10.4"
  }
 },
 "nbformat": 4,
 "nbformat_minor": 5
}
