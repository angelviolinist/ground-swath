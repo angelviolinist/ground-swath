{
 "cells": [
  {
   "cell_type": "code",
   "execution_count": 1,
   "id": "3b51a2a2",
   "metadata": {},
   "outputs": [
    {
     "data": {
      "text/html": [
       "\n",
       "    <div class=\"bk-root\">\n",
       "        <a href=\"https://bokeh.org\" target=\"_blank\" class=\"bk-logo bk-logo-small bk-logo-notebook\"></a>\n",
       "        <span id=\"1002\">Loading BokehJS ...</span>\n",
       "    </div>"
      ]
     },
     "metadata": {},
     "output_type": "display_data"
    },
    {
     "data": {
      "application/javascript": "\n(function(root) {\n  function now() {\n    return new Date();\n  }\n\n  const force = true;\n\n  if (typeof root._bokeh_onload_callbacks === \"undefined\" || force === true) {\n    root._bokeh_onload_callbacks = [];\n    root._bokeh_is_loading = undefined;\n  }\n\n  const JS_MIME_TYPE = 'application/javascript';\n  const HTML_MIME_TYPE = 'text/html';\n  const EXEC_MIME_TYPE = 'application/vnd.bokehjs_exec.v0+json';\n  const CLASS_NAME = 'output_bokeh rendered_html';\n\n  /**\n   * Render data to the DOM node\n   */\n  function render(props, node) {\n    const script = document.createElement(\"script\");\n    node.appendChild(script);\n  }\n\n  /**\n   * Handle when an output is cleared or removed\n   */\n  function handleClearOutput(event, handle) {\n    const cell = handle.cell;\n\n    const id = cell.output_area._bokeh_element_id;\n    const server_id = cell.output_area._bokeh_server_id;\n    // Clean up Bokeh references\n    if (id != null && id in Bokeh.index) {\n      Bokeh.index[id].model.document.clear();\n      delete Bokeh.index[id];\n    }\n\n    if (server_id !== undefined) {\n      // Clean up Bokeh references\n      const cmd_clean = \"from bokeh.io.state import curstate; print(curstate().uuid_to_server['\" + server_id + \"'].get_sessions()[0].document.roots[0]._id)\";\n      cell.notebook.kernel.execute(cmd_clean, {\n        iopub: {\n          output: function(msg) {\n            const id = msg.content.text.trim();\n            if (id in Bokeh.index) {\n              Bokeh.index[id].model.document.clear();\n              delete Bokeh.index[id];\n            }\n          }\n        }\n      });\n      // Destroy server and session\n      const cmd_destroy = \"import bokeh.io.notebook as ion; ion.destroy_server('\" + server_id + \"')\";\n      cell.notebook.kernel.execute(cmd_destroy);\n    }\n  }\n\n  /**\n   * Handle when a new output is added\n   */\n  function handleAddOutput(event, handle) {\n    const output_area = handle.output_area;\n    const output = handle.output;\n\n    // limit handleAddOutput to display_data with EXEC_MIME_TYPE content only\n    if ((output.output_type != \"display_data\") || (!Object.prototype.hasOwnProperty.call(output.data, EXEC_MIME_TYPE))) {\n      return\n    }\n\n    const toinsert = output_area.element.find(\".\" + CLASS_NAME.split(' ')[0]);\n\n    if (output.metadata[EXEC_MIME_TYPE][\"id\"] !== undefined) {\n      toinsert[toinsert.length - 1].firstChild.textContent = output.data[JS_MIME_TYPE];\n      // store reference to embed id on output_area\n      output_area._bokeh_element_id = output.metadata[EXEC_MIME_TYPE][\"id\"];\n    }\n    if (output.metadata[EXEC_MIME_TYPE][\"server_id\"] !== undefined) {\n      const bk_div = document.createElement(\"div\");\n      bk_div.innerHTML = output.data[HTML_MIME_TYPE];\n      const script_attrs = bk_div.children[0].attributes;\n      for (let i = 0; i < script_attrs.length; i++) {\n        toinsert[toinsert.length - 1].firstChild.setAttribute(script_attrs[i].name, script_attrs[i].value);\n        toinsert[toinsert.length - 1].firstChild.textContent = bk_div.children[0].textContent\n      }\n      // store reference to server id on output_area\n      output_area._bokeh_server_id = output.metadata[EXEC_MIME_TYPE][\"server_id\"];\n    }\n  }\n\n  function register_renderer(events, OutputArea) {\n\n    function append_mime(data, metadata, element) {\n      // create a DOM node to render to\n      const toinsert = this.create_output_subarea(\n        metadata,\n        CLASS_NAME,\n        EXEC_MIME_TYPE\n      );\n      this.keyboard_manager.register_events(toinsert);\n      // Render to node\n      const props = {data: data, metadata: metadata[EXEC_MIME_TYPE]};\n      render(props, toinsert[toinsert.length - 1]);\n      element.append(toinsert);\n      return toinsert\n    }\n\n    /* Handle when an output is cleared or removed */\n    events.on('clear_output.CodeCell', handleClearOutput);\n    events.on('delete.Cell', handleClearOutput);\n\n    /* Handle when a new output is added */\n    events.on('output_added.OutputArea', handleAddOutput);\n\n    /**\n     * Register the mime type and append_mime function with output_area\n     */\n    OutputArea.prototype.register_mime_type(EXEC_MIME_TYPE, append_mime, {\n      /* Is output safe? */\n      safe: true,\n      /* Index of renderer in `output_area.display_order` */\n      index: 0\n    });\n  }\n\n  // register the mime type if in Jupyter Notebook environment and previously unregistered\n  if (root.Jupyter !== undefined) {\n    const events = require('base/js/events');\n    const OutputArea = require('notebook/js/outputarea').OutputArea;\n\n    if (OutputArea.prototype.mime_types().indexOf(EXEC_MIME_TYPE) == -1) {\n      register_renderer(events, OutputArea);\n    }\n  }\n\n  \n  if (typeof (root._bokeh_timeout) === \"undefined\" || force === true) {\n    root._bokeh_timeout = Date.now() + 5000;\n    root._bokeh_failed_load = false;\n  }\n\n  const NB_LOAD_WARNING = {'data': {'text/html':\n     \"<div style='background-color: #fdd'>\\n\"+\n     \"<p>\\n\"+\n     \"BokehJS does not appear to have successfully loaded. If loading BokehJS from CDN, this \\n\"+\n     \"may be due to a slow or bad network connection. Possible fixes:\\n\"+\n     \"</p>\\n\"+\n     \"<ul>\\n\"+\n     \"<li>re-rerun `output_notebook()` to attempt to load from CDN again, or</li>\\n\"+\n     \"<li>use INLINE resources instead, as so:</li>\\n\"+\n     \"</ul>\\n\"+\n     \"<code>\\n\"+\n     \"from bokeh.resources import INLINE\\n\"+\n     \"output_notebook(resources=INLINE)\\n\"+\n     \"</code>\\n\"+\n     \"</div>\"}};\n\n  function display_loaded() {\n    const el = document.getElementById(\"1002\");\n    if (el != null) {\n      el.textContent = \"BokehJS is loading...\";\n    }\n    if (root.Bokeh !== undefined) {\n      if (el != null) {\n        el.textContent = \"BokehJS \" + root.Bokeh.version + \" successfully loaded.\";\n      }\n    } else if (Date.now() < root._bokeh_timeout) {\n      setTimeout(display_loaded, 100)\n    }\n  }\n\n\n  function run_callbacks() {\n    try {\n      root._bokeh_onload_callbacks.forEach(function(callback) {\n        if (callback != null)\n          callback();\n      });\n    } finally {\n      delete root._bokeh_onload_callbacks\n    }\n    console.debug(\"Bokeh: all callbacks have finished\");\n  }\n\n  function load_libs(css_urls, js_urls, callback) {\n    if (css_urls == null) css_urls = [];\n    if (js_urls == null) js_urls = [];\n\n    root._bokeh_onload_callbacks.push(callback);\n    if (root._bokeh_is_loading > 0) {\n      console.debug(\"Bokeh: BokehJS is being loaded, scheduling callback at\", now());\n      return null;\n    }\n    if (js_urls == null || js_urls.length === 0) {\n      run_callbacks();\n      return null;\n    }\n    console.debug(\"Bokeh: BokehJS not loaded, scheduling load and callback at\", now());\n    root._bokeh_is_loading = css_urls.length + js_urls.length;\n\n    function on_load() {\n      root._bokeh_is_loading--;\n      if (root._bokeh_is_loading === 0) {\n        console.debug(\"Bokeh: all BokehJS libraries/stylesheets loaded\");\n        run_callbacks()\n      }\n    }\n\n    function on_error(url) {\n      console.error(\"failed to load \" + url);\n    }\n\n    for (let i = 0; i < css_urls.length; i++) {\n      const url = css_urls[i];\n      const element = document.createElement(\"link\");\n      element.onload = on_load;\n      element.onerror = on_error.bind(null, url);\n      element.rel = \"stylesheet\";\n      element.type = \"text/css\";\n      element.href = url;\n      console.debug(\"Bokeh: injecting link tag for BokehJS stylesheet: \", url);\n      document.body.appendChild(element);\n    }\n\n    for (let i = 0; i < js_urls.length; i++) {\n      const url = js_urls[i];\n      const element = document.createElement('script');\n      element.onload = on_load;\n      element.onerror = on_error.bind(null, url);\n      element.async = false;\n      element.src = url;\n      console.debug(\"Bokeh: injecting script tag for BokehJS library: \", url);\n      document.head.appendChild(element);\n    }\n  };\n\n  function inject_raw_css(css) {\n    const element = document.createElement(\"style\");\n    element.appendChild(document.createTextNode(css));\n    document.body.appendChild(element);\n  }\n\n  \n  const js_urls = [\"https://cdn.bokeh.org/bokeh/release/bokeh-2.4.2.min.js\", \"https://cdn.bokeh.org/bokeh/release/bokeh-gl-2.4.2.min.js\", \"https://cdn.bokeh.org/bokeh/release/bokeh-widgets-2.4.2.min.js\", \"https://cdn.bokeh.org/bokeh/release/bokeh-tables-2.4.2.min.js\", \"https://cdn.bokeh.org/bokeh/release/bokeh-mathjax-2.4.2.min.js\"];\n  const css_urls = [];\n  \n\n  const inline_js = [\n    function(Bokeh) {\n      Bokeh.set_log_level(\"info\");\n    },\n    function(Bokeh) {\n    \n    \n    }\n  ];\n\n  function run_inline_js() {\n    \n    if (root.Bokeh !== undefined || force === true) {\n      \n    for (let i = 0; i < inline_js.length; i++) {\n      inline_js[i].call(root, root.Bokeh);\n    }\n    if (force === true) {\n        display_loaded();\n      }} else if (Date.now() < root._bokeh_timeout) {\n      setTimeout(run_inline_js, 100);\n    } else if (!root._bokeh_failed_load) {\n      console.log(\"Bokeh: BokehJS failed to load within specified timeout.\");\n      root._bokeh_failed_load = true;\n    } else if (force !== true) {\n      const cell = $(document.getElementById(\"1002\")).parents('.cell').data().cell;\n      cell.output_area.append_execute_result(NB_LOAD_WARNING)\n    }\n\n  }\n\n  if (root._bokeh_is_loading === 0) {\n    console.debug(\"Bokeh: BokehJS loaded, going straight to plotting\");\n    run_inline_js();\n  } else {\n    load_libs(css_urls, js_urls, function() {\n      console.debug(\"Bokeh: BokehJS plotting callback run at\", now());\n      run_inline_js();\n    });\n  }\n}(window));",
      "application/vnd.bokehjs_load.v0+json": ""
     },
     "metadata": {},
     "output_type": "display_data"
    }
   ],
   "source": [
    "import asf_search as asf\n",
    "import numpy as np\n",
    "import geopandas as gpd\n",
    "import pandas as pd\n",
    "# import holoviews as hv\n",
    "# from holoviews import opts\n",
    "# hv.extension('bokeh')\n",
    "import datetime\n",
    "from bokeh.io import curdoc, show, output_notebook\n",
    "from bokeh.layouts import column, row\n",
    "from bokeh.models import ColumnDataSource, DataRange1d, Select\n",
    "from bokeh.palettes import Blues4\n",
    "from bokeh.plotting import figure,show,output_file\n",
    "\n",
    "output_notebook()"
   ]
  },
  {
   "cell_type": "code",
   "execution_count": 2,
   "id": "79ad8385",
   "metadata": {},
   "outputs": [],
   "source": [
    "def make_df(results):\n",
    "    df = pd.DataFrame(\n",
    "    {\n",
    "        'fileID':[],\n",
    "        'platform':[],\n",
    "        'flightDirection':[],\n",
    "        'centerLat':[],\n",
    "        'centerLon':[],\n",
    "        'processingLevel':[],\n",
    "        'startTime':[]\n",
    "    })\n",
    "    name = []\n",
    "    platformlist = []\n",
    "    flightlist = []\n",
    "    latlist = []\n",
    "    lonlist = []\n",
    "    processlist = []\n",
    "    stime = []\n",
    "    for i in range(len(results)):\n",
    "        name.append(results[i].properties['fileID'])\n",
    "        platformlist.append(results[i].properties['platform'])\n",
    "        flightlist.append(results[i].properties['flightDirection'])\n",
    "        latlist.append(float(results[i].properties['centerLat']))\n",
    "        lonlist.append(float(results[i].properties['centerLon']))\n",
    "        processlist.append(results[i].properties['processingLevel'])\n",
    "        timestring = results[i].properties['startTime'][0:10] + ' ' + results[i].properties['startTime'][11:]\n",
    "        stime.append(timestring)\n",
    "\n",
    "    df.fileID = name\n",
    "    df.platform = platformlist\n",
    "    df.flightDirection = flightlist\n",
    "    df.centerLat = latlist\n",
    "    df.centerLon = lonlist\n",
    "    df.processingLevel = processlist\n",
    "    df.startTime = stime\n",
    "    \n",
    "    return df"
   ]
  },
  {
   "cell_type": "code",
   "execution_count": 3,
   "id": "4e6fb035",
   "metadata": {},
   "outputs": [],
   "source": [
    "opts = {\n",
    "    'platform': asf.PLATFORM.SENTINEL1,\n",
    "    'maxResults': 100,\n",
    "    'start': '2016-01-01T00:00:00Z',\n",
    "    'end': '2016-12-31T23:59:59Z'\n",
    "}\n",
    "results = asf.search(**opts)\n",
    "\n",
    "df_2016 = make_df(results)\n",
    "gdf = gpd.GeoDataFrame(df_2016, geometry=gpd.points_from_xy(df_2016.centerLon, df_2016.centerLat))"
   ]
  },
  {
   "cell_type": "code",
   "execution_count": 4,
   "id": "ecfb153f",
   "metadata": {
    "scrolled": false
   },
   "outputs": [
    {
     "data": {
      "text/html": [
       "<div>\n",
       "<style scoped>\n",
       "    .dataframe tbody tr th:only-of-type {\n",
       "        vertical-align: middle;\n",
       "    }\n",
       "\n",
       "    .dataframe tbody tr th {\n",
       "        vertical-align: top;\n",
       "    }\n",
       "\n",
       "    .dataframe thead th {\n",
       "        text-align: right;\n",
       "    }\n",
       "</style>\n",
       "<table border=\"1\" class=\"dataframe\">\n",
       "  <thead>\n",
       "    <tr style=\"text-align: right;\">\n",
       "      <th></th>\n",
       "      <th>fileID</th>\n",
       "      <th>platform</th>\n",
       "      <th>flightDirection</th>\n",
       "      <th>centerLat</th>\n",
       "      <th>centerLon</th>\n",
       "      <th>processingLevel</th>\n",
       "      <th>startTime</th>\n",
       "      <th>geometry</th>\n",
       "    </tr>\n",
       "  </thead>\n",
       "  <tbody>\n",
       "    <tr>\n",
       "      <th>0</th>\n",
       "      <td>S1B_EW_GRDM_1SDH_20161231T235652_20161231T2357...</td>\n",
       "      <td>Sentinel-1B</td>\n",
       "      <td>DESCENDING</td>\n",
       "      <td>74.7488</td>\n",
       "      <td>106.1149</td>\n",
       "      <td>GRD_MD</td>\n",
       "      <td>2016-12-31 23:56:52.000000</td>\n",
       "      <td>POINT (106.11490 74.74880)</td>\n",
       "    </tr>\n",
       "    <tr>\n",
       "      <th>1</th>\n",
       "      <td>S1B_EW_GRDM_1SDH_20161231T235652_20161231T2357...</td>\n",
       "      <td>Sentinel-1B</td>\n",
       "      <td>DESCENDING</td>\n",
       "      <td>74.7488</td>\n",
       "      <td>106.1149</td>\n",
       "      <td>METADATA_GRD_MD</td>\n",
       "      <td>2016-12-31 23:56:52.000000</td>\n",
       "      <td>POINT (106.11490 74.74880)</td>\n",
       "    </tr>\n",
       "    <tr>\n",
       "      <th>2</th>\n",
       "      <td>S1B_EW_RAW__0SDH_20161231T235648_20161231T2357...</td>\n",
       "      <td>Sentinel-1B</td>\n",
       "      <td>DESCENDING</td>\n",
       "      <td>74.7983</td>\n",
       "      <td>106.3775</td>\n",
       "      <td>METADATA_RAW</td>\n",
       "      <td>2016-12-31 23:56:48.000000</td>\n",
       "      <td>POINT (106.37750 74.79830)</td>\n",
       "    </tr>\n",
       "    <tr>\n",
       "      <th>3</th>\n",
       "      <td>S1B_EW_RAW__0SDH_20161231T235648_20161231T2357...</td>\n",
       "      <td>Sentinel-1B</td>\n",
       "      <td>DESCENDING</td>\n",
       "      <td>74.7983</td>\n",
       "      <td>106.3775</td>\n",
       "      <td>RAW</td>\n",
       "      <td>2016-12-31 23:56:48.000000</td>\n",
       "      <td>POINT (106.37750 74.79830)</td>\n",
       "    </tr>\n",
       "    <tr>\n",
       "      <th>4</th>\n",
       "      <td>S1B_EW_RAW__0SDH_20161231T235548_20161231T2356...</td>\n",
       "      <td>Sentinel-1B</td>\n",
       "      <td>DESCENDING</td>\n",
       "      <td>78.0089</td>\n",
       "      <td>111.4157</td>\n",
       "      <td>METADATA_RAW</td>\n",
       "      <td>2016-12-31 23:55:48.000000</td>\n",
       "      <td>POINT (111.41570 78.00890)</td>\n",
       "    </tr>\n",
       "  </tbody>\n",
       "</table>\n",
       "</div>"
      ],
      "text/plain": [
       "                                              fileID     platform  \\\n",
       "0  S1B_EW_GRDM_1SDH_20161231T235652_20161231T2357...  Sentinel-1B   \n",
       "1  S1B_EW_GRDM_1SDH_20161231T235652_20161231T2357...  Sentinel-1B   \n",
       "2  S1B_EW_RAW__0SDH_20161231T235648_20161231T2357...  Sentinel-1B   \n",
       "3  S1B_EW_RAW__0SDH_20161231T235648_20161231T2357...  Sentinel-1B   \n",
       "4  S1B_EW_RAW__0SDH_20161231T235548_20161231T2356...  Sentinel-1B   \n",
       "\n",
       "  flightDirection  centerLat  centerLon  processingLevel  \\\n",
       "0      DESCENDING    74.7488   106.1149           GRD_MD   \n",
       "1      DESCENDING    74.7488   106.1149  METADATA_GRD_MD   \n",
       "2      DESCENDING    74.7983   106.3775     METADATA_RAW   \n",
       "3      DESCENDING    74.7983   106.3775              RAW   \n",
       "4      DESCENDING    78.0089   111.4157     METADATA_RAW   \n",
       "\n",
       "                    startTime                    geometry  \n",
       "0  2016-12-31 23:56:52.000000  POINT (106.11490 74.74880)  \n",
       "1  2016-12-31 23:56:52.000000  POINT (106.11490 74.74880)  \n",
       "2  2016-12-31 23:56:48.000000  POINT (106.37750 74.79830)  \n",
       "3  2016-12-31 23:56:48.000000  POINT (106.37750 74.79830)  \n",
       "4  2016-12-31 23:55:48.000000  POINT (111.41570 78.00890)  "
      ]
     },
     "execution_count": 4,
     "metadata": {},
     "output_type": "execute_result"
    }
   ],
   "source": [
    "gdf.head()"
   ]
  },
  {
   "cell_type": "code",
   "execution_count": 5,
   "id": "3c5b848a",
   "metadata": {},
   "outputs": [
    {
     "data": {
      "text/plain": [
       "numpy.float64"
      ]
     },
     "execution_count": 5,
     "metadata": {},
     "output_type": "execute_result"
    }
   ],
   "source": [
    "type(df_2016.centerLat.iloc[0])"
   ]
  },
  {
   "cell_type": "code",
   "execution_count": 6,
   "id": "2b9980a8",
   "metadata": {},
   "outputs": [],
   "source": [
    "gdf.drop(['geometry'], axis=1,inplace=True)"
   ]
  },
  {
   "cell_type": "code",
   "execution_count": 7,
   "id": "f61e08b3",
   "metadata": {},
   "outputs": [],
   "source": [
    "gdf.to_csv('Sentinel1_2016.csv')"
   ]
  },
  {
   "cell_type": "code",
   "execution_count": 8,
   "id": "2524552f",
   "metadata": {},
   "outputs": [],
   "source": [
    "def get_dataset(src, name):\n",
    "    df = src.copy()\n",
    "    df['date'] = pd.to_datetime(df.startTime)\n",
    "    # timedelta here instead of pd.DateOffset to avoid pandas bug < 0.18 (Pandas issue #11925)\n",
    "#     df['left'] = df.date - datetime.timedelta(days=0.5)\n",
    "#     df['right'] = df.date + datetime.timedelta(days=0.5)\n",
    "    df = df.set_index(['date'])\n",
    "    df.sort_index(inplace=True)\n",
    "\n",
    "    return df # ColumnDataSource(data=df)"
   ]
  },
  {
   "cell_type": "code",
   "execution_count": 9,
   "id": "beb87a35",
   "metadata": {},
   "outputs": [],
   "source": [
    "def make_plot(source, title):\n",
    "#     plot = figure(x_axis_type=\"datetime\", width=800, tools=\"\", toolbar_location=None)\n",
    "    plot = figure()\n",
    "    plot.title.text = title\n",
    "    \n",
    "\n",
    "#     plot.circle('date','centerLat',source=source)\n",
    "\n",
    "    plot.circle(source.centerLat)\n",
    "\n",
    "    # fixed attributes\n",
    "    plot.xaxis.axis_label = None\n",
    "    plot.yaxis.axis_label = \"Latitude\"\n",
    "    # plot.axis.axis_label_text_font_style = \"bold\"\n",
    "    # plot.x_range = DataRange1d(range_padding=0.0)\n",
    "    plot.grid.grid_line_alpha = 0.3\n",
    "\n",
    "    return plot"
   ]
  },
  {
   "cell_type": "code",
   "execution_count": 10,
   "id": "1c18b9e1",
   "metadata": {},
   "outputs": [],
   "source": [
    "# def update_plot(attrname, old, new):\n",
    "#     city = city_select.value\n",
    "#     plot.title.text = \"Weather data for \" + cities[city]['title']\n",
    "\n",
    "#     src = get_dataset(df, cities[city]['airport'], distribution_select.value)\n",
    "#     source.data.update(src.data)"
   ]
  },
  {
   "cell_type": "code",
   "execution_count": 11,
   "id": "55e3ab89",
   "metadata": {},
   "outputs": [],
   "source": [
    "source = get_dataset(df_2016,df_2016.fileID)\n",
    "source.drop('geometry', inplace=True, axis=1)"
   ]
  },
  {
   "cell_type": "code",
   "execution_count": 12,
   "id": "02b25ec2",
   "metadata": {},
   "outputs": [
    {
     "data": {
      "text/html": [
       "\n",
       "\n",
       "\n",
       "\n",
       "\n",
       "\n",
       "  <div class=\"bk-root\" id=\"2965f715-606d-48a3-ae86-68532efa32d1\" data-root-id=\"1003\"></div>\n"
      ]
     },
     "metadata": {},
     "output_type": "display_data"
    },
    {
     "data": {
      "application/javascript": "(function(root) {\n  function embed_document(root) {\n    \n  const docs_json = {\"37db622e-ff8d-415f-b2f6-a628f1611938\":{\"defs\":[],\"roots\":{\"references\":[{\"attributes\":{\"below\":[{\"id\":\"1012\"}],\"center\":[{\"id\":\"1015\"},{\"id\":\"1019\"}],\"left\":[{\"id\":\"1016\"}],\"renderers\":[{\"id\":\"1039\"}],\"title\":{\"id\":\"1041\"},\"toolbar\":{\"id\":\"1027\"},\"x_range\":{\"id\":\"1004\"},\"x_scale\":{\"id\":\"1008\"},\"y_range\":{\"id\":\"1006\"},\"y_scale\":{\"id\":\"1010\"}},\"id\":\"1003\",\"subtype\":\"Figure\",\"type\":\"Plot\"},{\"attributes\":{\"axis\":{\"id\":\"1016\"},\"coordinates\":null,\"dimension\":1,\"group\":null,\"ticker\":null},\"id\":\"1019\",\"type\":\"Grid\"},{\"attributes\":{},\"id\":\"1021\",\"type\":\"WheelZoomTool\"},{\"attributes\":{\"coordinates\":null,\"formatter\":{\"id\":\"1044\"},\"group\":null,\"major_label_policy\":{\"id\":\"1045\"},\"ticker\":{\"id\":\"1017\"}},\"id\":\"1016\",\"type\":\"LinearAxis\"},{\"attributes\":{},\"id\":\"1025\",\"type\":\"HelpTool\"},{\"attributes\":{},\"id\":\"1047\",\"type\":\"DatetimeTickFormatter\"},{\"attributes\":{\"coordinates\":null,\"group\":null},\"id\":\"1041\",\"type\":\"Title\"},{\"attributes\":{\"coordinates\":null,\"formatter\":{\"id\":\"1047\"},\"group\":null,\"major_label_policy\":{\"id\":\"1048\"},\"ticker\":{\"id\":\"1013\"}},\"id\":\"1012\",\"type\":\"DatetimeAxis\"},{\"attributes\":{},\"id\":\"1020\",\"type\":\"PanTool\"},{\"attributes\":{\"data\":{\"centerLat\":{\"__ndarray__\":\"Imx4eqUsHcAibHh6pSwdwBKlvcEXJhfAEqW9wRcmF8DUmuYdp+gVwNSa5h2n6BXAFmpN847TFcAWak3zjtMVwAKaCBueHhHAApoIG54eEcAFxY8xd60PwAXFjzF3rQ/AGXPXEvLBD8AZc9cS8sEPwCJseHqlLAbAImx4eqUsBsCuR+F6FK4DwK5H4XoUrgPA6pWyDHGsA8DqlbIMcawDwGlv8IXJ1BVAaW/whcnUFUBNhA1Pr9QVQE2EDU+v1BVARpT2Bl+YFEBGlPYGX5gUQCNKe4MvTPG/I0p7gy9M8b9Ei2zn+6nlv0SLbOf7qeW/yxDHuriN5L/LEMe6uI3kv39qvHSTAEDAf2q8dJMAQMC1N/jCZIJFQLU3+MJkgkVAxLEubqN5RUDEsS5uo3lFQDvfT42XTkdAO99PjZdOR0ARNjy9UnZHQBE2PL1SdkdA5IOezaovSUDkg57Nqi9JQLPqc7UVI0lAorQ3+MIsSUCitDf4wixJQLPqc7UVI0lApU5AE2HjSUClTkATYeNJQPp+arx0+0lA+n5qvHT7SUB6xyk6kvtJQHrHKTqS+0lAswxxrIujSkCzDHGsi6NKQKJFtvP9vEpAokW28/28SkDtnjws1LpKQO2ePCzUukpAescpOpJjS0B6xyk6kmNLQDQRNjy9ektANBE2PL16S0BSuB6F63lLQFK4HoXreUtA+n5qvHQjTED6fmq8dCNMQEaU9gZfOExARpT2Bl84TEANcayL2zhMQA1xrIvbOExA0NVW7C/jTEDQ1VbsL+NMQL3jFB3J9UxAveMUHcn1TEAdyeU/pPdMQB3J5T+k90xAsAPnjCh9TUCwA+eMKH1NQELPZtXnmk1AQs9m1eeaTUAAkX77OqBNQACRfvs6oE1AiUFg5dDyTkCJQWDl0PJOQN5xio7k8k5A3nGKjuTyTkAZc9cS8klQQBlz1xLySVBAxY8xdy1ZUEDFjzF3LVlQQDlFR3L5i1NAOUVHcvmLU0DNO07RkYBTQM07TtGRgFNAZRniWBezUkBlGeJYF7NSQKvP1Vbsr1JAq8/VVuyvUkA=\",\"dtype\":\"float64\",\"order\":\"little\",\"shape\":[100]},\"centerLon\":{\"__ndarray__\":\"PnlYqDUJU8A+eVioNQlTwMnlP6TfHlPAyeU/pN8eU8A+6Nms+hhTwD7o2az6GFPAio7k8h8aU8CKjuTyHxpTwMdLN4lBNFPAx0s3iUE0U8DPZtXnai9TwM9m1edqL1PAdZMYBFYuU8B1kxgEVi5TwP5l9+RhSVPA/mX35GFJU8DByqFFtkNTwMHKoUW2Q1PACfmgZ7NCU8AJ+aBns0JTwBkEVg4tnldAGQRWDi2eV0A17zhFR55XQDXvOEVHnldAq8/VVuyjV0Crz9VW7KNXQPCFyVTBYFPA8IXJVMFgU8BR2ht8YVpTwFHaG3xhWlPAn6ut2F9aU8Cfq63YX1pTwBniWBe3rVVAGeJYF7etVUC+MJkqGNVVwL4wmSoY1VXAAiuHFtneVcACK4cW2d5VwNbFbTSAG1bA1sVtNIAbVsD6fmq8dBdWwPp+arx0F1bA+THmriUcVsD5MeauJRxWwCntDb4wJVbAu7iNBvAaVsC7uI0G8BpWwCntDb4wJVbAx7q4jQZAVsDHuriNBkBWwHBfB84ZOVbAcF8Hzhk5VsBcIEHxYzhWwFwgQfFjOFbA+aBns+pbVsD5oGez6ltWwDbNO07RVVbANs07TtFVVsDNzMzMzFRWwM3MzMzMVFbAaQBvgQR5VsBpAG+BBHlWwIhjXdxGc1bAiGNd3EZzVsAf9GxWfXJWwB/0bFZ9clbAc2iR7XyXVsBzaJHtfJdWwJJc/kP6kVbAklz+Q/qRVsBLyAc9m5FWwEvIBz2bkVbAswxxrIu3VsCzDHGsi7dWwLU3+MJkslbAtTf4wmSyVsBYqDXNO7JWwFioNc07slbAbVZ9rrbSVsBtVn2uttJWwECk374O0FbAQKTfvg7QVsDjx5i7ltBWwOPHmLuW0FbAQKTfvg5cV8BApN++DlxXwDvfT42XZlfAO99PjZdmV8Bv8IXJVM1XwG/whclUzVfAP1dbsb/MV8A/V1uxv8xXwKK0N/jC5FtAorQ3+MLkW0CfPCzUmtpbQJ88LNSa2ltAXI/C9SiYWkBcj8L1KJhaQN6Th4Vah1pA3pOHhVqHWkA=\",\"dtype\":\"float64\",\"order\":\"little\",\"shape\":[100]},\"date\":{\"__ndarray__\":\"AIBmRnOVdUIAgGZGc5V1QgAAgUxzlXVCAACBTHOVdUIAAHtNc5V1QgAAe01zlXVCAAB7TXOVdUIAAHtNc5V1QgCAm1JzlXVCAICbUnOVdUIAAFdTc5V1QgAAV1NzlXVCAICVU3OVdUIAgJVTc5V1QgAAtlhzlXVCAAC2WHOVdUIAgHFZc5V1QgCAcVlzlXVCAACwWXOVdUIAALBZc5V1QgAAmF1zlXVCAACYXXOVdUIAgNZdc5V1QgCA1l1zlXVCAIDWXXOVdUIAgNZdc5V1QgCA0F5zlXVCAIDQXnOVdUIAAIxfc5V1QgAAjF9zlXVCAIDKX3OVdUIAgMpfc5V1QgCAXnFzlXVCAIBecXOVdUIAAGANdJV1QgAAYA10lXVCAABgDXSVdUIAAGANdJV1QgAABhx0lXVCAAAGHHSVdUIAgD4ddJV1QgCAPh10lXVCAAARL3SVdUIAABEvdJV1QgCATy90lXVCAIBPL3SVdUIAgE8vdJV1QgCATy90lXVCAABqNXSVdUIAAGo1dJV1QgAA5zV0lXVCAADnNXSVdUIAAGQ2dJV1QgAAZDZ0lXVCAICEO3SVdUIAgIQ7dJV1QgAAQDx0lXVCAABAPHSVdUIAgH48dJV1QgCAfjx0lXVCAACfQXSVdUIAAJ9BdJV1QgCAWkJ0lXVCAIBaQnSVdUIAAJlCdJV1QgAAmUJ0lXVCAIC5R3SVdUIAgLlHdJV1QgCANkh0lXVCAIA2SHSVdUIAgLNIdJV1QgCAs0h0lXVCAADUTXSVdUIAANRNdJV1QgAAUU50lXVCAABRTnSVdUIAAM5OdJV1QgAAzk50lXVCAIDuU3SVdUIAgO5TdJV1QgCAa1R0lXVCAIBrVHSVdUIAgOhUdJV1QgCA6FR0lXVCAACGWnSVdUIAAIZadJV1QgAAhlp0lXVCAACGWnSVdUIAACxpdJV1QgAALGl0lXVCAIBkanSVdUIAgGRqdJV1QgCAe/h0lXVCAIB7+HSVdUIAALr4dJV1QgAAuvh0lXVCAABgB3WVdUIAAGAHdZV1QgAAWgh1lXVCAABaCHWVdUI=\",\"dtype\":\"float64\",\"order\":\"little\",\"shape\":[100]},\"fileID\":[\"S1B_IW_RAW__0SSV_20161231T232609_20161231T232642_003646_00640B_CAE0-RAW\",\"S1B_IW_RAW__0SSV_20161231T232609_20161231T232642_003646_00640B_CAE0-METADATA_RAW\",\"S1B_IW_RAW__0SSV_20161231T232634_20161231T232707_003646_00640B_B05D-METADATA_RAW\",\"S1B_IW_RAW__0SSV_20161231T232634_20161231T232707_003646_00640B_B05D-RAW\",\"S1B_IW_GRDH_1SSV_20161231T232638_20161231T232703_003646_00640B_BEAC-GRD_HS\",\"S1B_IW_GRDH_1SSV_20161231T232638_20161231T232703_003646_00640B_BEAC-METADATA_GRD_HS\",\"S1B_IW_SLC__1SSV_20161231T232638_20161231T232705_003646_00640B_A8B0-SLC\",\"S1B_IW_SLC__1SSV_20161231T232638_20161231T232705_003646_00640B_A8B0-METADATA_SLC\",\"S1B_IW_RAW__0SSV_20161231T232659_20161231T232732_003646_00640B_74B7-RAW\",\"S1B_IW_RAW__0SSV_20161231T232659_20161231T232732_003646_00640B_74B7-METADATA_RAW\",\"S1B_IW_SLC__1SSV_20161231T232702_20161231T232729_003646_00640B_0C4F-SLC\",\"S1B_IW_SLC__1SSV_20161231T232702_20161231T232729_003646_00640B_0C4F-METADATA_SLC\",\"S1B_IW_GRDH_1SSV_20161231T232703_20161231T232728_003646_00640B_BE2A-GRD_HS\",\"S1B_IW_GRDH_1SSV_20161231T232703_20161231T232728_003646_00640B_BE2A-METADATA_GRD_HS\",\"S1B_IW_RAW__0SSV_20161231T232724_20161231T232757_003646_00640B_CF0F-RAW\",\"S1B_IW_RAW__0SSV_20161231T232724_20161231T232757_003646_00640B_CF0F-METADATA_RAW\",\"S1B_IW_SLC__1SSV_20161231T232727_20161231T232754_003646_00640B_3F63-SLC\",\"S1B_IW_SLC__1SSV_20161231T232727_20161231T232754_003646_00640B_3F63-METADATA_SLC\",\"S1B_IW_GRDH_1SSV_20161231T232728_20161231T232753_003646_00640B_7815-METADATA_GRD_HS\",\"S1B_IW_GRDH_1SSV_20161231T232728_20161231T232753_003646_00640B_7815-GRD_HS\",\"S1A_IW_SLC__1SDV_20161231T232744_20161231T232814_014630_017C9B_9780-METADATA_SLC\",\"S1A_IW_SLC__1SDV_20161231T232744_20161231T232814_014630_017C9B_9780-SLC\",\"S1A_IW_GRDH_1SDV_20161231T232745_20161231T232814_014630_017C9B_DDAA-GRD_HD\",\"S1A_IW_GRDH_1SDV_20161231T232745_20161231T232814_014630_017C9B_DDAA-METADATA_GRD_HD\",\"S1A_IW_RAW__0SDV_20161231T232745_20161231T232814_014630_017C9B_8E83-METADATA_RAW\",\"S1A_IW_RAW__0SDV_20161231T232745_20161231T232814_014630_017C9B_8E83-RAW\",\"S1B_IW_RAW__0SSV_20161231T232749_20161231T232828_003646_00640B_7709-RAW\",\"S1B_IW_RAW__0SSV_20161231T232749_20161231T232828_003646_00640B_7709-METADATA_RAW\",\"S1B_IW_SLC__1SSV_20161231T232752_20161231T232828_003646_00640B_1420-SLC\",\"S1B_IW_SLC__1SSV_20161231T232752_20161231T232828_003646_00640B_1420-METADATA_SLC\",\"S1B_IW_GRDH_1SSV_20161231T232753_20161231T232828_003646_00640B_F02B-GRD_HS\",\"S1B_IW_GRDH_1SSV_20161231T232753_20161231T232828_003646_00640B_F02B-METADATA_GRD_HS\",\"S1A_WV_OCN__2SSV_20161231T232905_20161231T234726_014630_017C9C_F36C-OCN\",\"S1A_WV_OCN__2SSV_20161231T232905_20161231T234726_014630_017C9C_F36C-METADATA_OCN\",\"S1B_EW_GRDM_1SDV_20161231T233944_20161231T234049_003647_00640C_5A36-METADATA_GRD_MD\",\"S1B_EW_GRDM_1SDV_20161231T233944_20161231T234049_003647_00640C_5A36-GRD_MD\",\"S1B_EW_RAW__0SDV_20161231T233944_20161231T234053_003647_00640C_37D7-RAW\",\"S1B_EW_RAW__0SDV_20161231T233944_20161231T234053_003647_00640C_37D7-METADATA_RAW\",\"S1B_EW_RAW__0SDV_20161231T234044_20161231T234154_003647_00640C_372C-RAW\",\"S1B_EW_RAW__0SDV_20161231T234044_20161231T234154_003647_00640C_372C-METADATA_RAW\",\"S1B_EW_GRDM_1SDV_20161231T234049_20161231T234155_003647_00640C_F824-METADATA_GRD_MD\",\"S1B_EW_GRDM_1SDV_20161231T234049_20161231T234155_003647_00640C_F824-GRD_MD\",\"S1B_IW_SLC__1SDV_20161231T234202_20161231T234232_003647_00640D_0818-SLC\",\"S1B_IW_SLC__1SDV_20161231T234202_20161231T234232_003647_00640D_0818-METADATA_SLC\",\"S1B_IW_RAW__0SDV_20161231T234203_20161231T234235_003647_00640D_A088-METADATA_RAW\",\"S1B_IW_GRDH_1SDV_20161231T234203_20161231T234232_003647_00640D_DB6C-METADATA_GRD_HD\",\"S1B_IW_GRDH_1SDV_20161231T234203_20161231T234232_003647_00640D_DB6C-GRD_HD\",\"S1B_IW_RAW__0SDV_20161231T234203_20161231T234235_003647_00640D_A088-RAW\",\"S1B_IW_RAW__0SDV_20161231T234228_20161231T234300_003647_00640D_2C61-RAW\",\"S1B_IW_RAW__0SDV_20161231T234228_20161231T234300_003647_00640D_2C61-METADATA_RAW\",\"S1B_IW_SLC__1SDV_20161231T234230_20161231T234258_003647_00640D_C8BE-METADATA_SLC\",\"S1B_IW_SLC__1SDV_20161231T234230_20161231T234258_003647_00640D_C8BE-SLC\",\"S1B_IW_GRDH_1SDV_20161231T234232_20161231T234257_003647_00640D_E594-GRD_HD\",\"S1B_IW_GRDH_1SDV_20161231T234232_20161231T234257_003647_00640D_E594-METADATA_GRD_HD\",\"S1B_IW_RAW__0SDV_20161231T234253_20161231T234325_003647_00640D_2765-RAW\",\"S1B_IW_RAW__0SDV_20161231T234253_20161231T234325_003647_00640D_2765-METADATA_RAW\",\"S1B_IW_SLC__1SDV_20161231T234256_20161231T234323_003647_00640D_C99C-SLC\",\"S1B_IW_SLC__1SDV_20161231T234256_20161231T234323_003647_00640D_C99C-METADATA_SLC\",\"S1B_IW_GRDH_1SDV_20161231T234257_20161231T234322_003647_00640D_AB0A-METADATA_GRD_HD\",\"S1B_IW_GRDH_1SDV_20161231T234257_20161231T234322_003647_00640D_AB0A-GRD_HD\",\"S1B_IW_RAW__0SDV_20161231T234318_20161231T234350_003647_00640D_78A8-METADATA_RAW\",\"S1B_IW_RAW__0SDV_20161231T234318_20161231T234350_003647_00640D_78A8-RAW\",\"S1B_IW_SLC__1SDV_20161231T234321_20161231T234348_003647_00640D_9CB5-METADATA_SLC\",\"S1B_IW_SLC__1SDV_20161231T234321_20161231T234348_003647_00640D_9CB5-SLC\",\"S1B_IW_GRDH_1SDV_20161231T234322_20161231T234347_003647_00640D_7C89-GRD_HD\",\"S1B_IW_GRDH_1SDV_20161231T234322_20161231T234347_003647_00640D_7C89-METADATA_GRD_HD\",\"S1B_IW_RAW__0SDV_20161231T234343_20161231T234415_003647_00640D_EF30-RAW\",\"S1B_IW_RAW__0SDV_20161231T234343_20161231T234415_003647_00640D_EF30-METADATA_RAW\",\"S1B_IW_SLC__1SDV_20161231T234345_20161231T234412_003647_00640D_676C-SLC\",\"S1B_IW_SLC__1SDV_20161231T234345_20161231T234412_003647_00640D_676C-METADATA_SLC\",\"S1B_IW_GRDH_1SDV_20161231T234347_20161231T234412_003647_00640D_8C6B-METADATA_GRD_HD\",\"S1B_IW_GRDH_1SDV_20161231T234347_20161231T234412_003647_00640D_8C6B-GRD_HD\",\"S1B_IW_RAW__0SDV_20161231T234408_20161231T234440_003647_00640D_44CA-METADATA_RAW\",\"S1B_IW_RAW__0SDV_20161231T234408_20161231T234440_003647_00640D_44CA-RAW\",\"S1B_IW_SLC__1SDV_20161231T234410_20161231T234437_003647_00640D_93BA-SLC\",\"S1B_IW_SLC__1SDV_20161231T234410_20161231T234437_003647_00640D_93BA-METADATA_SLC\",\"S1B_IW_GRDH_1SDV_20161231T234412_20161231T234437_003647_00640D_9C12-GRD_HD\",\"S1B_IW_GRDH_1SDV_20161231T234412_20161231T234437_003647_00640D_9C12-METADATA_GRD_HD\",\"S1B_IW_RAW__0SDV_20161231T234433_20161231T234455_003647_00640D_FA33-RAW\",\"S1B_IW_RAW__0SDV_20161231T234433_20161231T234455_003647_00640D_FA33-METADATA_RAW\",\"S1B_IW_SLC__1SDV_20161231T234435_20161231T234456_003647_00640D_41B3-SLC\",\"S1B_IW_SLC__1SDV_20161231T234435_20161231T234456_003647_00640D_41B3-METADATA_SLC\",\"S1B_IW_GRDH_1SDV_20161231T234437_20161231T234456_003647_00640D_1307-METADATA_GRD_HD\",\"S1B_IW_GRDH_1SDV_20161231T234437_20161231T234456_003647_00640D_1307-GRD_HD\",\"S1B_EW_GRDM_1SDH_20161231T234500_20161231T234605_003647_00640E_D498-METADATA_GRD_MD\",\"S1B_EW_GRDM_1SDH_20161231T234500_20161231T234605_003647_00640E_D498-GRD_MD\",\"S1B_EW_RAW__0SDH_20161231T234500_20161231T234609_003647_00640E_627E-RAW\",\"S1B_EW_RAW__0SDH_20161231T234500_20161231T234609_003647_00640E_627E-METADATA_RAW\",\"S1B_EW_RAW__0SDH_20161231T234600_20161231T234658_003647_00640E_C749-METADATA_RAW\",\"S1B_EW_RAW__0SDH_20161231T234600_20161231T234658_003647_00640E_C749-RAW\",\"S1B_EW_GRDM_1SDH_20161231T234605_20161231T234658_003647_00640E_C511-METADATA_GRD_MD\",\"S1B_EW_GRDM_1SDH_20161231T234605_20161231T234658_003647_00640E_C511-GRD_MD\",\"S1B_EW_GRDM_1SDH_20161231T235547_20161231T235652_003647_00640F_6234-METADATA_GRD_MD\",\"S1B_EW_GRDM_1SDH_20161231T235547_20161231T235652_003647_00640F_6234-GRD_MD\",\"S1B_EW_RAW__0SDH_20161231T235548_20161231T235656_003647_00640F_95CF-RAW\",\"S1B_EW_RAW__0SDH_20161231T235548_20161231T235656_003647_00640F_95CF-METADATA_RAW\",\"S1B_EW_RAW__0SDH_20161231T235648_20161231T235748_003647_00640F_C1D1-RAW\",\"S1B_EW_RAW__0SDH_20161231T235648_20161231T235748_003647_00640F_C1D1-METADATA_RAW\",\"S1B_EW_GRDM_1SDH_20161231T235652_20161231T235749_003647_00640F_FE7E-METADATA_GRD_MD\",\"S1B_EW_GRDM_1SDH_20161231T235652_20161231T235749_003647_00640F_FE7E-GRD_MD\"],\"flightDirection\":[\"ASCENDING\",\"ASCENDING\",\"ASCENDING\",\"ASCENDING\",\"ASCENDING\",\"ASCENDING\",\"ASCENDING\",\"ASCENDING\",\"ASCENDING\",\"ASCENDING\",\"ASCENDING\",\"ASCENDING\",\"ASCENDING\",\"ASCENDING\",\"ASCENDING\",\"ASCENDING\",\"ASCENDING\",\"ASCENDING\",\"ASCENDING\",\"ASCENDING\",\"DESCENDING\",\"DESCENDING\",\"DESCENDING\",\"DESCENDING\",\"DESCENDING\",\"DESCENDING\",\"ASCENDING\",\"ASCENDING\",\"ASCENDING\",\"ASCENDING\",\"ASCENDING\",\"ASCENDING\",\"DESCENDING\",\"DESCENDING\",\"ASCENDING\",\"ASCENDING\",\"ASCENDING\",\"ASCENDING\",\"ASCENDING\",\"ASCENDING\",\"ASCENDING\",\"ASCENDING\",\"ASCENDING\",\"ASCENDING\",\"ASCENDING\",\"ASCENDING\",\"ASCENDING\",\"ASCENDING\",\"ASCENDING\",\"ASCENDING\",\"ASCENDING\",\"ASCENDING\",\"ASCENDING\",\"ASCENDING\",\"ASCENDING\",\"ASCENDING\",\"ASCENDING\",\"ASCENDING\",\"ASCENDING\",\"ASCENDING\",\"ASCENDING\",\"ASCENDING\",\"ASCENDING\",\"ASCENDING\",\"ASCENDING\",\"ASCENDING\",\"ASCENDING\",\"ASCENDING\",\"ASCENDING\",\"ASCENDING\",\"ASCENDING\",\"ASCENDING\",\"ASCENDING\",\"ASCENDING\",\"ASCENDING\",\"ASCENDING\",\"ASCENDING\",\"ASCENDING\",\"ASCENDING\",\"ASCENDING\",\"ASCENDING\",\"ASCENDING\",\"ASCENDING\",\"ASCENDING\",\"ASCENDING\",\"ASCENDING\",\"ASCENDING\",\"ASCENDING\",\"ASCENDING\",\"ASCENDING\",\"ASCENDING\",\"ASCENDING\",\"DESCENDING\",\"DESCENDING\",\"DESCENDING\",\"DESCENDING\",\"DESCENDING\",\"DESCENDING\",\"DESCENDING\",\"DESCENDING\"],\"platform\":[\"Sentinel-1B\",\"Sentinel-1B\",\"Sentinel-1B\",\"Sentinel-1B\",\"Sentinel-1B\",\"Sentinel-1B\",\"Sentinel-1B\",\"Sentinel-1B\",\"Sentinel-1B\",\"Sentinel-1B\",\"Sentinel-1B\",\"Sentinel-1B\",\"Sentinel-1B\",\"Sentinel-1B\",\"Sentinel-1B\",\"Sentinel-1B\",\"Sentinel-1B\",\"Sentinel-1B\",\"Sentinel-1B\",\"Sentinel-1B\",\"Sentinel-1A\",\"Sentinel-1A\",\"Sentinel-1A\",\"Sentinel-1A\",\"Sentinel-1A\",\"Sentinel-1A\",\"Sentinel-1B\",\"Sentinel-1B\",\"Sentinel-1B\",\"Sentinel-1B\",\"Sentinel-1B\",\"Sentinel-1B\",\"Sentinel-1A\",\"Sentinel-1A\",\"Sentinel-1B\",\"Sentinel-1B\",\"Sentinel-1B\",\"Sentinel-1B\",\"Sentinel-1B\",\"Sentinel-1B\",\"Sentinel-1B\",\"Sentinel-1B\",\"Sentinel-1B\",\"Sentinel-1B\",\"Sentinel-1B\",\"Sentinel-1B\",\"Sentinel-1B\",\"Sentinel-1B\",\"Sentinel-1B\",\"Sentinel-1B\",\"Sentinel-1B\",\"Sentinel-1B\",\"Sentinel-1B\",\"Sentinel-1B\",\"Sentinel-1B\",\"Sentinel-1B\",\"Sentinel-1B\",\"Sentinel-1B\",\"Sentinel-1B\",\"Sentinel-1B\",\"Sentinel-1B\",\"Sentinel-1B\",\"Sentinel-1B\",\"Sentinel-1B\",\"Sentinel-1B\",\"Sentinel-1B\",\"Sentinel-1B\",\"Sentinel-1B\",\"Sentinel-1B\",\"Sentinel-1B\",\"Sentinel-1B\",\"Sentinel-1B\",\"Sentinel-1B\",\"Sentinel-1B\",\"Sentinel-1B\",\"Sentinel-1B\",\"Sentinel-1B\",\"Sentinel-1B\",\"Sentinel-1B\",\"Sentinel-1B\",\"Sentinel-1B\",\"Sentinel-1B\",\"Sentinel-1B\",\"Sentinel-1B\",\"Sentinel-1B\",\"Sentinel-1B\",\"Sentinel-1B\",\"Sentinel-1B\",\"Sentinel-1B\",\"Sentinel-1B\",\"Sentinel-1B\",\"Sentinel-1B\",\"Sentinel-1B\",\"Sentinel-1B\",\"Sentinel-1B\",\"Sentinel-1B\",\"Sentinel-1B\",\"Sentinel-1B\",\"Sentinel-1B\",\"Sentinel-1B\"],\"processingLevel\":[\"RAW\",\"METADATA_RAW\",\"METADATA_RAW\",\"RAW\",\"GRD_HS\",\"METADATA_GRD_HS\",\"SLC\",\"METADATA_SLC\",\"RAW\",\"METADATA_RAW\",\"SLC\",\"METADATA_SLC\",\"GRD_HS\",\"METADATA_GRD_HS\",\"RAW\",\"METADATA_RAW\",\"SLC\",\"METADATA_SLC\",\"METADATA_GRD_HS\",\"GRD_HS\",\"METADATA_SLC\",\"SLC\",\"GRD_HD\",\"METADATA_GRD_HD\",\"METADATA_RAW\",\"RAW\",\"RAW\",\"METADATA_RAW\",\"SLC\",\"METADATA_SLC\",\"GRD_HS\",\"METADATA_GRD_HS\",\"OCN\",\"METADATA_OCN\",\"METADATA_GRD_MD\",\"GRD_MD\",\"RAW\",\"METADATA_RAW\",\"RAW\",\"METADATA_RAW\",\"METADATA_GRD_MD\",\"GRD_MD\",\"SLC\",\"METADATA_SLC\",\"METADATA_RAW\",\"METADATA_GRD_HD\",\"GRD_HD\",\"RAW\",\"RAW\",\"METADATA_RAW\",\"METADATA_SLC\",\"SLC\",\"GRD_HD\",\"METADATA_GRD_HD\",\"RAW\",\"METADATA_RAW\",\"SLC\",\"METADATA_SLC\",\"METADATA_GRD_HD\",\"GRD_HD\",\"METADATA_RAW\",\"RAW\",\"METADATA_SLC\",\"SLC\",\"GRD_HD\",\"METADATA_GRD_HD\",\"RAW\",\"METADATA_RAW\",\"SLC\",\"METADATA_SLC\",\"METADATA_GRD_HD\",\"GRD_HD\",\"METADATA_RAW\",\"RAW\",\"SLC\",\"METADATA_SLC\",\"GRD_HD\",\"METADATA_GRD_HD\",\"RAW\",\"METADATA_RAW\",\"SLC\",\"METADATA_SLC\",\"METADATA_GRD_HD\",\"GRD_HD\",\"METADATA_GRD_MD\",\"GRD_MD\",\"RAW\",\"METADATA_RAW\",\"METADATA_RAW\",\"RAW\",\"METADATA_GRD_MD\",\"GRD_MD\",\"METADATA_GRD_MD\",\"GRD_MD\",\"RAW\",\"METADATA_RAW\",\"RAW\",\"METADATA_RAW\",\"METADATA_GRD_MD\",\"GRD_MD\"],\"startTime\":[\"2016-12-31 23:26:09.000000\",\"2016-12-31 23:26:09.000000\",\"2016-12-31 23:26:34.000000\",\"2016-12-31 23:26:34.000000\",\"2016-12-31 23:26:38.000000\",\"2016-12-31 23:26:38.000000\",\"2016-12-31 23:26:38.000000\",\"2016-12-31 23:26:38.000000\",\"2016-12-31 23:26:59.000000\",\"2016-12-31 23:26:59.000000\",\"2016-12-31 23:27:02.000000\",\"2016-12-31 23:27:02.000000\",\"2016-12-31 23:27:03.000000\",\"2016-12-31 23:27:03.000000\",\"2016-12-31 23:27:24.000000\",\"2016-12-31 23:27:24.000000\",\"2016-12-31 23:27:27.000000\",\"2016-12-31 23:27:27.000000\",\"2016-12-31 23:27:28.000000\",\"2016-12-31 23:27:28.000000\",\"2016-12-31 23:27:44.000000\",\"2016-12-31 23:27:44.000000\",\"2016-12-31 23:27:45.000000\",\"2016-12-31 23:27:45.000000\",\"2016-12-31 23:27:45.000000\",\"2016-12-31 23:27:45.000000\",\"2016-12-31 23:27:49.000000\",\"2016-12-31 23:27:49.000000\",\"2016-12-31 23:27:52.000000\",\"2016-12-31 23:27:52.000000\",\"2016-12-31 23:27:53.000000\",\"2016-12-31 23:27:53.000000\",\"2016-12-31 23:29:05.000000\",\"2016-12-31 23:29:05.000000\",\"2016-12-31 23:39:44.000000\",\"2016-12-31 23:39:44.000000\",\"2016-12-31 23:39:44.000000\",\"2016-12-31 23:39:44.000000\",\"2016-12-31 23:40:44.000000\",\"2016-12-31 23:40:44.000000\",\"2016-12-31 23:40:49.000000\",\"2016-12-31 23:40:49.000000\",\"2016-12-31 23:42:02.000000\",\"2016-12-31 23:42:02.000000\",\"2016-12-31 23:42:03.000000\",\"2016-12-31 23:42:03.000000\",\"2016-12-31 23:42:03.000000\",\"2016-12-31 23:42:03.000000\",\"2016-12-31 23:42:28.000000\",\"2016-12-31 23:42:28.000000\",\"2016-12-31 23:42:30.000000\",\"2016-12-31 23:42:30.000000\",\"2016-12-31 23:42:32.000000\",\"2016-12-31 23:42:32.000000\",\"2016-12-31 23:42:53.000000\",\"2016-12-31 23:42:53.000000\",\"2016-12-31 23:42:56.000000\",\"2016-12-31 23:42:56.000000\",\"2016-12-31 23:42:57.000000\",\"2016-12-31 23:42:57.000000\",\"2016-12-31 23:43:18.000000\",\"2016-12-31 23:43:18.000000\",\"2016-12-31 23:43:21.000000\",\"2016-12-31 23:43:21.000000\",\"2016-12-31 23:43:22.000000\",\"2016-12-31 23:43:22.000000\",\"2016-12-31 23:43:43.000000\",\"2016-12-31 23:43:43.000000\",\"2016-12-31 23:43:45.000000\",\"2016-12-31 23:43:45.000000\",\"2016-12-31 23:43:47.000000\",\"2016-12-31 23:43:47.000000\",\"2016-12-31 23:44:08.000000\",\"2016-12-31 23:44:08.000000\",\"2016-12-31 23:44:10.000000\",\"2016-12-31 23:44:10.000000\",\"2016-12-31 23:44:12.000000\",\"2016-12-31 23:44:12.000000\",\"2016-12-31 23:44:33.000000\",\"2016-12-31 23:44:33.000000\",\"2016-12-31 23:44:35.000000\",\"2016-12-31 23:44:35.000000\",\"2016-12-31 23:44:37.000000\",\"2016-12-31 23:44:37.000000\",\"2016-12-31 23:45:00.000000\",\"2016-12-31 23:45:00.000000\",\"2016-12-31 23:45:00.000000\",\"2016-12-31 23:45:00.000000\",\"2016-12-31 23:46:00.000000\",\"2016-12-31 23:46:00.000000\",\"2016-12-31 23:46:05.000000\",\"2016-12-31 23:46:05.000000\",\"2016-12-31 23:55:47.000000\",\"2016-12-31 23:55:47.000000\",\"2016-12-31 23:55:48.000000\",\"2016-12-31 23:55:48.000000\",\"2016-12-31 23:56:48.000000\",\"2016-12-31 23:56:48.000000\",\"2016-12-31 23:56:52.000000\",\"2016-12-31 23:56:52.000000\"]},\"selected\":{\"id\":\"1050\"},\"selection_policy\":{\"id\":\"1049\"}},\"id\":\"1034\",\"type\":\"ColumnDataSource\"},{\"attributes\":{},\"id\":\"1048\",\"type\":\"AllLabels\"},{\"attributes\":{\"overlay\":{\"id\":\"1026\"}},\"id\":\"1022\",\"type\":\"BoxZoomTool\"},{\"attributes\":{},\"id\":\"1023\",\"type\":\"SaveTool\"},{\"attributes\":{},\"id\":\"1024\",\"type\":\"ResetTool\"},{\"attributes\":{\"mantissas\":[1,2,5],\"max_interval\":500.0,\"num_minor_ticks\":0},\"id\":\"1052\",\"type\":\"AdaptiveTicker\"},{\"attributes\":{\"bottom_units\":\"screen\",\"coordinates\":null,\"fill_alpha\":0.5,\"fill_color\":\"lightgrey\",\"group\":null,\"left_units\":\"screen\",\"level\":\"overlay\",\"line_alpha\":1.0,\"line_color\":\"black\",\"line_dash\":[4,4],\"line_width\":2,\"right_units\":\"screen\",\"syncable\":false,\"top_units\":\"screen\"},\"id\":\"1026\",\"type\":\"BoxAnnotation\"},{\"attributes\":{},\"id\":\"1017\",\"type\":\"BasicTicker\"},{\"attributes\":{\"base\":60,\"mantissas\":[1,2,5,10,15,20,30],\"max_interval\":1800000.0,\"min_interval\":1000.0,\"num_minor_ticks\":0},\"id\":\"1053\",\"type\":\"AdaptiveTicker\"},{\"attributes\":{},\"id\":\"1006\",\"type\":\"DataRange1d\"},{\"attributes\":{\"days\":[1,8,15,22]},\"id\":\"1057\",\"type\":\"DaysTicker\"},{\"attributes\":{},\"id\":\"1044\",\"type\":\"BasicTickFormatter\"},{\"attributes\":{\"base\":24,\"mantissas\":[1,2,4,6,8,12],\"max_interval\":43200000.0,\"min_interval\":3600000.0,\"num_minor_ticks\":0},\"id\":\"1054\",\"type\":\"AdaptiveTicker\"},{\"attributes\":{},\"id\":\"1049\",\"type\":\"UnionRenderers\"},{\"attributes\":{},\"id\":\"1045\",\"type\":\"AllLabels\"},{\"attributes\":{},\"id\":\"1063\",\"type\":\"YearsTicker\"},{\"attributes\":{\"days\":[1,4,7,10,13,16,19,22,25,28]},\"id\":\"1056\",\"type\":\"DaysTicker\"},{\"attributes\":{\"days\":[1,2,3,4,5,6,7,8,9,10,11,12,13,14,15,16,17,18,19,20,21,22,23,24,25,26,27,28,29,30,31]},\"id\":\"1055\",\"type\":\"DaysTicker\"},{\"attributes\":{},\"id\":\"1050\",\"type\":\"Selection\"},{\"attributes\":{\"months\":[0,6]},\"id\":\"1062\",\"type\":\"MonthsTicker\"},{\"attributes\":{\"days\":[1,15]},\"id\":\"1058\",\"type\":\"DaysTicker\"},{\"attributes\":{\"months\":[0,1,2,3,4,5,6,7,8,9,10,11]},\"id\":\"1059\",\"type\":\"MonthsTicker\"},{\"attributes\":{\"line_color\":\"#1f77b4\",\"x\":{\"field\":\"date\"},\"y\":{\"field\":\"centerLat\"}},\"id\":\"1036\",\"type\":\"Line\"},{\"attributes\":{\"months\":[0,2,4,6,8,10]},\"id\":\"1060\",\"type\":\"MonthsTicker\"},{\"attributes\":{\"tools\":[{\"id\":\"1020\"},{\"id\":\"1021\"},{\"id\":\"1022\"},{\"id\":\"1023\"},{\"id\":\"1024\"},{\"id\":\"1025\"}]},\"id\":\"1027\",\"type\":\"Toolbar\"},{\"attributes\":{\"axis\":{\"id\":\"1012\"},\"coordinates\":null,\"group\":null,\"ticker\":null},\"id\":\"1015\",\"type\":\"Grid\"},{\"attributes\":{\"months\":[0,4,8]},\"id\":\"1061\",\"type\":\"MonthsTicker\"},{\"attributes\":{},\"id\":\"1010\",\"type\":\"LinearScale\"},{\"attributes\":{\"coordinates\":null,\"data_source\":{\"id\":\"1034\"},\"glyph\":{\"id\":\"1036\"},\"group\":null,\"hover_glyph\":null,\"muted_glyph\":{\"id\":\"1038\"},\"nonselection_glyph\":{\"id\":\"1037\"},\"view\":{\"id\":\"1040\"}},\"id\":\"1039\",\"type\":\"GlyphRenderer\"},{\"attributes\":{\"num_minor_ticks\":5,\"tickers\":[{\"id\":\"1052\"},{\"id\":\"1053\"},{\"id\":\"1054\"},{\"id\":\"1055\"},{\"id\":\"1056\"},{\"id\":\"1057\"},{\"id\":\"1058\"},{\"id\":\"1059\"},{\"id\":\"1060\"},{\"id\":\"1061\"},{\"id\":\"1062\"},{\"id\":\"1063\"}]},\"id\":\"1013\",\"type\":\"DatetimeTicker\"},{\"attributes\":{},\"id\":\"1008\",\"type\":\"LinearScale\"},{\"attributes\":{\"line_alpha\":0.2,\"line_color\":\"#1f77b4\",\"x\":{\"field\":\"date\"},\"y\":{\"field\":\"centerLat\"}},\"id\":\"1038\",\"type\":\"Line\"},{\"attributes\":{\"line_alpha\":0.1,\"line_color\":\"#1f77b4\",\"x\":{\"field\":\"date\"},\"y\":{\"field\":\"centerLat\"}},\"id\":\"1037\",\"type\":\"Line\"},{\"attributes\":{},\"id\":\"1004\",\"type\":\"DataRange1d\"},{\"attributes\":{\"source\":{\"id\":\"1034\"}},\"id\":\"1040\",\"type\":\"CDSView\"}],\"root_ids\":[\"1003\"]},\"title\":\"Bokeh Application\",\"version\":\"2.4.2\"}};\n  const render_items = [{\"docid\":\"37db622e-ff8d-415f-b2f6-a628f1611938\",\"root_ids\":[\"1003\"],\"roots\":{\"1003\":\"2965f715-606d-48a3-ae86-68532efa32d1\"}}];\n  root.Bokeh.embed.embed_items_notebook(docs_json, render_items);\n\n  }\n  if (root.Bokeh !== undefined) {\n    embed_document(root);\n  } else {\n    let attempts = 0;\n    const timer = setInterval(function(root) {\n      if (root.Bokeh !== undefined) {\n        clearInterval(timer);\n        embed_document(root);\n      } else {\n        attempts++;\n        if (attempts > 100) {\n          clearInterval(timer);\n          console.log(\"Bokeh: ERROR: Unable to run BokehJS code because BokehJS library is missing\");\n        }\n      }\n    }, 10, root)\n  }\n})(window);",
      "application/vnd.bokehjs_exec.v0+json": ""
     },
     "metadata": {
      "application/vnd.bokehjs_exec.v0+json": {
       "id": "1003"
      }
     },
     "output_type": "display_data"
    }
   ],
   "source": [
    "# I'm plotting directly in this cell, without a call to the make_plot method\n",
    "\n",
    "plot = figure(width=600,height=600,x_axis_type=\"datetime\")\n",
    "plot.line('date', 'centerLat', source=source, alpha=1)\n",
    "# output_file(\"foo.html\")\n",
    "show(plot)"
   ]
  }
 ],
 "metadata": {
  "kernelspec": {
   "display_name": "Python 3 (ipykernel)",
   "language": "python",
   "name": "python3"
  },
  "language_info": {
   "codemirror_mode": {
    "name": "ipython",
    "version": 3
   },
   "file_extension": ".py",
   "mimetype": "text/x-python",
   "name": "python",
   "nbconvert_exporter": "python",
   "pygments_lexer": "ipython3",
   "version": "3.9.12"
  }
 },
 "nbformat": 4,
 "nbformat_minor": 5
}
