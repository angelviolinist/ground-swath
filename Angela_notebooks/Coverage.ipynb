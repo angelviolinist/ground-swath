{
 "cells": [
  {
   "cell_type": "code",
   "execution_count": 1,
   "id": "a3bd74de",
   "metadata": {},
   "outputs": [],
   "source": [
    "# from dem_stitcher.stitcher import stitch_dem\n",
    "# import rasterio\n",
    "# from rasterio import plot\n",
    "import matplotlib.pyplot as plt\n",
    "from shapely.geometry import Point, Polygon\n",
    "import asf_search as asf\n",
    "from datetime import datetime, date, timedelta\n",
    "from typing import List\n",
    "from pystac_client import Client, ItemSearch"
   ]
  },
  {
   "cell_type": "code",
   "execution_count": 2,
   "id": "cd00cd96",
   "metadata": {},
   "outputs": [],
   "source": [
    "# for formatting the datetime object to asfsearch syntax\n",
    "def datetime2asfsearch(entered_date: datetime) -> str:\n",
    "    return datetime.strftime(entered_date,'%Y') + '-' + datetime.strftime(entered_date,'%m') + '-' + datetime.strftime(entered_date,'%d') + 'T' + datetime.strftime(entered_date,'%H') + ':' + datetime.strftime(entered_date,'%M') + ':' + datetime.strftime(entered_date,'%S') + 'Z'"
   ]
  },
  {
   "cell_type": "code",
   "execution_count": 3,
   "id": "894d1ce0",
   "metadata": {},
   "outputs": [],
   "source": [
    "# for searching for landsat8 data\n",
    "def hls_search(aoi: Point, date: List[datetime] = None):\n",
    "    STAC_URL = 'https://cmr.earthdata.nasa.gov/stac'\n",
    "    api = Client.open(f'{STAC_URL}/LPCLOUD/')\n",
    "    hls_collections = ['HLSL30.v2.0', 'HLSS30.v2.0']\n",
    "    \n",
    "    if date == None:\n",
    "        search_datetime = [datetime.combine(date.today(), datetime.min.time()), datetime.now()]\n",
    "    else:\n",
    "        search_datetime = date\n",
    "    \n",
    "    search_params = {\n",
    "        \"collections\": hls_collections,\n",
    "        \"bbox\": [aoi.x,aoi.y,aoi.x + 0.01,aoi.y + 0.01], # list of xmin, ymin, xmax, ymax\n",
    "        \"datetime\": search_datetime,\n",
    "        \"max_items\": 500\n",
    "    }\n",
    "    search_hls = api.search(**search_params)\n",
    "    hls_collection = search_hls.get_all_items()\n",
    "    d = list(hls_collection)\n",
    "    \n",
    "    return d"
   ]
  },
  {
   "cell_type": "code",
   "execution_count": 4,
   "id": "72d96c04",
   "metadata": {},
   "outputs": [],
   "source": [
    "# for searching sentinel1 data\n",
    "def asf_search(aoi: Point, date: List[datetime] = None):\n",
    "    if date == None:\n",
    "        today = date.today()\n",
    "        start = str(today) + 'T00:00:00Z'\n",
    "        end = str(today) + 'T23:59:59Z'\n",
    "    else:\n",
    "        start = datetime2asfsearch(date[0])\n",
    "        end = datetime2asfsearch(date[1])\n",
    "\n",
    "    opts = {\n",
    "        'platform': asf.PLATFORM.SENTINEL1,\n",
    "        'maxResults': 500,\n",
    "        'start': start,\n",
    "        'end': end\n",
    "    }\n",
    "    results = asf.search(**opts)\n",
    "    \n",
    "    return results"
   ]
  },
  {
   "cell_type": "code",
   "execution_count": 5,
   "id": "9ad6e05c",
   "metadata": {},
   "outputs": [],
   "source": [
    "# find next acquisition date\n",
    "def acq_search(sensor: str, aoi: Point, date):\n",
    "    rep = 0\n",
    "    acq = False\n",
    "    \n",
    "    while acq == False or rep < 10:\n",
    "        \n",
    "        if 'landsat8' in sensor.lower():\n",
    "            results = hls_search(aoi, [date + timedelta(days = 100 * rep), date + timedelta(days = 100 * (rep + 1))])\n",
    "        elif 'sentinel1' in sensor.lower():\n",
    "            results = asf_search(aoi, [date + timedelta(days = 100 * rep), date + timedelta(days = 100 * (rep + 1))])\n",
    "        \n",
    "        coords = []\n",
    "        for i in range(len(results)):\n",
    "            coords.append(results[i].geometry['coordinates'][0])\n",
    "\n",
    "        for i in range(len(results)):\n",
    "            poly = Polygon(coords[i])\n",
    "            if aoi.within(poly):\n",
    "                acq = True\n",
    "                break\n",
    "            \n",
    "        if acq:\n",
    "            if 'landsat8' in sensor.lower():\n",
    "                next_acq = results[i].properties['start_datetime']\n",
    "            elif 'sentinel1' in sensor.lower():\n",
    "                next_acq = results[i].properties['startTime']\n",
    "            break\n",
    "        \n",
    "        next_acq = 'Search yielded no results'\n",
    "        rep += 1\n",
    "    return next_acq"
   ]
  },
  {
   "cell_type": "code",
   "execution_count": 6,
   "id": "445323ec",
   "metadata": {},
   "outputs": [],
   "source": [
    "def get_coverage(sensor: List[str], aoi: Point, date: List[datetime] = None) -> List[dict]:\n",
    "    \"\"\"\n",
    "    Sensor: choose sentinel1 and/or landsat8\n",
    "    AOI: enter coordinates as Point object\n",
    "    date: leave as none if searching today, else enter time range as datetime tuple: datetime(YYYY,MM,DD)\n",
    "    \"\"\"\n",
    "    freq = {}\n",
    "    next_acq = {}\n",
    "    area = {}\n",
    "    \n",
    "    for sensor_name in sensor:\n",
    "        freq[sensor_name] = ''\n",
    "        next_acq[sensor_name] = ''\n",
    "        area[sensor_name] = ''\n",
    "        \n",
    "        if 'landsat8' in sensor_name.lower():\n",
    "            results = hls_search(aoi, date)\n",
    "        elif 'sentinel1' in sensor_name.lower():\n",
    "            results = asf_search(aoi, date)\n",
    "\n",
    "        coords = []\n",
    "        for i in range(len(results)):\n",
    "            coords.append(results[i].geometry['coordinates'][0])\n",
    "\n",
    "        # find all intersecting polygons and save as list\n",
    "        counter = 0\n",
    "        polygon_list = []\n",
    "        for i in range(len(results)):\n",
    "            poly = Polygon(coords[i])\n",
    "            if aoi.within(poly):\n",
    "                counter += 1\n",
    "                polygon_list.append(Polygon(coords[i]))\n",
    "        \n",
    "        # calculate frequency\n",
    "        if counter == 0:\n",
    "            freq[sensor_name] = 'There is no coverage during this time'\n",
    "            area[sensor_name] = 0\n",
    "        else:\n",
    "            delta = date[1].date() - date[0].date()\n",
    "            freq[sensor_name] = str(delta / counter)\n",
    "        \n",
    "        # find next acquisition time, if search time is today then returns 'N/A'\n",
    "        if date == None:\n",
    "            next_acq[sensor_name] = 'N/A'\n",
    "            \n",
    "        else:\n",
    "            \n",
    "            # put arbitrary hard stop at 10 searches (1000 days)\n",
    "            if 'sentinel1' in sensor_name.lower():\n",
    "                next_acq[sensor_name] = acq_search('sentinel1', aoi, date[1])\n",
    "                    \n",
    "            elif 'landsat8' in sensor_name.lower():\n",
    "                next_acq[sensor_name] = acq_search('landsat8', aoi, date[1])\n",
    "                \n",
    "        if counter != 0:\n",
    "            \n",
    "            area[sensor_name] = polygon_list[0]\n",
    "            if counter != 1:\n",
    "                \n",
    "                for i in range(len(polygon_list) - 1):\n",
    "                    area[sensor_name] = area[sensor_name].intersection(polygon_list[i + 1])\n",
    "         \n",
    "    return freq, next_acq, area"
   ]
  },
  {
   "cell_type": "code",
   "execution_count": null,
   "id": "7a444273",
   "metadata": {
    "scrolled": true
   },
   "outputs": [],
   "source": [
    "freq, next_acq, area = get_coverage(['landsat8','sentinel1'],Point(105, 74),[datetime(2015,1,1), datetime(2017,1,1)])"
   ]
  },
  {
   "cell_type": "code",
   "execution_count": null,
   "id": "f433b434",
   "metadata": {},
   "outputs": [],
   "source": [
    "print(freq['landsat8'])\n",
    "print(next_acq['landsat8'])\n",
    "print(freq['sentinel1'])\n",
    "print(next_acq['sentinel1'])"
   ]
  },
  {
   "cell_type": "code",
   "execution_count": null,
   "id": "1ba4a407",
   "metadata": {},
   "outputs": [],
   "source": [
    "print(area['landsat8'])\n",
    "print(area['sentinel1'])"
   ]
  },
  {
   "cell_type": "raw",
   "id": "9751043a",
   "metadata": {},
   "source": [
    "opts = {\n",
    "    'platform': asf.PLATFORM.SENTINEL1,\n",
    "    'maxResults': 10,\n",
    "    'start': '2015-01-01T00:00:00Z',\n",
    "    'end': '2016-12-31T23:59:59Z'\n",
    "}\n",
    "results = asf.search(**opts)\n",
    "print(results[0])"
   ]
  },
  {
   "cell_type": "raw",
   "id": "d77a675f",
   "metadata": {},
   "source": [
    "STAC_URL = 'https://cmr.earthdata.nasa.gov/stac'\n",
    "api = Client.open(f'{STAC_URL}/LPCLOUD/')\n",
    "hls_collections = ['HLSL30.v2.0', 'HLSS30.v2.0']\n",
    "search_params = {\"collections\": hls_collections,\n",
    "                 \"bbox\": [105, 74, 105.01, 74.01], # list of xmin, ymin, xmax, ymax\n",
    "                 \"datetime\": [datetime(2017,1,1), datetime(2018,1,1)],\n",
    "                 \"max_items\": 500}\n",
    "search_hls = api.search(**search_params)\n",
    "hls_collection = search_hls.get_all_items()\n",
    "d = list(hls_collection)\n",
    "d[0].properties\n",
    "d[0].geometry['coordinates'][0]"
   ]
  },
  {
   "cell_type": "code",
   "execution_count": null,
   "id": "0fa00019",
   "metadata": {},
   "outputs": [],
   "source": []
  }
 ],
 "metadata": {
  "kernelspec": {
   "display_name": "Python 3 (ipykernel)",
   "language": "python",
   "name": "python3"
  },
  "language_info": {
   "codemirror_mode": {
    "name": "ipython",
    "version": 3
   },
   "file_extension": ".py",
   "mimetype": "text/x-python",
   "name": "python",
   "nbconvert_exporter": "python",
   "pygments_lexer": "ipython3",
   "version": "3.10.5"
  }
 },
 "nbformat": 4,
 "nbformat_minor": 5
}
