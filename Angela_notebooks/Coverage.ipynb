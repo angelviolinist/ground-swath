{
 "cells": [
  {
   "cell_type": "code",
   "execution_count": 1,
   "id": "a3bd74de",
   "metadata": {},
   "outputs": [],
   "source": [
    "# import rasterio\n",
    "# from rasterio import plot\n",
    "import matplotlib.pyplot as plt\n",
    "from shapely.geometry import Point, Polygon\n",
    "import asf_search as asf\n",
    "from datetime import datetime, date, timedelta\n",
    "from typing import List\n",
    "from pystac_client import Client, ItemSearch\n",
    "import geopandas as gpd\n",
    "from rasterio.crs import CRS\n",
    "import contextily as cx"
   ]
  },
  {
   "cell_type": "code",
   "execution_count": 2,
   "id": "546b6005",
   "metadata": {},
   "outputs": [],
   "source": [
    "# for formatting the datetime object to asfsearch syntax\n",
    "def datetime2asfsearch(entered_date: datetime) -> str:\n",
    "    return datetime.strftime(entered_date,'%Y') + '-' + datetime.strftime(entered_date,'%m') + '-' + datetime.strftime(entered_date,'%d') + 'T' + datetime.strftime(entered_date,'%H') + ':' + datetime.strftime(entered_date,'%M') + ':' + datetime.strftime(entered_date,'%S') + 'Z'"
   ]
  },
  {
   "cell_type": "code",
   "execution_count": 3,
   "id": "f209b7f4",
   "metadata": {},
   "outputs": [],
   "source": [
    "def asfsearch2datetime(entered_date: str) -> datetime:\n",
    "    return datetime.strptime(entered_date, '%Y-%m-%dT%H:%M:%S.%f')"
   ]
  },
  {
   "cell_type": "code",
   "execution_count": 4,
   "id": "4f5bd6d0",
   "metadata": {},
   "outputs": [],
   "source": [
    "# for searching for sentinel2 and landsat8 data\n",
    "def hls_search(sensor: str, aoi: Point, date: List[datetime] = None):\n",
    "    STAC_URL = 'https://cmr.earthdata.nasa.gov/stac'\n",
    "    api = Client.open(f'{STAC_URL}/LPCLOUD/')\n",
    "    \n",
    "    if 'sentinel2' in sensor.lower():\n",
    "        hls_collections = ['HLSS30.v2.0']\n",
    "    elif 'landsat8' in sensor.lower():\n",
    "        hls_collections = ['HLSL30.v2.0']\n",
    "    \n",
    "    if date == None:\n",
    "        search_datetime = [datetime.combine(date.today(), datetime.min.time()), datetime.now()]\n",
    "    else:\n",
    "        search_datetime = date\n",
    "    \n",
    "    search_params = {\n",
    "        \"collections\": hls_collections,\n",
    "        \"bbox\": [aoi.x - 1e-5,aoi.y - 1e-5,aoi.x + 1e-5,aoi.y + 1e-5], # list of xmin, ymin, xmax, ymax\n",
    "        \"datetime\": search_datetime,\n",
    "#         \"max_items\": 1000\n",
    "    }\n",
    "    search_hls = api.search(**search_params)\n",
    "    hls_collection = search_hls.get_all_items()\n",
    "#     hls_collection = search_hls.get_item_collections()\n",
    "    d = list(hls_collection)\n",
    "    \n",
    "    return d"
   ]
  },
  {
   "cell_type": "code",
   "execution_count": 33,
   "id": "f9613faf",
   "metadata": {},
   "outputs": [],
   "source": [
    "# for searching sentinel1 data\n",
    "def asf_search(aoi: Point, date: datetime = None):\n",
    "    if date == None:\n",
    "        today = date.today()\n",
    "        start = str(today) + 'T00:00:00Z'\n",
    "        end = str(today) + 'T23:59:59Z'\n",
    "    else:\n",
    "        start = datetime2asfsearch(date[0])\n",
    "        end = datetime2asfsearch(date[1])\n",
    "\n",
    "    opts = {\n",
    "        'platform': asf.PLATFORM.SENTINEL1,\n",
    "#         'maxResults': 1000,\n",
    "        'processingLevel': 'RAW',\n",
    "        'start': start,\n",
    "        'end': end\n",
    "    }\n",
    "    results = asf.search(**opts)\n",
    "    \n",
    "    return results"
   ]
  },
  {
   "cell_type": "code",
   "execution_count": 6,
   "id": "8e33be5a",
   "metadata": {},
   "outputs": [],
   "source": [
    "# find next acquisition date\n",
    "def acq_search(sensor: str, aoi: Point, date):\n",
    "    rep = 0\n",
    "    acq = False\n",
    "    \n",
    "    # put arbitrary hard stop at 3 searches (300 days)\n",
    "    while acq == False and rep < 3:\n",
    "\n",
    "        if 'landsat8' in sensor.lower():\n",
    "            results = hls_search('landsat8', aoi, [date + timedelta(days = 100 * rep), date + timedelta(days = 100 * (rep + 1))])\n",
    "        elif 'sentinel1' in sensor.lower():\n",
    "            results = asf_search(aoi, [date + timedelta(days = 100 * rep), date + timedelta(days = 100 * (rep + 1))])\n",
    "        elif 'sentinel2' in sensor.lower():\n",
    "            results = hls_search('sentinel2', aoi, [date + timedelta(days = 100 * rep), date + timedelta(days = 100 * (rep + 1))])\n",
    "        \n",
    "        coords = []\n",
    "        for i in range(len(results)):\n",
    "            coords.append(results[i].geometry['coordinates'][0])\n",
    "\n",
    "        for i in range(len(results)):\n",
    "            poly = Polygon(coords[i])\n",
    "            if aoi.within(poly):\n",
    "                acq = True\n",
    "                break\n",
    "            \n",
    "        if acq:\n",
    "            if 'landsat8' or 'sentinel2' in sensor.lower():\n",
    "                next_acq = results[i].properties['start_datetime']\n",
    "            elif 'sentinel1' in sensor.lower():\n",
    "                next_acq = results[i].properties['startTime']\n",
    "            break\n",
    "        \n",
    "        else:\n",
    "            next_acq = 'Search yielded no results'\n",
    "        rep += 1\n",
    "    return next_acq"
   ]
  },
  {
   "cell_type": "code",
   "execution_count": 22,
   "id": "445323ec",
   "metadata": {},
   "outputs": [],
   "source": [
    "def get_coverage(sensor: List[str], aoi: Point, date: List[datetime] = None) -> List[dict]:\n",
    "    \"\"\"\n",
    "    Sensor: choose sentinel1 and/or landsat8\n",
    "    AOI: enter coordinates as Point object\n",
    "    date: leave as none if searching today, else enter time range as datetime tuple: datetime(YYYY,MM,DD)\n",
    "    \"\"\"\n",
    "    freq = {}\n",
    "    next_acq = {}\n",
    "    area = {}\n",
    "    \n",
    "    for sensor_name in sensor:\n",
    "        freq[sensor_name] = ''\n",
    "        next_acq[sensor_name] = ''\n",
    "        area[sensor_name] = ''\n",
    "        \n",
    "        if 'landsat8' in sensor_name.lower():\n",
    "            results = hls_search('landsat8', aoi, date)\n",
    "        elif 'sentinel1' in sensor_name.lower():\n",
    "            results = asf_search(aoi, date)\n",
    "        elif 'sentinel2' in sensor_name.lower():\n",
    "            results = hls_search('sentinel2', aoi, date)\n",
    "        \n",
    "        coords = []\n",
    "        for i in range(len(results)):\n",
    "            coords.append(results[i].geometry['coordinates'][0])\n",
    "\n",
    "        # find all intersecting polygons and save as list\n",
    "        tracker = []\n",
    "        frame = []\n",
    "        polygon_list = []\n",
    "        for i in range(len(results)):\n",
    "            poly = Polygon(coords[i])\n",
    "            if aoi.within(poly) and i not in frame:\n",
    "                frame.append(results[i].properties['frameNumber'])\n",
    "                tracker.append(i)\n",
    "                polygon_list.append(Polygon(coords[i]))\n",
    "        \n",
    "        # calculate frequency\n",
    "        if not tracker:\n",
    "            freq[sensor_name] = 'There is no coverage during this time'\n",
    "            area[sensor_name] = 0\n",
    "            \n",
    "        else:\n",
    "            if len(tracker) == 1:\n",
    "                try:\n",
    "                    freq[sensor_name] = 'Only one acquisition on ' + results[i].properties['startTime']\n",
    "                except:\n",
    "                    freq[sensor_name] = 'Only one acquisition on ' + results[i].properties['start_datetime']\n",
    "                    \n",
    "            else:\n",
    "                cadence = []\n",
    "                for i in range(len(tracker) - 1):\n",
    "                    try:\n",
    "                        cadence.append(str(asfsearch2datetime(results[tracker[i]].properties['startTime']) - asfsearch2datetime(results[tracker[i + 1]].properties['startTime'])))\n",
    "                    except:\n",
    "                        continue\n",
    "#                         cadence.append(str(asfsearch2datetime(results[tracker[i]].properties['start_datetime']) - asfsearch2datetime(results[tracker[i + 1]].properties['start_datetime'])))\n",
    "                \n",
    "                freq[sensor_name] = cadence\n",
    "        \n",
    "        # find next acquisition time, if search time is today then returns 'N/A'\n",
    "        if date == None:\n",
    "            next_acq[sensor_name] = 'N/A'\n",
    "            \n",
    "        else:\n",
    "            next_acq[sensor_name] = acq_search(sensor_name.lower(), aoi, date[1])\n",
    "#             if 'sentinel1' in sensor_name.lower():\n",
    "#                 next_acq[sensor_name] = acq_search('sentinel1', aoi, date[1])\n",
    "                \n",
    "#             elif 'sentinel2' in sensor_name.lower():\n",
    "#                 next_acq[sensor_name] = acq_search('sentinel2', aoi, date[1])\n",
    "                    \n",
    "#             elif 'landsat8' in sensor_name.lower():\n",
    "#                 next_acq[sensor_name] = acq_search('landsat8', aoi, date[1])\n",
    "                \n",
    "        if tracker:\n",
    "            area[sensor_name] = polygon_list[0]\n",
    "            \n",
    "            if len(tracker) > 1:\n",
    "                \n",
    "                for i in range(len(polygon_list) - 1):\n",
    "                    area[sensor_name] = area[sensor_name].intersection(polygon_list[i + 1])\n",
    "         \n",
    "    return freq, next_acq, area"
   ]
  },
  {
   "cell_type": "markdown",
   "id": "6d9bf151",
   "metadata": {},
   "source": [
    "Ridgecrest coordinates: 35.6225N, 117.6709W (-117.6709, 35.6225)\n",
    "\n",
    "Wax lake delta: \n",
    "\n",
    "Laurentides forest in Canada: "
   ]
  },
  {
   "cell_type": "code",
   "execution_count": null,
   "id": "7a444273",
   "metadata": {
    "scrolled": true
   },
   "outputs": [],
   "source": [
    "freq, next_acq, area = get_coverage(['sentinel1'],Point(-117.6709, 35.6225),[datetime(2022,1,1), datetime(2022,1,14)])"
   ]
  },
  {
   "cell_type": "code",
   "execution_count": null,
   "id": "4e136f9f",
   "metadata": {},
   "outputs": [],
   "source": [
    "# print(freq['landsat8'])\n",
    "# print(next_acq['landsat8'])\n",
    "print(freq['sentinel1'])\n",
    "print(next_acq['sentinel1'])"
   ]
  },
  {
   "cell_type": "code",
   "execution_count": null,
   "id": "1ba4a407",
   "metadata": {},
   "outputs": [],
   "source": [
    "print(area['landsat8'])\n",
    "print(area['sentinel1'])"
   ]
  },
  {
   "cell_type": "code",
   "execution_count": 28,
   "id": "3262f729",
   "metadata": {
    "scrolled": true
   },
   "outputs": [
    {
     "name": "stdout",
     "output_type": "stream",
     "text": [
      "10\n"
     ]
    }
   ],
   "source": [
    "opts = {\n",
    "    'platform': asf.PLATFORM.SENTINEL1,\n",
    "    'maxResults': 10,\n",
    "    'processingLevel': 'RAW',\n",
    "    'start': '2022-01-01T00:00:00Z',\n",
    "    'end': '2022-01-14T23:59:59Z'\n",
    "}\n",
    "results = asf.search(**opts)\n",
    "print(len(results))"
   ]
  },
  {
   "cell_type": "code",
   "execution_count": 29,
   "id": "d8fbdd0f",
   "metadata": {},
   "outputs": [
    {
     "data": {
      "text/plain": [
       "'0:02:55'"
      ]
     },
     "execution_count": 29,
     "metadata": {},
     "output_type": "execute_result"
    }
   ],
   "source": [
    "i = 0\n",
    "tracker = [0,7]\n",
    "str(asfsearch2datetime(results[tracker[i]].properties['startTime']) - asfsearch2datetime(results[tracker[i + 1]].properties['startTime']))"
   ]
  },
  {
   "cell_type": "code",
   "execution_count": 32,
   "id": "cb7723e4",
   "metadata": {},
   "outputs": [
    {
     "name": "stdout",
     "output_type": "stream",
     "text": [
      "135\n",
      "130\n",
      "125\n",
      "120\n",
      "115\n",
      "110\n",
      "105\n",
      "100\n",
      "95\n",
      "90\n"
     ]
    }
   ],
   "source": [
    "for i in range(10):\n",
    "    print(results[i].properties['frameNumber'])"
   ]
  },
  {
   "cell_type": "code",
   "execution_count": 27,
   "id": "8635812d",
   "metadata": {
    "scrolled": true
   },
   "outputs": [
    {
     "data": {
      "text/plain": [
       "{'beamModeType': 'IW',\n",
       " 'browse': [],\n",
       " 'bytes': '1402120249',\n",
       " 'centerLat': '42.4879',\n",
       " 'centerLon': '-90.7243',\n",
       " 'faradayRotation': None,\n",
       " 'fileID': 'S1A_IW_RAW__0SDV_20220114T235734_20220114T235804_041464_04EE2A_73A5-RAW',\n",
       " 'fileName': 'S1A_IW_RAW__0SDV_20220114T235734_20220114T235804_041464_04EE2A_73A5.zip',\n",
       " 'flightDirection': 'ASCENDING',\n",
       " 'frameNumber': '135',\n",
       " 'granuleType': 'SENTINEL_1A_FRAME',\n",
       " 'groupID': 'S1A_IWDV_0135_0141_041464_092',\n",
       " 'insarStackId': None,\n",
       " 'md5sum': '66c471fa02359c6c7cc12b929148a9de',\n",
       " 'offNadirAngle': None,\n",
       " 'orbit': '41464',\n",
       " 'pathNumber': '92',\n",
       " 'perpendicularBaseline': None,\n",
       " 'platform': 'Sentinel-1A',\n",
       " 'pointingAngle': None,\n",
       " 'polarization': 'VV+VH',\n",
       " 'processingDate': '2022-01-14T23:57:34.000000',\n",
       " 'processingLevel': 'RAW',\n",
       " 'sceneName': 'S1A_IW_RAW__0SDV_20220114T235734_20220114T235804_041464_04EE2A_73A5',\n",
       " 'sensor': 'C-SAR',\n",
       " 'startTime': '2022-01-14T23:57:34.000000',\n",
       " 'stopTime': '2022-01-14T23:58:04.000000',\n",
       " 'temporalBaseline': None,\n",
       " 'url': 'https://datapool.asf.alaska.edu/RAW/SA/S1A_IW_RAW__0SDV_20220114T235734_20220114T235804_041464_04EE2A_73A5.zip'}"
      ]
     },
     "execution_count": 27,
     "metadata": {},
     "output_type": "execute_result"
    }
   ],
   "source": [
    "results[3].properties"
   ]
  },
  {
   "cell_type": "code",
   "execution_count": null,
   "id": "416ef435",
   "metadata": {},
   "outputs": [],
   "source": [
    "for i in range(10):\n",
    "    if results[i].properties['frameNumber'] != '537':\n",
    "        print(i)\n",
    "        if results[i].properties['frameNumber'] != '536':\n",
    "            print(i)\n",
    "            break"
   ]
  },
  {
   "cell_type": "raw",
   "id": "31ea7248",
   "metadata": {},
   "source": [
    "STAC_URL = 'https://cmr.earthdata.nasa.gov/stac'\n",
    "api = Client.open(f'{STAC_URL}/LPCLOUD/')\n",
    "hls_collections = ['HLSL30.v2.0', 'HLSS30.v2.0']\n",
    "search_params = {\"collections\": hls_collections,\n",
    "                 \"bbox\": [105, 74, 105.01, 74.01], # list of xmin, ymin, xmax, ymax\n",
    "                 \"datetime\": [datetime(2017,1,1), datetime(2018,1,1)],\n",
    "                 \"max_items\": 500}\n",
    "search_hls = api.search(**search_params)\n",
    "hls_collection = search_hls.get_all_items()\n",
    "d = list(hls_collection)\n",
    "d[0].properties\n",
    "d[0].geometry['coordinates'][0]"
   ]
  },
  {
   "cell_type": "code",
   "execution_count": null,
   "id": "a20c7713",
   "metadata": {
    "scrolled": true
   },
   "outputs": [],
   "source": [
    "d[0].geometry"
   ]
  },
  {
   "cell_type": "code",
   "execution_count": null,
   "id": "d77b96b8",
   "metadata": {},
   "outputs": [],
   "source": [
    "from shapely.geometry import shape\n",
    "shape(d[0].geometry)"
   ]
  },
  {
   "cell_type": "markdown",
   "id": "0e70c955",
   "metadata": {},
   "source": [
    "# Visualization"
   ]
  },
  {
   "cell_type": "code",
   "execution_count": null,
   "id": "cb87c786",
   "metadata": {},
   "outputs": [],
   "source": [
    "area = Polygon(results[2].geometry['coordinates'][0])\n",
    "test = gpd.GeoDataFrame(geometry = [area], \n",
    "                     crs = CRS.from_epsg(4326))\n",
    "test.boundary.plot()"
   ]
  },
  {
   "cell_type": "code",
   "execution_count": null,
   "id": "da23dfcb",
   "metadata": {},
   "outputs": [],
   "source": [
    "df_l8 = gpd.GeoDataFrame(geometry = [area['landsat8']], \n",
    "                     crs = CRS.from_epsg(4326))\n",
    "df_wm = df_l8.to_crs(epsg=3857)"
   ]
  },
  {
   "cell_type": "code",
   "execution_count": null,
   "id": "b26460a5",
   "metadata": {},
   "outputs": [],
   "source": [
    "ax = df_wm.plot(figsize=(10, 10), alpha=0.5, edgecolor='k')\n",
    "cx.add_basemap(ax, zoom = 10)"
   ]
  },
  {
   "cell_type": "code",
   "execution_count": null,
   "id": "fe53ce90",
   "metadata": {},
   "outputs": [],
   "source": [
    "df_l8.boundary.plot()"
   ]
  },
  {
   "cell_type": "code",
   "execution_count": null,
   "id": "fc2b723f",
   "metadata": {},
   "outputs": [],
   "source": [
    "df_s1 = gpd.GeoDataFrame(geometry = [area['sentinel1']], \n",
    "                     crs = CRS.from_epsg(4326))"
   ]
  },
  {
   "cell_type": "code",
   "execution_count": null,
   "id": "137161a1",
   "metadata": {},
   "outputs": [],
   "source": [
    "df_s1.plot()"
   ]
  },
  {
   "cell_type": "code",
   "execution_count": null,
   "id": "5bbe41ef",
   "metadata": {},
   "outputs": [],
   "source": [
    "fig, ax = plt.subplots()\n",
    "\n",
    "df_l8.plot(ax =ax, alpha=.5)\n",
    "df_s1.plot(ax = ax, alpha=.5)"
   ]
  },
  {
   "cell_type": "code",
   "execution_count": null,
   "id": "4e996f4d",
   "metadata": {},
   "outputs": [],
   "source": [
    "results[0].properties"
   ]
  },
  {
   "cell_type": "code",
   "execution_count": null,
   "id": "66eb352c",
   "metadata": {},
   "outputs": [],
   "source": [
    "Point(-121.5, 34.95)\n",
    "STAC_URL = 'https://earth-search.aws.element84.com/v0'\n",
    "api = Client.open(STAC_URL)\n",
    "url_collections = ['sentinel-s2-l2a-cogs']\n",
    "search_params = {\"collections\": url_collections,\n",
    "#                  \"bbox\": [-121.5, 34.95, -120.2, 36.25], # list of xmin, ymin, xmax, ymax\n",
    "                 \"datetime\": [datetime(2016,1,1), datetime(2016,2,1)],\n",
    "                 \"max_items\": 500}\n",
    "search_hls = api.search(**search_params)\n",
    "hls_collection = search_hls.get_all_items()\n",
    "d = list(hls_collection)"
   ]
  },
  {
   "cell_type": "raw",
   "id": "0dde1316",
   "metadata": {},
   "source": [
    "STAC_URL = 'https://cmr.earthdata.nasa.gov/stac'\n",
    "api = Client.open(f'{STAC_URL}/LPCLOUD/')\n",
    "hls_collections = ['HLSS30.v2.0']\n",
    "search_params = {\"collections\": hls_collections,\n",
    "#                  \"bbox\": [35, 117, 35.01, 117.01], # list of xmin, ymin, xmax, ymax\n",
    "                 \"bbox\": [35, 117, 35.01, 117.01],\n",
    "                 \"datetime\": [datetime(2021,1,1), datetime(2022,1,1)],\n",
    "                 \"max_items\": 500}\n",
    "search_hls = api.search(**search_params)\n",
    "hls_collection = search_hls.get_all_items()\n",
    "d = list(hls_collection)\n",
    "d[0].properties\n",
    "d[0].geometry['coordinates'][0]"
   ]
  },
  {
   "cell_type": "code",
   "execution_count": null,
   "id": "c8dfe482",
   "metadata": {},
   "outputs": [],
   "source": []
  }
 ],
 "metadata": {
  "kernelspec": {
   "display_name": "Python 3 (ipykernel)",
   "language": "python",
   "name": "python3"
  },
  "language_info": {
   "codemirror_mode": {
    "name": "ipython",
    "version": 3
   },
   "file_extension": ".py",
   "mimetype": "text/x-python",
   "name": "python",
   "nbconvert_exporter": "python",
   "pygments_lexer": "ipython3",
   "version": "3.10.5"
  }
 },
 "nbformat": 4,
 "nbformat_minor": 5
}
