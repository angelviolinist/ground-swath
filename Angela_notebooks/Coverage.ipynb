{
 "cells": [
  {
   "cell_type": "code",
   "execution_count": 1,
   "id": "a3bd74de",
   "metadata": {},
   "outputs": [],
   "source": [
    "# from dem_stitcher.stitcher import stitch_dem\n",
    "# import rasterio\n",
    "# from rasterio import plot\n",
    "# import matplotlib.pyplot as plt\n",
    "from shapely.geometry import Point, Polygon\n",
    "import asf_search as asf\n",
    "from datetime import datetime, date, timedelta\n",
    "from typing import List"
   ]
  },
  {
   "cell_type": "code",
   "execution_count": 2,
   "id": "fd2135cc",
   "metadata": {},
   "outputs": [],
   "source": [
    "# for formatting the datetime object to asfsearch syntax\n",
    "def datetime2asfsearch(entered_date: datetime) -> str:\n",
    "    return datetime.strftime(entered_date,'%Y') + '-' + datetime.strftime(entered_date,'%m') + '-' + datetime.strftime(entered_date,'%d') + 'T' + datetime.strftime(entered_date,'%H') + ':' + datetime.strftime(entered_date,'%M') + ':' + datetime.strftime(entered_date,'%S') + 'Z'"
   ]
  },
  {
   "cell_type": "code",
   "execution_count": 3,
   "id": "445323ec",
   "metadata": {},
   "outputs": [],
   "source": [
    "def get_coverage(sensor: List[str], aoi: Point, date: List[datetime] = None) -> List[dict]:\n",
    "    \"\"\"\n",
    "    Sensor: choose Sentinel-1\n",
    "    AOI: enter coordinates as tuple\n",
    "    date: leave as none if searching today, else enter time range as datetime tuple: datetime(YYYY,MM,DD)\n",
    "    \"\"\"\n",
    "    freq = {}\n",
    "    next_acq = {}\n",
    "    area = {}\n",
    "    \n",
    "    for sensor_name in sensor:\n",
    "        freq[sensor_name] = ''\n",
    "        next_acq[sensor_name] = ''\n",
    "        area[sensor_name] = ''\n",
    "        \n",
    "        if date == None:\n",
    "            today = date.today()\n",
    "            start = str(today) + 'T00:00:00Z'\n",
    "            end = str(today) + 'T23:59:59Z'\n",
    "        else:\n",
    "            start = datetime2asfsearch(date[0])\n",
    "            end = datetime2asfsearch(date[1])\n",
    "\n",
    "        opts = {\n",
    "            'platform': asf.PLATFORM.SENTINEL1,\n",
    "            'maxResults': 600,\n",
    "            'start': start,\n",
    "            'end': end\n",
    "        }\n",
    "        results = asf.search(**opts)\n",
    "\n",
    "        coords = []\n",
    "        for i in range(len(results)):\n",
    "            coords.append(results[i].geometry['coordinates'][0])\n",
    "\n",
    "        # find all intersecting polygons and save as list\n",
    "        counter = 0\n",
    "        polygon_list = []\n",
    "        for i in range(len(results)):\n",
    "            poly = Polygon(coords[i])\n",
    "            if aoi.within(poly):\n",
    "                counter += 1\n",
    "                polygon_list.append(Polygon(coords[i]))\n",
    "        \n",
    "        # calculate frequency\n",
    "        if counter == 0:\n",
    "            freq[sensor_name] = 'There is no coverage during this time'\n",
    "            area[sensor_name] = 0\n",
    "        else:\n",
    "            delta = date[1].date() - date[0].date()\n",
    "            freq[sensor_name] = str(delta / counter)\n",
    "        \n",
    "        # find next acquisition time, if search time is today then returns 'N/A'\n",
    "        if date == None:\n",
    "            next_acq[sensor_name] = 'N/A'\n",
    "        else:\n",
    "            \n",
    "            acq = False\n",
    "            rep = 0\n",
    "            # put arbitrary hard stop at 10 searches (1000 days)\n",
    "            while acq == False or rep > 10:\n",
    "                \n",
    "                start = datetime2asfsearch(date[1] + timedelta(days = 100 * rep))\n",
    "                end = datetime2asfsearch(date[1] + timedelta(days = 100 * (rep + 1)))\n",
    "                opts = {\n",
    "                    'platform': asf.PLATFORM.SENTINEL1,\n",
    "                    'maxResults': 100,\n",
    "                    'start': start,\n",
    "                    'end': end\n",
    "                }\n",
    "                \n",
    "                results = asf.search(**opts)\n",
    "\n",
    "                coords = []\n",
    "                for i in range(len(results)):\n",
    "                    coords.append(results[i].geometry['coordinates'][0])\n",
    "\n",
    "                for i in range(len(results)):\n",
    "                    poly = Polygon(coords[i])\n",
    "                    if aoi.within(poly):\n",
    "                        acq = True\n",
    "                        break\n",
    "                        \n",
    "                if acq:\n",
    "                    next_acq[sensor_name] = results[i].properties['startTime']\n",
    "                    \n",
    "                rep += 1\n",
    "            if next_acq[sensor_name] == '':\n",
    "                next_acq[sensor_name] = 'Search yielded no results'\n",
    "                \n",
    "        if counter != 0:\n",
    "            \n",
    "            area[sensor_name] = polygon_list[0]\n",
    "            if counter != 1:\n",
    "                \n",
    "                for i in range(len(polygon_list) - 1):\n",
    "                    area[sensor_name] = area[sensor_name].intersection(polygon_list[i + 1])\n",
    "            \n",
    "    return freq, next_acq, area"
   ]
  },
  {
   "cell_type": "code",
   "execution_count": 4,
   "id": "7a444273",
   "metadata": {},
   "outputs": [],
   "source": [
    "freq, next_acq, area = get_coverage(['Sentinel1'],Point(105, 74),[datetime(2015,1,1), datetime(2017,1,1)])"
   ]
  },
  {
   "cell_type": "code",
   "execution_count": 5,
   "id": "1f1a6da6",
   "metadata": {},
   "outputs": [
    {
     "name": "stdout",
     "output_type": "stream",
     "text": [
      "182 days, 18:00:00\n",
      "2017-07-19T23:41:48.000000\n"
     ]
    }
   ],
   "source": [
    "print(freq['Sentinel1'])\n",
    "print(next_acq['Sentinel1'])"
   ]
  },
  {
   "cell_type": "code",
   "execution_count": 6,
   "id": "1ba4a407",
   "metadata": {},
   "outputs": [
    {
     "name": "stdout",
     "output_type": "stream",
     "text": [
      "POLYGON ((110.185722 72.48864, 98.24223869384016 73.51737254950272, 100.95087756050029 76.86508249644316, 115.437492 75.639885, 110.185722 72.48864))\n"
     ]
    }
   ],
   "source": [
    "print(area['Sentinel1'])"
   ]
  },
  {
   "cell_type": "raw",
   "id": "907df742",
   "metadata": {},
   "source": [
    "opts = {\n",
    "    'platform': asf.PLATFORM.SENTINEL1,\n",
    "    'maxResults': 10,\n",
    "    'start': '2015-01-01T00:00:00Z',\n",
    "    'end': '2016-12-31T23:59:59Z'\n",
    "}\n",
    "results = asf.search(**opts)"
   ]
  },
  {
   "cell_type": "raw",
   "id": "b352dba9",
   "metadata": {},
   "source": [
    "print(results[0])"
   ]
  },
  {
   "cell_type": "code",
   "execution_count": null,
   "id": "c29919dc",
   "metadata": {},
   "outputs": [],
   "source": []
  }
 ],
 "metadata": {
  "kernelspec": {
   "display_name": "Python 3 (ipykernel)",
   "language": "python",
   "name": "python3"
  },
  "language_info": {
   "codemirror_mode": {
    "name": "ipython",
    "version": 3
   },
   "file_extension": ".py",
   "mimetype": "text/x-python",
   "name": "python",
   "nbconvert_exporter": "python",
   "pygments_lexer": "ipython3",
   "version": "3.10.5"
  }
 },
 "nbformat": 4,
 "nbformat_minor": 5
}
