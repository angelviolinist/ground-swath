{
 "cells": [
  {
   "cell_type": "code",
   "execution_count": 1,
   "id": "55093e7e",
   "metadata": {},
   "outputs": [
    {
     "data": {
      "text/html": [
       "<style>.container { width:98% !important; }</style>"
      ],
      "text/plain": [
       "<IPython.core.display.HTML object>"
      ]
     },
     "execution_count": 1,
     "metadata": {},
     "output_type": "execute_result"
    }
   ],
   "source": [
    "from IPython.core.display import HTML\n",
    "HTML(\"<style>.container { width:98% !important; }</style>\")"
   ]
  },
  {
   "cell_type": "code",
   "execution_count": 2,
   "id": "a3bd74de",
   "metadata": {},
   "outputs": [],
   "source": [
    "import matplotlib.pyplot as plt\n",
    "from shapely.geometry import Point, Polygon, shape\n",
    "import asf_search as asf\n",
    "from datetime import datetime, date, timedelta\n",
    "from typing import List\n",
    "from pystac_client import Client, ItemSearch\n",
    "import geopandas as gpd\n",
    "from rasterio.crs import CRS\n",
    "import contextily as cx\n",
    "import pandas as pd\n",
    "from shapely.ops import unary_union\n",
    "from itertools import combinations\n",
    "import formatting as f\n",
    "import search as s"
   ]
  },
  {
   "cell_type": "code",
   "execution_count": 27,
   "id": "d6527496",
   "metadata": {},
   "outputs": [
    {
     "data": {
      "text/plain": [
       "<module 'search' from '/Users/angelac/ground-swath/Angela_notebooks/search.py'>"
      ]
     },
     "execution_count": 27,
     "metadata": {},
     "output_type": "execute_result"
    }
   ],
   "source": [
    "from importlib import reload\n",
    "reload(s)"
   ]
  },
  {
   "cell_type": "code",
   "execution_count": 26,
   "id": "f04d519f",
   "metadata": {},
   "outputs": [],
   "source": [
    "# calculate cadence\n",
    "def get_cadence(results):\n",
    "    \n",
    "    cadence = ''\n",
    "    if len(results) == 0:\n",
    "        cadence = 'There is no coverage during this time'\n",
    "\n",
    "    else:\n",
    "        if len(results) == 1:\n",
    "            try:\n",
    "                cadence = 'Only one acquisition on ' + results.startTime[0]\n",
    "            except:\n",
    "                cadence = 'Only one acquisition on ' + results.start_datetime[0]\n",
    "\n",
    "        else:\n",
    "            cadence = []\n",
    "            for i in range(len(results) - 1):\n",
    "                try:\n",
    "                    cadence.append(str(f.asfsearch2datetime(str(results.startTime[i + 1])) - f.asfsearch2datetime(str(results.startTime[i]))))\n",
    "                except:\n",
    "                    cadence.append(str(f.asfsearch2datetime(str(results.start_datetime[i + 1])) - f.asfsearch2datetime(str(results.start_datetime[i]))))\n",
    "        \n",
    "    return cadence"
   ]
  },
  {
   "cell_type": "code",
   "execution_count": 4,
   "id": "445323ec",
   "metadata": {},
   "outputs": [],
   "source": [
    "def get_coverage(sensor: List[str], aoi: Point, date: List[datetime] = None) -> List[dict]:\n",
    "    \"\"\"\n",
    "    Sensor: choose sentinel1, sentinel2, landsat8\n",
    "    AOI: enter coordinates as Polygon object\n",
    "    date: leave as none if searching today, else enter time range as datetime tuple: datetime(YYYY,MM,DD)\n",
    "    \"\"\"\n",
    "    freq = {}\n",
    "    next_acq = {}\n",
    "    area = {}\n",
    "    \n",
    "    for sensor_name in sensor:\n",
    "        freq[sensor_name] = ''\n",
    "        next_acq[sensor_name] = ''\n",
    "        area[sensor_name] = ''\n",
    "        \n",
    "        if 'landsat8' in sensor_name.lower():\n",
    "            results = s.hls_search('landsat8', aoi, date)\n",
    "            df = f.format_results_for_hls(results)\n",
    "#             print('here')\n",
    "        elif 'sentinel1' in sensor_name.lower():\n",
    "            results = s.asf_search(aoi, date)\n",
    "            df = f.format_results_for_sent1(results)\n",
    "        elif 'sentinel2' in sensor_name.lower():\n",
    "            results = s.hls_search('sentinel2', aoi, date)\n",
    "            df = f.format_results_for_hls(results)\n",
    "        \n",
    "        try:\n",
    "            df = df.dissolve(by='datetime').reset_index()\n",
    "        except:\n",
    "            df = df.dissolve(by='startTime').reset_index()\n",
    "        \n",
    "        # return cadence as string or list using get_cadence\n",
    "        freq[sensor_name] = get_cadence(df)\n",
    "        \n",
    "        # find next acquisition time, if search time is today then returns 'N/A'\n",
    "        if date == None:\n",
    "            next_acq[sensor_name] = 'N/A'\n",
    "            \n",
    "        else:\n",
    "            next_acq[sensor_name] = s.acq_search(sensor_name.lower(), aoi, date[1])\n",
    "        \n",
    "        # find area intersection for each sensor\n",
    "#         coords = [Polygon(c) for c in coords]\n",
    "#         area[sensor_name] = unary_union([a.intersection(b) for a, b in combinations(coords, 2)])\n",
    "        \n",
    "        if len(results) == 0:\n",
    "            area[sensor_name] = 0\n",
    "        else:\n",
    "            area[sensor_name] = df.geometry[0]\n",
    "            \n",
    "            if len(results) > 1:\n",
    "                \n",
    "                for i in range(len(df) - 1):\n",
    "                    area[sensor_name] = area[sensor_name].intersection(df.geometry[i + 1])\n",
    "         \n",
    "    return freq, next_acq, area"
   ]
  },
  {
   "cell_type": "markdown",
   "id": "0eb54722",
   "metadata": {},
   "source": [
    "### Polygons of areas of interest:\n",
    "\n",
    "Ridgecrest coordinates: Polygon([[-117.7167, 35.5909],[-117.6322, 35.5909],[-117.6322, 35.6452],[-117.7167, 35.6452],[-117.7167, 35.5909]])\n",
    "\n",
    "Wax lake delta: Polygon([[-91.4964, 29.4641],[-91.3849, 29.4641],[-91.3849, 29.5627],[-91.4964, 29.5627],[-91.4964, 29.4641]])\n",
    "\n",
    "Laurentides forest in Canada: Polygon([[-75.0327, 46.0832],[-74.8823, 46.0832],[-74.8823, 46.1914],[-75.0327, 46.1914],[-75.0327, 46.0832]])"
   ]
  },
  {
   "cell_type": "code",
   "execution_count": 5,
   "id": "3832aa35",
   "metadata": {},
   "outputs": [],
   "source": [
    "# create shapely and geodataframe files of areas of interest\n",
    "ridgecrest = Polygon([[-117.7167, 35.5909],[-117.6322, 35.5909],[-117.6322, 35.6452],[-117.7167, 35.6452],[-117.7167, 35.5909]])\n",
    "waxlake = Polygon([[-91.4964, 29.4641],[-91.3849, 29.4641],[-91.3849, 29.5627],[-91.4964, 29.5627],[-91.4964, 29.4641]])\n",
    "laurentides = Polygon([[-75.0327, 46.0832],[-74.8823, 46.0832],[-74.8823, 46.1914],[-75.0327, 46.1914],[-75.0327, 46.0832]])\n",
    "ridgecrest_df = f.shape2gdf(ridgecrest, 'ridgecrest')\n",
    "waxlake_df = f.shape2gdf(waxlake, 'waxlake')\n",
    "laurentides_df = f.shape2gdf(laurentides, 'laurentides')"
   ]
  },
  {
   "cell_type": "raw",
   "id": "4aebe410",
   "metadata": {
    "scrolled": true
   },
   "source": [
    "%%time\n",
    "freq1, next_acq1, area1 = get_coverage(['sentinel1','sentinel2','landsat8'],ridgecrest,[datetime(2022,1,1), datetime(2022,2,1)])\n"
   ]
  },
  {
   "cell_type": "raw",
   "id": "766c147f",
   "metadata": {},
   "source": [
    "freq2, next_acq2, area2 = get_coverage(['sentinel1','sentinel2','landsat8'],waxlake,[datetime(2022,1,1), datetime(2022,2,1)])\n"
   ]
  },
  {
   "cell_type": "code",
   "execution_count": 36,
   "id": "38dcf52a",
   "metadata": {},
   "outputs": [
    {
     "data": {
      "text/plain": [
       "<module 'search' from '/Users/angelac/ground-swath/Angela_notebooks/search.py'>"
      ]
     },
     "execution_count": 36,
     "metadata": {},
     "output_type": "execute_result"
    }
   ],
   "source": [
    "reload(s)"
   ]
  },
  {
   "cell_type": "code",
   "execution_count": 19,
   "id": "59e9c6dd",
   "metadata": {},
   "outputs": [],
   "source": [
    "a = get_cadence(sent1_forest)"
   ]
  },
  {
   "cell_type": "code",
   "execution_count": 20,
   "id": "2dc0565a",
   "metadata": {},
   "outputs": [
    {
     "data": {
      "text/plain": [
       "['11 days, 23:59:59']"
      ]
     },
     "execution_count": 20,
     "metadata": {},
     "output_type": "execute_result"
    }
   ],
   "source": [
    "a"
   ]
  },
  {
   "cell_type": "code",
   "execution_count": 37,
   "id": "e4a5d140",
   "metadata": {
    "scrolled": true
   },
   "outputs": [],
   "source": [
    "freq3, next_acq3, area3 = get_coverage(['sentinel1','sentinel2','landsat8'],laurentides,[datetime(2022,1,1), datetime(2022,2,1)])\n"
   ]
  },
  {
   "cell_type": "code",
   "execution_count": null,
   "id": "1400e774",
   "metadata": {},
   "outputs": [],
   "source": [
    "freq3['landsat8']"
   ]
  },
  {
   "cell_type": "raw",
   "id": "dc362e70",
   "metadata": {},
   "source": [
    "print(freq1['landsat8'])\n",
    "print(next_acq1['landsat8'])\n",
    "print(freq1['sentinel1'])\n",
    "print(next_acq1['sentinel1'])\n",
    "print(freq1['sentinel2'])\n",
    "print(next_acq1['sentinel2'])"
   ]
  },
  {
   "cell_type": "raw",
   "id": "0f30f498",
   "metadata": {},
   "source": [
    "print(freq2['landsat8'])\n",
    "print(next_acq2['landsat8'])\n",
    "print(freq2['sentinel1'])\n",
    "print(next_acq2['sentinel1'])\n",
    "print(freq2['sentinel2'])\n",
    "print(next_acq2['sentinel2'])"
   ]
  },
  {
   "cell_type": "raw",
   "id": "05af41e9",
   "metadata": {},
   "source": [
    "# print(area1['landsat8'])\n",
    "print(area1['sentinel1'])\n",
    "# print(area1['sentinel2'])"
   ]
  },
  {
   "cell_type": "markdown",
   "id": "5484d3fb",
   "metadata": {},
   "source": [
    "### Work in progress"
   ]
  },
  {
   "cell_type": "code",
   "execution_count": null,
   "id": "92eeddfa",
   "metadata": {},
   "outputs": [],
   "source": [
    "# print(freq3['landsat8'])\n",
    "# print(next_acq3['landsat8'])\n",
    "# print(freq3['sentinel1'])\n",
    "# print(next_acq3['sentinel1'])\n",
    "print(freq3['sentinel2'])\n",
    "print(next_acq3['sentinel2'])"
   ]
  },
  {
   "cell_type": "code",
   "execution_count": null,
   "id": "afbb8da5",
   "metadata": {},
   "outputs": [],
   "source": [
    "df = f.format_results_for_hls(d)"
   ]
  },
  {
   "cell_type": "code",
   "execution_count": null,
   "id": "401215cb",
   "metadata": {
    "scrolled": true
   },
   "outputs": [],
   "source": [
    "df"
   ]
  },
  {
   "cell_type": "code",
   "execution_count": 23,
   "id": "635c1f8a",
   "metadata": {
    "scrolled": true
   },
   "outputs": [
    {
     "data": {
      "text/plain": [
       "0    2022-01-08T15:44:18.159Z\n",
       "1    2022-01-15T15:50:27.751Z\n",
       "2    2022-01-24T15:44:13.503Z\n",
       "3    2022-01-31T15:50:22.884Z\n",
       "Name: start_datetime, dtype: object"
      ]
     },
     "execution_count": 23,
     "metadata": {},
     "output_type": "execute_result"
    }
   ],
   "source": [
    "df_dis = land8_forest.dissolve(by='datetime').reset_index()\n",
    "df_dis.start_datetime"
   ]
  },
  {
   "cell_type": "code",
   "execution_count": null,
   "id": "d8633394",
   "metadata": {},
   "outputs": [],
   "source": [
    "f.asfsearch2datetime(df_dis.start_datetime[0])"
   ]
  },
  {
   "cell_type": "code",
   "execution_count": 24,
   "id": "67173859",
   "metadata": {},
   "outputs": [],
   "source": [
    "cadence = get_cadence(df_dis)"
   ]
  },
  {
   "cell_type": "code",
   "execution_count": 25,
   "id": "e50498d3",
   "metadata": {},
   "outputs": [
    {
     "data": {
      "text/plain": [
       "['7 days, 0:06:09.592000', '8 days, 23:53:45.752000', '7 days, 0:06:09.381000']"
      ]
     },
     "execution_count": 25,
     "metadata": {},
     "output_type": "execute_result"
    }
   ],
   "source": [
    "cadence"
   ]
  },
  {
   "cell_type": "code",
   "execution_count": null,
   "id": "16d0f91f",
   "metadata": {},
   "outputs": [],
   "source": [
    "world = gpd.read_file(geopandas.datasets.get_path('naturalearth_lowres'))\n"
   ]
  },
  {
   "cell_type": "code",
   "execution_count": null,
   "id": "18438475",
   "metadata": {
    "scrolled": true
   },
   "outputs": [],
   "source": [
    "world.plot(figsize=(10,10))"
   ]
  },
  {
   "cell_type": "code",
   "execution_count": null,
   "id": "4d522ab3",
   "metadata": {
    "scrolled": true
   },
   "outputs": [],
   "source": [
    "world.head()"
   ]
  },
  {
   "cell_type": "code",
   "execution_count": null,
   "id": "c0bf36cd",
   "metadata": {
    "scrolled": true
   },
   "outputs": [],
   "source": [
    "df_cont = world.dissolve(by='continent').reset_index()\n",
    "df_cont.iloc[:1].plot()"
   ]
  },
  {
   "cell_type": "code",
   "execution_count": null,
   "id": "098156e4",
   "metadata": {
    "scrolled": true
   },
   "outputs": [],
   "source": [
    "world.dissolve(by='continent').plot(figsize=(10,10))\n",
    "# world.plot()"
   ]
  },
  {
   "cell_type": "code",
   "execution_count": null,
   "id": "35a1839d",
   "metadata": {},
   "outputs": [],
   "source": [
    "df_1.head()"
   ]
  },
  {
   "cell_type": "markdown",
   "id": "945fbf12",
   "metadata": {},
   "source": [
    "### The below cells are just for reminding what format the output results have"
   ]
  },
  {
   "cell_type": "code",
   "execution_count": 7,
   "id": "3ffd8f38",
   "metadata": {},
   "outputs": [
    {
     "name": "stdout",
     "output_type": "stream",
     "text": [
      "2\n"
     ]
    }
   ],
   "source": [
    "wkt = laurentides.wkt\n",
    "opts = {\n",
    "    'platform': asf.PLATFORM.SENTINEL1,\n",
    "    'processingLevel': [asf.PRODUCT_TYPE.SLC],\n",
    "    'beamMode': [asf.BEAMMODE.IW],\n",
    "    'start': '2022-01-01T00:00:00Z',\n",
    "    'end': '2022-02-01T23:59:59Z'\n",
    "}\n",
    "results = asf.search(intersectsWith=wkt,**opts)\n",
    "print(len(results))"
   ]
  },
  {
   "cell_type": "code",
   "execution_count": 8,
   "id": "a6bd5d0f",
   "metadata": {
    "scrolled": true
   },
   "outputs": [],
   "source": [
    "sent1_forest = f.format_results_for_sent1(results)"
   ]
  },
  {
   "cell_type": "code",
   "execution_count": 9,
   "id": "a760898f",
   "metadata": {},
   "outputs": [
    {
     "data": {
      "text/plain": [
       "pandas._libs.tslibs.timestamps.Timestamp"
      ]
     },
     "execution_count": 9,
     "metadata": {},
     "output_type": "execute_result"
    }
   ],
   "source": [
    "type(sent1_forest.startTime[0])"
   ]
  },
  {
   "cell_type": "raw",
   "id": "1c139481",
   "metadata": {},
   "source": [
    "df.to_file('test.geojson',driver='GeoJSON')"
   ]
  },
  {
   "cell_type": "code",
   "execution_count": 21,
   "id": "d0ac74ce",
   "metadata": {
    "scrolled": true
   },
   "outputs": [],
   "source": [
    "STAC_URL = 'https://cmr.earthdata.nasa.gov/stac'\n",
    "api = Client.open(f'{STAC_URL}/LPCLOUD/')\n",
    "hls_collections = ['HLSL30.v2.0']\n",
    "search_params = {\"collections\": hls_collections,\n",
    "                 \"bbox\": [-75.0327, 46.0832, -74.8823, 46.1914], # list of xmin, ymin, xmax, ymax\n",
    "                 \"datetime\": [datetime(2022,1,1), datetime(2022,2,1)],\n",
    "                 }\n",
    "search_hls = api.search(**search_params)\n",
    "hls_collection = search_hls.get_all_items()\n",
    "e = list(hls_collection)\n",
    "# d[0].properties"
   ]
  },
  {
   "cell_type": "code",
   "execution_count": 22,
   "id": "a6771b20",
   "metadata": {},
   "outputs": [
    {
     "name": "stdout",
     "output_type": "stream",
     "text": [
      "8\n"
     ]
    }
   ],
   "source": [
    "land8_forest = f.format_results_for_hls(e)"
   ]
  },
  {
   "cell_type": "raw",
   "id": "9732c0ef",
   "metadata": {},
   "source": [
    "dir(d[0])"
   ]
  },
  {
   "cell_type": "code",
   "execution_count": null,
   "id": "641974bc",
   "metadata": {
    "scrolled": true
   },
   "outputs": [],
   "source": [
    "d[1].to_dict()"
   ]
  },
  {
   "cell_type": "code",
   "execution_count": null,
   "id": "3cd8fbe3",
   "metadata": {},
   "outputs": [],
   "source": [
    "df.iloc[:2].to_file('test2.geojson',driver='GeoJSON')"
   ]
  },
  {
   "cell_type": "code",
   "execution_count": null,
   "id": "3ce7b660",
   "metadata": {},
   "outputs": [],
   "source": [
    "for i in range(len(d)):\n",
    "    print(d[i].properties['datetime'])"
   ]
  },
  {
   "cell_type": "code",
   "execution_count": null,
   "id": "eec76739",
   "metadata": {},
   "outputs": [],
   "source": [
    "shape(area1['sentinel1'])"
   ]
  },
  {
   "cell_type": "markdown",
   "id": "0e70c955",
   "metadata": {},
   "source": [
    "# Visualization"
   ]
  },
  {
   "cell_type": "code",
   "execution_count": null,
   "id": "cce77aeb",
   "metadata": {},
   "outputs": [],
   "source": [
    "# returns filled-in plot or outline of dictionary of polygons (or single polygon) with world map underneath\n",
    "def visual(area, outline = False):\n",
    "    fig, ax = plt.subplots()\n",
    "    fig.set_size_inches(10, 10)\n",
    "    \n",
    "    if type(area) == dict:\n",
    "        \n",
    "        color = ['blue','green','red']\n",
    "    \n",
    "        for num,frame in enumerate(area.keys()):\n",
    "            df = gpd.GeoDataFrame(geometry = [area[frame]],\n",
    "                                  crs = CRS.from_epsg(4326))\n",
    "            df_wm = df.to_crs(epsg = 3857)\n",
    "            if not outline:\n",
    "                df_wm.plot(ax = ax, alpha = .3, color=color[num], legend = True)\n",
    "            else:\n",
    "                df_wm.boundary.plot(ax = ax, color=color[num])\n",
    "            \n",
    "    elif type(area) == gpd.GeoSeries:\n",
    "        \n",
    "        df_wm = area.to_crs(epsg = 3857)\n",
    "        if not outline:\n",
    "            df_wm.plot(ax = ax, alpha = .3)\n",
    "        else:\n",
    "            df_wm.boundary.plot(ax = ax)\n",
    "        \n",
    "    elif type(area) == Polygon:\n",
    "        \n",
    "        df = gpd.GeoDataFrame(geometry = [area],\n",
    "                                  crs = CRS.from_epsg(4326))\n",
    "        df_wm = df.to_crs(epsg = 3857)\n",
    "        if not outline:\n",
    "            df_wm.plot(ax = ax, alpha = .3)\n",
    "        else:\n",
    "            df_wm.boundary.plot(ax = ax)\n",
    "    \n",
    "    cx.add_basemap(ax, zoom = 10)"
   ]
  },
  {
   "cell_type": "code",
   "execution_count": null,
   "id": "d659d95c",
   "metadata": {},
   "outputs": [],
   "source": [
    "# returns plot of intersection of all polygons in input dictionary\n",
    "def find_overlap(area: dict, outline = False):\n",
    "    \n",
    "    for idx,key in enumerate(area.keys()):\n",
    "        if idx == 0:\n",
    "            overlap = area[key]\n",
    "        else:\n",
    "            overlap = overlap.intersection(area[key])\n",
    "            \n",
    "    visual(overlap, outline)"
   ]
  },
  {
   "cell_type": "code",
   "execution_count": null,
   "id": "32089149",
   "metadata": {
    "scrolled": false
   },
   "outputs": [],
   "source": [
    "visual(df_dis.geometry)"
   ]
  },
  {
   "cell_type": "code",
   "execution_count": null,
   "id": "bb104c9d",
   "metadata": {},
   "outputs": [],
   "source": [
    "find_overlap(area1)"
   ]
  },
  {
   "cell_type": "code",
   "execution_count": null,
   "id": "341fbdea",
   "metadata": {},
   "outputs": [],
   "source": [
    "visual(area1['sentinel1'],outline=True)"
   ]
  },
  {
   "cell_type": "code",
   "execution_count": null,
   "id": "986379db",
   "metadata": {},
   "outputs": [],
   "source": [
    "visual(area1['sentinel1'])"
   ]
  },
  {
   "cell_type": "code",
   "execution_count": null,
   "id": "5bbe41ef",
   "metadata": {},
   "outputs": [],
   "source": [
    "visual(area1)"
   ]
  },
  {
   "cell_type": "code",
   "execution_count": null,
   "id": "a9bb0e10",
   "metadata": {
    "scrolled": false
   },
   "outputs": [],
   "source": [
    "visual(area2)"
   ]
  },
  {
   "cell_type": "code",
   "execution_count": null,
   "id": "09913ca2",
   "metadata": {
    "scrolled": false
   },
   "outputs": [],
   "source": [
    "visual(area3)"
   ]
  },
  {
   "cell_type": "markdown",
   "id": "90e0b8ae",
   "metadata": {},
   "source": [
    "### Deprecated"
   ]
  },
  {
   "cell_type": "raw",
   "id": "4884fe2d",
   "metadata": {},
   "source": [
    "Point(-121.5, 34.95)\n",
    "STAC_URL = 'https://earth-search.aws.element84.com/v0'\n",
    "api = Client.open(STAC_URL)\n",
    "url_collections = ['sentinel-s2-l2a-cogs']\n",
    "search_params = {\"collections\": url_collections,\n",
    "#                  \"bbox\": [-121.5, 34.95, -120.2, 36.25], # list of xmin, ymin, xmax, ymax\n",
    "                 \"datetime\": [datetime(2016,1,1), datetime(2016,2,1)],\n",
    "                 \"max_items\": 500}\n",
    "search_hls = api.search(**search_params)\n",
    "hls_collection = search_hls.get_all_items()\n",
    "d = list(hls_collection)"
   ]
  },
  {
   "cell_type": "raw",
   "id": "302e0774",
   "metadata": {},
   "source": [
    "# calculate cadence\n",
    "def get_cadence(results):\n",
    "    \n",
    "    cadence = ''\n",
    "    if len(results) == 0:\n",
    "        cadence = 'There is no coverage during this time'\n",
    "\n",
    "    else:\n",
    "        if len(results) == 1:\n",
    "            try:\n",
    "                cadence = 'Only one acquisition on ' + results[0].properties['startTime']\n",
    "            except:\n",
    "                cadence = 'Only one acquisition on ' + results[0].properties['start_datetime']\n",
    "\n",
    "        else:\n",
    "            cadence = []\n",
    "            for i in range(len(results) - 1):\n",
    "                try:\n",
    "                    cadence.append(str(f.asfsearch2datetime(results[i].properties['startTime']) - f.asfsearch2datetime(results[i + 1].properties['startTime'])))\n",
    "                except:\n",
    "                    cadence.append(str(f.asfsearch2datetime(results[i + 1].properties['start_datetime']) - f.asfsearch2datetime(results[i].properties['start_datetime'])))\n",
    "        \n",
    "    return cadence"
   ]
  }
 ],
 "metadata": {
  "kernelspec": {
   "display_name": "Python 3 (ipykernel)",
   "language": "python",
   "name": "python3"
  },
  "language_info": {
   "codemirror_mode": {
    "name": "ipython",
    "version": 3
   },
   "file_extension": ".py",
   "mimetype": "text/x-python",
   "name": "python",
   "nbconvert_exporter": "python",
   "pygments_lexer": "ipython3",
   "version": "3.10.5"
  }
 },
 "nbformat": 4,
 "nbformat_minor": 5
}
