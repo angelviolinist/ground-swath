{
 "cells": [
  {
   "cell_type": "code",
   "execution_count": 22,
   "id": "c7512084",
   "metadata": {},
   "outputs": [],
   "source": [
    "import asf_search as asf\n",
    "import matplotlib.pyplot as plt\n",
    "import geopandas as gpd"
   ]
  },
  {
   "cell_type": "code",
   "execution_count": 2,
   "id": "529bb1f9",
   "metadata": {},
   "outputs": [],
   "source": [
    "results = asf.search(platform=asf.PLATFORM.SENTINEL1, maxResults=100)"
   ]
  },
  {
   "cell_type": "code",
   "execution_count": 10,
   "id": "88b6dc40",
   "metadata": {},
   "outputs": [
    {
     "name": "stdout",
     "output_type": "stream",
     "text": [
      "[0, 1, 2, 3, 4, 5, 6, 7, 8, 9, 81, 82, 83, 84, 85, 86, 87, 88, 89, 90, 91, 92, 93, 94, 95, 96, 97, 98, 99]\n",
      "[0, 1, 2, 3, 4, 5, 6, 7, 8, 9, 10, 11, 12, 13, 14, 15, 16, 17, 18, 19, 20, 21, 22, 23, 24, 25, 26, 27, 28, 29, 30, 31, 32, 33, 34, 35, 36, 37, 38, 39, 40, 41, 42, 43, 44, 45, 46, 47, 48, 49, 50, 51, 52, 53, 54, 55, 56, 57, 58, 59, 60, 61, 62, 63, 64, 65, 66, 67, 68, 69, 70, 71, 72, 73, 74, 75, 76, 77, 78, 79, 80, 81, 82, 83, 84, 85, 86, 87, 88, 89, 90, 91, 92, 93, 94, 95, 96, 97, 98, 99]\n"
     ]
    }
   ],
   "source": [
    "S1A = []\n",
    "S1B = []\n",
    "ascend_ID = []\n",
    "descend_ID = []\n",
    "for i in range(len(results)):\n",
    "    if 'Sentinel-1A' in results[i].properties['platform']:\n",
    "        S1A.append(i)\n",
    "    else:\n",
    "        S1B.append(i)\n",
    "    if 'ASCENDING' in results[i].properties['flightDirection']:\n",
    "        ascend_ID.append(i)\n",
    "    else:\n",
    "        descend_ID.append(i)\n",
    "print(ascend_ID)\n",
    "print(S1A)"
   ]
  },
  {
   "cell_type": "code",
   "execution_count": 19,
   "id": "d68c5a87",
   "metadata": {},
   "outputs": [
    {
     "data": {
      "text/plain": [
       "Text(0.5, 1.0, 'Top 100 Sentinel 1 Observations')"
      ]
     },
     "execution_count": 19,
     "metadata": {},
     "output_type": "execute_result"
    },
    {
     "data": {
      "image/png": "[encoded data removed]",
      "text/plain": [
       "<Figure size 432x288 with 1 Axes>"
      ]
     },
     "metadata": {
      "needs_background": "light"
     },
     "output_type": "display_data"
    }
   ],
   "source": [
    "latitude = []\n",
    "longitude = []\n",
    "for i in range(len(results)):\n",
    "    latitude.append(float(results[i].properties['centerLat']))\n",
    "    longitude.append(float(results[i].properties['centerLon']))\n",
    "plt.figure('Observations')\n",
    "plt.clf()\n",
    "for i in range(len(results)):\n",
    "    if i in ascend_ID:\n",
    "        plt.scatter(longitude[i],latitude[i],c='red')\n",
    "    else:\n",
    "        plt.scatter(longitude[i],latitude[i],c='blue')\n",
    "plt.xlabel('Longitude')\n",
    "plt.ylabel('Latitude')\n",
    "plt.title('Top 100 Sentinel 1 Observations')"
   ]
  },
  {
   "cell_type": "code",
   "execution_count": 24,
   "id": "cc52b746",
   "metadata": {},
   "outputs": [],
   "source": [
    "metadata = []\n",
    "raw = []\n",
    "grd_hd = []\n",
    "\n",
    "for i in range(len(results)):\n",
    "    if 'METADATA_RAW' in results[i].properties['processingLevel']:\n",
    "        metadata.append(i)\n",
    "    elif 'GRD_HD' in results[i].properties['processingLevel']:\n",
    "        grd_hd.append(i)\n",
    "    else:\n",
    "        raw.append(i)\n"
   ]
  },
  {
   "cell_type": "code",
   "execution_count": null,
   "id": "03db8beb",
   "metadata": {},
   "outputs": [],
   "source": []
  }
 ],
 "metadata": {
  "kernelspec": {
   "display_name": "Python 3 (ipykernel)",
   "language": "python",
   "name": "python3"
  },
  "language_info": {
   "codemirror_mode": {
    "name": "ipython",
    "version": 3
   },
   "file_extension": ".py",
   "mimetype": "text/x-python",
   "name": "python",
   "nbconvert_exporter": "python",
   "pygments_lexer": "ipython3",
   "version": "3.10.4"
  }
 },
 "nbformat": 4,
 "nbformat_minor": 5
}
